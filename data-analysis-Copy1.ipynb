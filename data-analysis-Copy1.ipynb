{
 "cells": [
  {
   "cell_type": "markdown",
   "metadata": {},
   "source": [
    "# Data exploratory analysis\n",
    "\n",
    "The goal of this notebook is to explore the data and identify potential interesting insights"
   ]
  },
  {
   "cell_type": "code",
   "execution_count": 2,
   "metadata": {},
   "outputs": [],
   "source": [
    "import pandas as pd\n",
    "import numpy as np\n",
    "\n",
    "# Statistics + plotting\n",
    "import seaborn as sns\n",
    "import matplotlib\n",
    "import matplotlib.pyplot as plt\n",
    "\n",
    "from sklearn.linear_model import LinearRegression\n",
    "import statsmodels.api as sm"
   ]
  },
  {
   "cell_type": "markdown",
   "metadata": {},
   "source": [
    "## 1. Import data"
   ]
  },
  {
   "cell_type": "code",
   "execution_count": 7,
   "metadata": {},
   "outputs": [
    {
     "data": {
      "text/html": [
       "<div>\n",
       "<style scoped>\n",
       "    .dataframe tbody tr th:only-of-type {\n",
       "        vertical-align: middle;\n",
       "    }\n",
       "\n",
       "    .dataframe tbody tr th {\n",
       "        vertical-align: top;\n",
       "    }\n",
       "\n",
       "    .dataframe thead th {\n",
       "        text-align: right;\n",
       "    }\n",
       "</style>\n",
       "<table border=\"1\" class=\"dataframe\">\n",
       "  <thead>\n",
       "    <tr style=\"text-align: right;\">\n",
       "      <th></th>\n",
       "      <th>Date</th>\n",
       "      <th>Trend</th>\n",
       "      <th>Category</th>\n",
       "      <th>Sub-category</th>\n",
       "      <th>Keyword</th>\n",
       "      <th>Search Vol (min)</th>\n",
       "      <th>Search Vol (max)</th>\n",
       "      <th>Number of templates</th>\n",
       "      <th>Search Vol (avge)</th>\n",
       "      <th>Search Vol</th>\n",
       "      <th>isPartial</th>\n",
       "      <th>index</th>\n",
       "    </tr>\n",
       "  </thead>\n",
       "  <tbody>\n",
       "    <tr>\n",
       "      <th>0</th>\n",
       "      <td>2015-07-12</td>\n",
       "      <td>21</td>\n",
       "      <td>Video</td>\n",
       "      <td>Facebook Video</td>\n",
       "      <td>Facebook Video template</td>\n",
       "      <td>23.076923</td>\n",
       "      <td>230.769231</td>\n",
       "      <td>145</td>\n",
       "      <td>126</td>\n",
       "      <td>48.461538</td>\n",
       "      <td>False</td>\n",
       "      <td>NaN</td>\n",
       "    </tr>\n",
       "    <tr>\n",
       "      <th>1</th>\n",
       "      <td>2015-07-19</td>\n",
       "      <td>31</td>\n",
       "      <td>Video</td>\n",
       "      <td>Facebook Video</td>\n",
       "      <td>Facebook Video template</td>\n",
       "      <td>23.076923</td>\n",
       "      <td>230.769231</td>\n",
       "      <td>145</td>\n",
       "      <td>126</td>\n",
       "      <td>71.538462</td>\n",
       "      <td>False</td>\n",
       "      <td>NaN</td>\n",
       "    </tr>\n",
       "    <tr>\n",
       "      <th>2</th>\n",
       "      <td>2015-07-26</td>\n",
       "      <td>20</td>\n",
       "      <td>Video</td>\n",
       "      <td>Facebook Video</td>\n",
       "      <td>Facebook Video template</td>\n",
       "      <td>23.076923</td>\n",
       "      <td>230.769231</td>\n",
       "      <td>145</td>\n",
       "      <td>126</td>\n",
       "      <td>46.153846</td>\n",
       "      <td>False</td>\n",
       "      <td>NaN</td>\n",
       "    </tr>\n",
       "    <tr>\n",
       "      <th>3</th>\n",
       "      <td>2015-08-02</td>\n",
       "      <td>41</td>\n",
       "      <td>Video</td>\n",
       "      <td>Facebook Video</td>\n",
       "      <td>Facebook Video template</td>\n",
       "      <td>23.076923</td>\n",
       "      <td>230.769231</td>\n",
       "      <td>145</td>\n",
       "      <td>126</td>\n",
       "      <td>94.615385</td>\n",
       "      <td>False</td>\n",
       "      <td>NaN</td>\n",
       "    </tr>\n",
       "    <tr>\n",
       "      <th>4</th>\n",
       "      <td>2015-08-09</td>\n",
       "      <td>27</td>\n",
       "      <td>Video</td>\n",
       "      <td>Facebook Video</td>\n",
       "      <td>Facebook Video template</td>\n",
       "      <td>23.076923</td>\n",
       "      <td>230.769231</td>\n",
       "      <td>145</td>\n",
       "      <td>126</td>\n",
       "      <td>62.307692</td>\n",
       "      <td>False</td>\n",
       "      <td>NaN</td>\n",
       "    </tr>\n",
       "  </tbody>\n",
       "</table>\n",
       "</div>"
      ],
      "text/plain": [
       "         Date  Trend Category    Sub-category                  Keyword  \\\n",
       "0  2015-07-12     21    Video  Facebook Video  Facebook Video template   \n",
       "1  2015-07-19     31    Video  Facebook Video  Facebook Video template   \n",
       "2  2015-07-26     20    Video  Facebook Video  Facebook Video template   \n",
       "3  2015-08-02     41    Video  Facebook Video  Facebook Video template   \n",
       "4  2015-08-09     27    Video  Facebook Video  Facebook Video template   \n",
       "\n",
       "   Search Vol (min)  Search Vol (max)  Number of templates  Search Vol (avge)  \\\n",
       "0         23.076923        230.769231                  145                126   \n",
       "1         23.076923        230.769231                  145                126   \n",
       "2         23.076923        230.769231                  145                126   \n",
       "3         23.076923        230.769231                  145                126   \n",
       "4         23.076923        230.769231                  145                126   \n",
       "\n",
       "   Search Vol  isPartial  index  \n",
       "0   48.461538      False    NaN  \n",
       "1   71.538462      False    NaN  \n",
       "2   46.153846      False    NaN  \n",
       "3   94.615385      False    NaN  \n",
       "4   62.307692      False    NaN  "
      ]
     },
     "execution_count": 7,
     "metadata": {},
     "output_type": "execute_result"
    }
   ],
   "source": [
    "# Open categories.cvs\n",
    "trends_all = pd.read_csv('../project-4/data/clean-data/trends-all.csv')\n",
    "\n",
    "# Explore data\n",
    "\n",
    "trends_all.drop('Unnamed: 0', axis=1, inplace=True)\n",
    "trends_all.head()"
   ]
  },
  {
   "cell_type": "markdown",
   "metadata": {},
   "source": [
    "## 2. Checking data types"
   ]
  },
  {
   "cell_type": "code",
   "execution_count": 10,
   "metadata": {},
   "outputs": [
    {
     "data": {
      "text/plain": [
       "Date                   datetime64[ns]\n",
       "Trend                           int64\n",
       "Category                       object\n",
       "Sub-category                   object\n",
       "Keyword                        object\n",
       "Search Vol (min)              float64\n",
       "Search Vol (max)              float64\n",
       "Number of templates             int64\n",
       "Search Vol (avge)               int64\n",
       "Search Vol                    float64\n",
       "isPartial                        bool\n",
       "index                         float64\n",
       "dtype: object"
      ]
     },
     "execution_count": 10,
     "metadata": {},
     "output_type": "execute_result"
    }
   ],
   "source": [
    "trends_all.dtypes"
   ]
  },
  {
   "cell_type": "code",
   "execution_count": 11,
   "metadata": {},
   "outputs": [],
   "source": [
    "trends_all['Date'] = pd.to_datetime(trends_all['Date'])"
   ]
  },
  {
   "cell_type": "markdown",
   "metadata": {},
   "source": [
    "## 3. Basic plotting"
   ]
  },
  {
   "cell_type": "markdown",
   "metadata": {},
   "source": [
    "### 3.1 Search volume evolution"
   ]
  },
  {
   "cell_type": "code",
   "execution_count": null,
   "metadata": {},
   "outputs": [],
   "source": [
    "# Volume of searchs\n",
    "plt.figure(figsize=(15,5))\n",
    "\n",
    "for sub in trends:\n",
    "    try:\n",
    "    # Create a graph with the volume of searches\n",
    "        ax = sns.lineplot(data=trends[sub], \n",
    "                          x='Date', \n",
    "                          y='Search Vol')\n",
    "    except:\n",
    "        pass"
   ]
  },
  {
   "cell_type": "markdown",
   "metadata": {},
   "source": [
    "Resume sub-categorie has much more search vol than the rest. For the sake of the analysis, could be interesting to add those sub-categories with less than 10.000 monthly visits."
   ]
  },
  {
   "cell_type": "code",
   "execution_count": null,
   "metadata": {},
   "outputs": [],
   "source": [
    "# Same plot with subcategories with less than 10.000 monthly searches on average\n",
    "trends_gp = {'Under 1k': pd.DataFrame(columns=['Date', 'Search Vol']),\n",
    "             'Under 10k': pd.DataFrame(columns=['Date', 'Search Vol']),\n",
    "             'Under 100k': pd.DataFrame(columns=['Date', 'Search Vol'])}\n",
    "\n",
    "# Aggregate DataFrames by groups depending on Search Vol.\n",
    "for sub in trends:\n",
    "    try:\n",
    "        # Subcategories with an avge of less than 1k monthly seaches\n",
    "        if (trends[sub]['Search Vol'].mean() < 1000):\n",
    "            trends_gp['Under 1k'] = pd.concat([trends_gp['Under 1k'], trends[sub]])\n",
    "        \n",
    "        # Subcategories with an avge of less than 10k monthly seaches\n",
    "        elif (trends[sub]['Search Vol'].mean() < 10000):\n",
    "            trends_gp['Under 10k'] = pd.concat([trends_gp['Under 10k'], trends[sub]])\n",
    "    \n",
    "        # Subcategories with an avge of less than 100k monthly seaches\n",
    "        elif ((trends[sub]['Search Vol'].mean() < 100000) & (trends[sub]['Search Vol'].mean() > 10000)):\n",
    "            trends_gp['Under 100k'] = pd.concat([trends_gp['Under 100k'], trends[sub]])\n",
    "            \n",
    "        # The rest will be analysed individually\n",
    "        else:\n",
    "            trends_gp[sub] = trends[sub]\n",
    "\n",
    "    except:\n",
    "        pass\n",
    "    \n",
    "# Grouping by day and summing 'Seatch Vol.'\n",
    "trends_gp['Under 1k'] = trends_gp['Under 1k'].groupby('Date', as_index=False).agg('sum')\n",
    "trends_gp['Under 10k'] = trends_gp['Under 10k'].groupby('Date', as_index=False).agg('sum')\n",
    "trends_gp['Under 100k'] = trends_gp['Under 100k'].groupby('Date', as_index=False).agg('sum')"
   ]
  },
  {
   "cell_type": "code",
   "execution_count": null,
   "metadata": {},
   "outputs": [],
   "source": [
    "# Checking the results\n",
    "trends_gp['Under 100k'].head()"
   ]
  },
  {
   "cell_type": "markdown",
   "metadata": {},
   "source": [
    "Now we have a dictionary with a DataFrame that aggregates the subcategories with less than 1k monthly searches as 'Under 1k', less than 10k monthly searches as 'Under 10k', a DataFrame that aggregates the subcategories with less that 100k monthly searches as 'Under 100k' and individual DataFrames for those subcategories with more than 100k monthly searches."
   ]
  },
  {
   "cell_type": "code",
   "execution_count": null,
   "metadata": {},
   "outputs": [],
   "source": [
    "# Plot \n",
    "plt.figure(figsize=(15,5))\n",
    "\n",
    "for sub in trends_gp:\n",
    "    \n",
    "    # Create a graph with the volume of searches\n",
    "    ax = sns.lineplot(data=trends_gp[sub], \n",
    "                  x='Date', \n",
    "                  y='Search Vol')\n",
    "    \n",
    "## [BONUS] - Add legends"
   ]
  },
  {
   "cell_type": "markdown",
   "metadata": {},
   "source": [
    "It would be useful to list the subcategories in each category."
   ]
  },
  {
   "cell_type": "code",
   "execution_count": null,
   "metadata": {},
   "outputs": [],
   "source": [
    "# [BONUS] - List a summary with the categories in each bin. [Under 1k] | [Under 10k] | [Under 100k]"
   ]
  },
  {
   "cell_type": "markdown",
   "metadata": {},
   "source": [
    "### 3.2 Search volume aggregated trend"
   ]
  },
  {
   "cell_type": "code",
   "execution_count": null,
   "metadata": {},
   "outputs": [],
   "source": [
    "# Combine all searches and find the trend. \n",
    "# We will be able to compare each sub_category with the overall trend\n",
    "# Statistical analysis"
   ]
  },
  {
   "cell_type": "code",
   "execution_count": null,
   "metadata": {},
   "outputs": [],
   "source": [
    "trends_gp['Total'] = pd.DataFrame(columns=['Date', 'Search Vol'])\n",
    "\n",
    "# Concat all DataFrames into one\n",
    "for sub in trends:\n",
    "    trends_gp['Total'] = pd.concat([trends_gp['Total'], trends[sub]])\n",
    "\n",
    "trends_gp['Total'] = trends_gp['Total'].groupby('Date', as_index=False).agg('sum')"
   ]
  },
  {
   "cell_type": "markdown",
   "metadata": {},
   "source": [
    "#### Calculate the fitted line"
   ]
  },
  {
   "cell_type": "code",
   "execution_count": null,
   "metadata": {},
   "outputs": [],
   "source": [
    "# Create a constant\n",
    "trends_gp['Total'] = sm.add_constant(trends_gp['Total'], has_constant='add')\n",
    "trends_gp['Total'] = trends_gp['Total'].assign(t=range(1, len(trends_gp['Total']) + 1))\n",
    "# sub_dic_gp['Total'] = sub_dic_gp['Total'].assign(t2=range(1, (len(sub_dic_gp['Total']) + 1)**2))"
   ]
  },
  {
   "cell_type": "code",
   "execution_count": null,
   "metadata": {},
   "outputs": [],
   "source": [
    "# Run OLS\n",
    "X = trends_gp['Total'][[\"const\", \"t\"]]\n",
    "y = trends_gp['Total'][\"Search Vol\"]\n",
    "\n",
    "lin_reg = sm.OLS(y, X)\n",
    "results_total = lin_reg.fit()\n",
    "\n",
    "results_total.summary()"
   ]
  },
  {
   "cell_type": "code",
   "execution_count": null,
   "metadata": {},
   "outputs": [],
   "source": [
    "trends_gp['Total'] = trends_gp['Total'].assign(y_hat=results_total.predict(X))\n",
    "\n",
    "plt.figure(figsize=(15,5))\n",
    "    \n",
    "sns.scatterplot(data=trends_gp['Total'], \n",
    "                x='t', \n",
    "                y='Search Vol');\n",
    "\n",
    "sns.lineplot(data=trends_gp['Total'],\n",
    "             x='t',\n",
    "             y=\"y_hat\",\n",
    "             color=\"green\");"
   ]
  },
  {
   "cell_type": "code",
   "execution_count": null,
   "metadata": {},
   "outputs": [],
   "source": [
    "# Find if there is a correlation between 'Templates' that Canva is offering and 'Search Vol' \n",
    "# We will be able to do a linear regression\n",
    "# Statistical analysis"
   ]
  },
  {
   "cell_type": "markdown",
   "metadata": {},
   "source": [
    "### 3.3 Search Volume vs. Number of Templates\n",
    "\n",
    "Is there a correlation between the Search Vol for the Keywords assigned to the category and the number of templates that Canva is offering? Is it statistically significant?\n",
    "\n",
    "We need to add a column with the Search Vol (avge) to the categories DataFrame"
   ]
  },
  {
   "cell_type": "code",
   "execution_count": null,
   "metadata": {},
   "outputs": [],
   "source": [
    "# Add a column with the Search Vol (avge)\n",
    "categories['Search Vol (mean)'] = (categories['Search Vol (max)'] - categories['Search Vol (min)']) / 2 + categories['Search Vol (min)']\n",
    "\n",
    "# Bonus, add the Search Vol with the trends"
   ]
  },
  {
   "cell_type": "code",
   "execution_count": null,
   "metadata": {},
   "outputs": [],
   "source": [
    "categories.head()"
   ]
  },
  {
   "cell_type": "code",
   "execution_count": null,
   "metadata": {},
   "outputs": [],
   "source": [
    "# Scatter plot to infere if it makes sense to calculate the fitted line\n",
    "plt.figure(figsize=(15,5))\n",
    "    \n",
    "sns.scatterplot(data=categories, \n",
    "                x='Search Vol (mean)', \n",
    "                y='Number of templates',\n",
    "                hue='Category');"
   ]
  },
  {
   "cell_type": "code",
   "execution_count": null,
   "metadata": {},
   "outputs": [],
   "source": [
    "# See if there is a correlation between the two variables\n",
    "categories = sm.add_constant(categories, has_constant='add')\n",
    "\n",
    "# Run OLS\n",
    "lin_reg = sm.OLS(categories[\"Number of templates\"],\n",
    "                 categories[[\"const\", \"Search Vol (mean)\"]])\n",
    "\n",
    "result = lin_reg.fit()\n",
    "\n",
    "result.summary()"
   ]
  },
  {
   "cell_type": "code",
   "execution_count": null,
   "metadata": {},
   "outputs": [],
   "source": [
    "categories = categories.assign(y_hat=result.predict(categories[[\"const\", \"Search Vol (mean)\"]]))"
   ]
  },
  {
   "cell_type": "code",
   "execution_count": null,
   "metadata": {},
   "outputs": [],
   "source": [
    "plt.figure(figsize=(15,5))\n",
    "    \n",
    "sns.scatterplot(data=categories, \n",
    "                x='Search Vol (mean)', \n",
    "                y='Number of templates',\n",
    "                hue='Category');\n",
    "\n",
    "sns.lineplot(data=categories,\n",
    "             x='Search Vol (mean)',\n",
    "             y=\"y_hat\",\n",
    "             color=\"g\");"
   ]
  },
  {
   "cell_type": "markdown",
   "metadata": {},
   "source": [
    "Writte CONCLUSION"
   ]
  },
  {
   "cell_type": "code",
   "execution_count": 3,
   "metadata": {},
   "outputs": [
    {
     "data": {
      "text/html": [
       "<div>\n",
       "<style scoped>\n",
       "    .dataframe tbody tr th:only-of-type {\n",
       "        vertical-align: middle;\n",
       "    }\n",
       "\n",
       "    .dataframe tbody tr th {\n",
       "        vertical-align: top;\n",
       "    }\n",
       "\n",
       "    .dataframe thead th {\n",
       "        text-align: right;\n",
       "    }\n",
       "</style>\n",
       "<table border=\"1\" class=\"dataframe\">\n",
       "  <thead>\n",
       "    <tr style=\"text-align: right;\">\n",
       "      <th></th>\n",
       "      <th>Date</th>\n",
       "      <th>Trend</th>\n",
       "      <th>isPartial</th>\n",
       "      <th>Category</th>\n",
       "      <th>Sub-category</th>\n",
       "      <th>Keyword</th>\n",
       "      <th>Search Vol (min)</th>\n",
       "      <th>Search Vol (max)</th>\n",
       "      <th>Number of templates</th>\n",
       "      <th>Search Vol (avge)</th>\n",
       "      <th>Search Vol</th>\n",
       "    </tr>\n",
       "  </thead>\n",
       "  <tbody>\n",
       "    <tr>\n",
       "      <th>0</th>\n",
       "      <td>2015-07-12</td>\n",
       "      <td>0</td>\n",
       "      <td>False</td>\n",
       "      <td>Ads</td>\n",
       "      <td>Instagram Ad</td>\n",
       "      <td>Instagram Ad template</td>\n",
       "      <td>230.769231</td>\n",
       "      <td>2307.692308</td>\n",
       "      <td>111</td>\n",
       "      <td>1269</td>\n",
       "      <td>0.000000</td>\n",
       "    </tr>\n",
       "    <tr>\n",
       "      <th>1</th>\n",
       "      <td>2015-07-19</td>\n",
       "      <td>0</td>\n",
       "      <td>False</td>\n",
       "      <td>Ads</td>\n",
       "      <td>Instagram Ad</td>\n",
       "      <td>Instagram Ad template</td>\n",
       "      <td>230.769231</td>\n",
       "      <td>2307.692308</td>\n",
       "      <td>111</td>\n",
       "      <td>1269</td>\n",
       "      <td>0.000000</td>\n",
       "    </tr>\n",
       "    <tr>\n",
       "      <th>2</th>\n",
       "      <td>2015-07-26</td>\n",
       "      <td>0</td>\n",
       "      <td>False</td>\n",
       "      <td>Ads</td>\n",
       "      <td>Instagram Ad</td>\n",
       "      <td>Instagram Ad template</td>\n",
       "      <td>230.769231</td>\n",
       "      <td>2307.692308</td>\n",
       "      <td>111</td>\n",
       "      <td>1269</td>\n",
       "      <td>0.000000</td>\n",
       "    </tr>\n",
       "    <tr>\n",
       "      <th>3</th>\n",
       "      <td>2015-08-02</td>\n",
       "      <td>0</td>\n",
       "      <td>False</td>\n",
       "      <td>Ads</td>\n",
       "      <td>Instagram Ad</td>\n",
       "      <td>Instagram Ad template</td>\n",
       "      <td>230.769231</td>\n",
       "      <td>2307.692308</td>\n",
       "      <td>111</td>\n",
       "      <td>1269</td>\n",
       "      <td>0.000000</td>\n",
       "    </tr>\n",
       "    <tr>\n",
       "      <th>4</th>\n",
       "      <td>2015-08-09</td>\n",
       "      <td>0</td>\n",
       "      <td>False</td>\n",
       "      <td>Ads</td>\n",
       "      <td>Instagram Ad</td>\n",
       "      <td>Instagram Ad template</td>\n",
       "      <td>230.769231</td>\n",
       "      <td>2307.692308</td>\n",
       "      <td>111</td>\n",
       "      <td>1269</td>\n",
       "      <td>0.000000</td>\n",
       "    </tr>\n",
       "    <tr>\n",
       "      <th>...</th>\n",
       "      <td>...</td>\n",
       "      <td>...</td>\n",
       "      <td>...</td>\n",
       "      <td>...</td>\n",
       "      <td>...</td>\n",
       "      <td>...</td>\n",
       "      <td>...</td>\n",
       "      <td>...</td>\n",
       "      <td>...</td>\n",
       "      <td>...</td>\n",
       "      <td>...</td>\n",
       "    </tr>\n",
       "    <tr>\n",
       "      <th>256</th>\n",
       "      <td>2020-06-07</td>\n",
       "      <td>20</td>\n",
       "      <td>False</td>\n",
       "      <td>Ads</td>\n",
       "      <td>Instagram Ad</td>\n",
       "      <td>Instagram Ad template</td>\n",
       "      <td>230.769231</td>\n",
       "      <td>2307.692308</td>\n",
       "      <td>111</td>\n",
       "      <td>1269</td>\n",
       "      <td>461.538462</td>\n",
       "    </tr>\n",
       "    <tr>\n",
       "      <th>257</th>\n",
       "      <td>2020-06-14</td>\n",
       "      <td>20</td>\n",
       "      <td>False</td>\n",
       "      <td>Ads</td>\n",
       "      <td>Instagram Ad</td>\n",
       "      <td>Instagram Ad template</td>\n",
       "      <td>230.769231</td>\n",
       "      <td>2307.692308</td>\n",
       "      <td>111</td>\n",
       "      <td>1269</td>\n",
       "      <td>461.538462</td>\n",
       "    </tr>\n",
       "    <tr>\n",
       "      <th>258</th>\n",
       "      <td>2020-06-21</td>\n",
       "      <td>31</td>\n",
       "      <td>False</td>\n",
       "      <td>Ads</td>\n",
       "      <td>Instagram Ad</td>\n",
       "      <td>Instagram Ad template</td>\n",
       "      <td>230.769231</td>\n",
       "      <td>2307.692308</td>\n",
       "      <td>111</td>\n",
       "      <td>1269</td>\n",
       "      <td>715.384615</td>\n",
       "    </tr>\n",
       "    <tr>\n",
       "      <th>259</th>\n",
       "      <td>2020-06-28</td>\n",
       "      <td>42</td>\n",
       "      <td>False</td>\n",
       "      <td>Ads</td>\n",
       "      <td>Instagram Ad</td>\n",
       "      <td>Instagram Ad template</td>\n",
       "      <td>230.769231</td>\n",
       "      <td>2307.692308</td>\n",
       "      <td>111</td>\n",
       "      <td>1269</td>\n",
       "      <td>969.230769</td>\n",
       "    </tr>\n",
       "    <tr>\n",
       "      <th>260</th>\n",
       "      <td>2020-07-05</td>\n",
       "      <td>75</td>\n",
       "      <td>True</td>\n",
       "      <td>Ads</td>\n",
       "      <td>Instagram Ad</td>\n",
       "      <td>Instagram Ad template</td>\n",
       "      <td>230.769231</td>\n",
       "      <td>2307.692308</td>\n",
       "      <td>111</td>\n",
       "      <td>1269</td>\n",
       "      <td>1730.769231</td>\n",
       "    </tr>\n",
       "  </tbody>\n",
       "</table>\n",
       "<p>261 rows × 11 columns</p>\n",
       "</div>"
      ],
      "text/plain": [
       "           Date  Trend  isPartial Category  Sub-category  \\\n",
       "0    2015-07-12      0      False      Ads  Instagram Ad   \n",
       "1    2015-07-19      0      False      Ads  Instagram Ad   \n",
       "2    2015-07-26      0      False      Ads  Instagram Ad   \n",
       "3    2015-08-02      0      False      Ads  Instagram Ad   \n",
       "4    2015-08-09      0      False      Ads  Instagram Ad   \n",
       "..          ...    ...        ...      ...           ...   \n",
       "256  2020-06-07     20      False      Ads  Instagram Ad   \n",
       "257  2020-06-14     20      False      Ads  Instagram Ad   \n",
       "258  2020-06-21     31      False      Ads  Instagram Ad   \n",
       "259  2020-06-28     42      False      Ads  Instagram Ad   \n",
       "260  2020-07-05     75       True      Ads  Instagram Ad   \n",
       "\n",
       "                   Keyword  Search Vol (min)  Search Vol (max)  \\\n",
       "0    Instagram Ad template        230.769231       2307.692308   \n",
       "1    Instagram Ad template        230.769231       2307.692308   \n",
       "2    Instagram Ad template        230.769231       2307.692308   \n",
       "3    Instagram Ad template        230.769231       2307.692308   \n",
       "4    Instagram Ad template        230.769231       2307.692308   \n",
       "..                     ...               ...               ...   \n",
       "256  Instagram Ad template        230.769231       2307.692308   \n",
       "257  Instagram Ad template        230.769231       2307.692308   \n",
       "258  Instagram Ad template        230.769231       2307.692308   \n",
       "259  Instagram Ad template        230.769231       2307.692308   \n",
       "260  Instagram Ad template        230.769231       2307.692308   \n",
       "\n",
       "     Number of templates  Search Vol (avge)   Search Vol  \n",
       "0                    111               1269     0.000000  \n",
       "1                    111               1269     0.000000  \n",
       "2                    111               1269     0.000000  \n",
       "3                    111               1269     0.000000  \n",
       "4                    111               1269     0.000000  \n",
       "..                   ...                ...          ...  \n",
       "256                  111               1269   461.538462  \n",
       "257                  111               1269   461.538462  \n",
       "258                  111               1269   715.384615  \n",
       "259                  111               1269   969.230769  \n",
       "260                  111               1269  1730.769231  \n",
       "\n",
       "[261 rows x 11 columns]"
      ]
     },
     "execution_count": 3,
     "metadata": {},
     "output_type": "execute_result"
    }
   ],
   "source": [
    "## LEGACY code\n",
    "\n",
    "# Open .csv with Search trends and store them into a list of dics\n",
    "\n",
    "csv_names = []\n",
    "trends = {}\n",
    "\n",
    "# Replace ' ' for '-'\n",
    "for sub in categories['Sub-category']:\n",
    "    csv_names.append(sub.replace(' ', '-').lower())\n",
    "    \n",
    "# Import .csv files\n",
    "for name, sub in zip(csv_names, categories['Sub-category']):\n",
    "    trends.update({sub: pd.read_csv(f'../project-4/data/clean-data/{name}.csv')})\n",
    "    trends[sub].drop('Unnamed: 0', axis=1, inplace=True)\n",
    "    \n",
    "# Explore the data\n",
    "trends['Instagram Ad']"
   ]
  }
 ],
 "metadata": {
  "kernelspec": {
   "display_name": "Python 3",
   "language": "python",
   "name": "python3"
  },
  "language_info": {
   "codemirror_mode": {
    "name": "ipython",
    "version": 3
   },
   "file_extension": ".py",
   "mimetype": "text/x-python",
   "name": "python",
   "nbconvert_exporter": "python",
   "pygments_lexer": "ipython3",
   "version": "3.8.3"
  }
 },
 "nbformat": 4,
 "nbformat_minor": 4
}
