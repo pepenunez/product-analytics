{
 "cells": [
  {
   "cell_type": "markdown",
   "metadata": {},
   "source": [
    "# Data exploratory analysis\n",
    "\n",
    "The goal of this notebook is to explore the data and identify potential interesting insights"
   ]
  },
  {
   "cell_type": "code",
   "execution_count": 57,
   "metadata": {},
   "outputs": [],
   "source": [
    "import pandas as pd\n",
    "import requests as req\n",
    "import numpy as np\n",
    "\n",
    "# Scrapping packages\n",
    "from bs4 import BeautifulSoup as bs\n",
    "\n",
    "# Google Trends API connection\n",
    "# documentation -> https://pypi.org/project/pytrends/#api-methods\n",
    "from pytrends.request import TrendReq\n",
    "pytrends = TrendReq()\n",
    "\n",
    "# Statistics + plotting\n",
    "import matplotlib\n",
    "import matplotlib.pyplot as plt\n",
    "from sklearn.linear_model import LinearRegression\n",
    "import statsmodels.api as sm\n",
    "\n",
    "\n",
    "##### CLEAN IT"
   ]
  },
  {
   "cell_type": "markdown",
   "metadata": {},
   "source": [
    "## Calculate min, avg etx"
   ]
  },
  {
   "cell_type": "code",
   "execution_count": null,
   "metadata": {},
   "outputs": [],
   "source": [
    "# Populate the DataFrames with seach volumes\n",
    "for sub in sub_dic:\n",
    "    \n",
    "    # Create new columns\n",
    "    sub_dic[sub] = (sub_dic[sub]\n",
    "           .assign(Min=round((search_vol[sub]['min']*12) / 52))\n",
    "           .assign(Max=round((search_vol[sub]['max']*12) / 52))\n",
    "           .assign(Average=round((((search_vol[sub]['min'] * 12) / 52) + ((search_vol[sub]['max']*12)/52)) / 2))\n",
    "               )\n",
    "    \n",
    "    # Generate new column with random per week\n",
    "    sub_dic[sub]['Random'] = [np.random.randint(sub_dic[sub]['Min'].min(), sub_dic[sub]['Max'].max()) for row in range(len(sub_dic[sub]))]\n",
    "    \n",
    "    # Create a colum trend * mean\n",
    "    sub_dic[sub]['Search Vol'] = round((sub_dic[sub]['Trend'] / 100) * sub_dic[sub]['Average'], 0)"
   ]
  },
  {
   "cell_type": "code",
   "execution_count": null,
   "metadata": {},
   "outputs": [],
   "source": [
    "# Check the output\n",
    "sub_dic['a_4'].head()"
   ]
  },
  {
   "cell_type": "markdown",
   "metadata": {},
   "source": [
    "# Basic plotting"
   ]
  },
  {
   "cell_type": "code",
   "execution_count": null,
   "metadata": {},
   "outputs": [],
   "source": [
    "import seaborn as sns\n",
    "import matplotlib.pyplot as plt"
   ]
  },
  {
   "cell_type": "code",
   "execution_count": null,
   "metadata": {},
   "outputs": [],
   "source": [
    "# Volume of searchs\n",
    "sub_colors = {'presentation': 'red', \n",
    "              'a_4': 'orange', \n",
    "              'letter': 'blue', \n",
    "              'letterhead': 'grey',\n",
    "              'resume': 'black',\n",
    "              'presentation_4_3': 'yellow',\n",
    "              'report': 'purple',\n",
    "              'daily_report': 'brown',\n",
    "              'memo': 'green',\n",
    "              'invoice': 'magenta'}\n",
    "\n",
    "plt.figure(figsize=(15,5))\n",
    "\n",
    "for sub, colr in zip(sub_dic, sub_colors.values()):\n",
    "    \n",
    "    # Create a graph with the volume of searches\n",
    "    ax = sns.lineplot(data=sub_dic[sub], \n",
    "                  x='Date', \n",
    "                  y='Search Vol',\n",
    "                  color=colr)\n",
    "    \n",
    "# [Bonus] --> Adding legen with sub category name"
   ]
  },
  {
   "cell_type": "markdown",
   "metadata": {},
   "source": [
    "Resume and Invoice sub-categories have much more search vol than the rest. For the sake of the analysis, could be interesting to add those sub-categories with less than 10.000 monthly visits."
   ]
  },
  {
   "cell_type": "code",
   "execution_count": null,
   "metadata": {},
   "outputs": [],
   "source": [
    "# Same plot with subcategories with less than 10.000 monthly searches on average\n",
    "sub_dic_gp = {'Under 10k': pd.DataFrame(columns=['Date', 'Search Vol']),\n",
    "              'Under 100k': pd.DataFrame(columns=['Date', 'Search Vol'])}\n",
    "\n",
    "# Aggregate DataFrames by groups depending on Search Vol.\n",
    "for sub, colr in zip(sub_dic, sub_colors.values()):\n",
    "    \n",
    "    # Subcategories with an avge of less than 10k monthly seaches\n",
    "    if (sub_dic[sub]['Search Vol'].mean() * 52) / 12 < 10000:\n",
    "        sub_dic_gp['Under 10k'] = pd.concat([sub_dic_gp['Under 10k'], sub_dic[sub]])\n",
    "    \n",
    "    # Subcategories with an avge of less than 10k monthly seaches\n",
    "    elif ((sub_dic[sub]['Search Vol'].mean() * 52) / 12 < 100000) & ((sub_dic[sub]['Search Vol'].mean() * 52) / 12 > 10000):\n",
    "        sub_dic_gp['Under 100k'] = pd.concat([sub_dic_gp['Under 100k'], sub_dic[sub]])\n",
    "    \n",
    "    # The rest will be analysed individually\n",
    "    else:\n",
    "        sub_dic_gp[sub] = sub_dic[sub]\n",
    "\n",
    "# Grouping by day and summing 'Seatch Vol.'\n",
    "sub_dic_gp['Under 10k'] = sub_dic_gp['Under 10k'].groupby('Date', as_index=False).agg('sum')\n",
    "sub_dic_gp['Under 100k'] = sub_dic_gp['Under 100k'].groupby('Date', as_index=False).agg('sum')"
   ]
  },
  {
   "cell_type": "code",
   "execution_count": null,
   "metadata": {},
   "outputs": [],
   "source": [
    "# Checking the results\n",
    "sub_dic_gp['Under 100k'].head()"
   ]
  },
  {
   "cell_type": "markdown",
   "metadata": {},
   "source": [
    "Now we have a dictionary with a DataFrame that aggregates the subcategories with less that 10k monthly searches as 'Under 10k', a DataFrame that aggregates the subcategories with less that 100k monthly searches as 'Under 100k' and individual DataFrames for those subcategories with more than 100k monthly searches."
   ]
  },
  {
   "cell_type": "code",
   "execution_count": null,
   "metadata": {},
   "outputs": [],
   "source": [
    "# Plot \n",
    "plt.figure(figsize=(15,5))\n",
    "\n",
    "for sub, colr in zip(sub_dic_gp, sub_colors.values()):\n",
    "    \n",
    "    # Create a graph with the volume of searches\n",
    "    ax = sns.lineplot(data=sub_dic_gp[sub], \n",
    "                  x='Date', \n",
    "                  y='Search Vol',\n",
    "                  color=colr)\n",
    "    \n",
    "## [BONUS] - Add legends"
   ]
  },
  {
   "cell_type": "markdown",
   "metadata": {},
   "source": [
    "It would be useful to list the subcategories in each category."
   ]
  },
  {
   "cell_type": "code",
   "execution_count": null,
   "metadata": {},
   "outputs": [],
   "source": [
    "# [BONUS] - List a summary with the categories in each bin. [Under 10k] | [Under 100k] | [Over 100k]"
   ]
  },
  {
   "cell_type": "markdown",
   "metadata": {},
   "source": [
    "### Find 'Search Vol' trend"
   ]
  },
  {
   "cell_type": "code",
   "execution_count": null,
   "metadata": {},
   "outputs": [],
   "source": [
    "# Combine all searches and find the trend. \n",
    "# We will be able to compare each sub_category with the overall trend\n",
    "# Statistical analysis"
   ]
  },
  {
   "cell_type": "code",
   "execution_count": null,
   "metadata": {},
   "outputs": [],
   "source": [
    "sub_dic_gp['Total'] = pd.DataFrame(columns=['Date', 'Search Vol'])\n",
    "\n",
    "# Concat all DataFrames into one\n",
    "for sub in sub_dic:\n",
    "    sub_dic_gp['Total'] = pd.concat([sub_dic_gp['Total'], sub_dic[sub]])\n",
    "\n",
    "sub_dic_gp['Total'] = sub_dic_gp['Total'].groupby('Date', as_index=False).agg('sum')"
   ]
  },
  {
   "cell_type": "markdown",
   "metadata": {},
   "source": [
    "#### Calculate the fitted line"
   ]
  },
  {
   "cell_type": "code",
   "execution_count": null,
   "metadata": {},
   "outputs": [],
   "source": [
    "# Create a constant\n",
    "sub_dic_gp['Total'] = sm.add_constant(sub_dic_gp['Total'])\n",
    "sub_dic_gp['Total'] = sub_dic_gp['Total'].assign(t=range(1, len(sub_dic_gp['Total']) + 1))\n",
    "# sub_dic_gp['Total'] = sub_dic_gp['Total'].assign(t2=range(1, (len(sub_dic_gp['Total']) + 1)**2))\n",
    "\n",
    "# Run OLS\n",
    "X = sub_dic_gp['Total'][[\"const\", \"t\"]]\n",
    "y = sub_dic_gp['Total'][\"Search Vol\"]\n",
    "\n",
    "lin_reg = sm.OLS(y, X)\n",
    "results_total = lin_reg.fit()\n",
    "\n",
    "results_total.summary()"
   ]
  },
  {
   "cell_type": "code",
   "execution_count": null,
   "metadata": {},
   "outputs": [],
   "source": [
    "sub_dic_gp['Total'] = sub_dic_gp['Total'].assign(y_hat=results_total.predict(X))\n",
    "\n",
    "plt.figure(figsize=(15,5))\n",
    "    \n",
    "sns.scatterplot(data=sub_dic_gp['Total'], \n",
    "                x='t', \n",
    "                y='Search Vol');\n",
    "\n",
    "sns.lineplot(data=sub_dic_gp['Total'],\n",
    "             x='t',\n",
    "             y=\"y_hat\",\n",
    "             color=\"green\");"
   ]
  },
  {
   "cell_type": "code",
   "execution_count": null,
   "metadata": {},
   "outputs": [],
   "source": [
    "# Run OLS\n",
    "lin_reg = sm.OLS(sub_dic_gp['Total'][\"Date\"],\n",
    "                 sub_dic_gp['Total'][['const', 'Search Vol']])\n",
    "\n",
    "result = lin_reg.fit()\n",
    "\n",
    "corr = sm.add_constant(corr)\n",
    "corr.head()\n",
    "\n",
    "# Run OLS\n",
    "lin_reg = sm.OLS(corr[\"Search Vol (avge)\"],\n",
    "                 corr[[\"const\", \"Number of templates\"]])\n",
    "\n",
    "result = lin_reg.fit()\n",
    "\n",
    "result.summary()\n",
    "# result.summary()"
   ]
  },
  {
   "cell_type": "code",
   "execution_count": null,
   "metadata": {},
   "outputs": [],
   "source": [
    "plt.figure(figsize=(15,5))\n",
    "    \n",
    "    # Create a graph with the total volume of searches\n",
    "ax = sns.lineplot(data=sub_dic_gp['Total'], \n",
    "                  x='Date', \n",
    "                  y='Search Vol',)\n",
    "\n",
    "ax = sns.regplot(data=sub_dic_gp['Total'], \n",
    "                  x='Date', \n",
    "                  y='Search Vol',)"
   ]
  },
  {
   "cell_type": "code",
   "execution_count": null,
   "metadata": {},
   "outputs": [],
   "source": [
    "# Find if there is a correlation between 'Templates' that Canva is offering and 'Search Vol' \n",
    "# We will be able to do a linear regression\n",
    "# Statistical analysis"
   ]
  },
  {
   "cell_type": "markdown",
   "metadata": {},
   "source": [
    "### 'Search Vol' vs. # 'Template '\n",
    "\n",
    "Is there a correlation between the Search Vol for the Keywords assigned to the category and the number of templates that Canva is offering? Is it statistically significant?"
   ]
  },
  {
   "cell_type": "code",
   "execution_count": null,
   "metadata": {},
   "outputs": [],
   "source": [
    "corr = pd.DataFrame(columns=['Sub-Category', 'Search Vol (avge)', 'Number of templates'])\n",
    "\n",
    "corr['Sub-Category'] = sub_dic.keys()\n",
    "corr['Search Vol (avge)'] = [int(sub_dic[sub]['Search Vol'].mean()) for sub in sub_dic]\n",
    "corr['Number of templates'] = [int(sub_dic[sub]['Number of templates'].mean()) for sub in sub_dic]\n",
    "\n",
    "corr"
   ]
  },
  {
   "cell_type": "code",
   "execution_count": null,
   "metadata": {},
   "outputs": [],
   "source": [
    "# Scatter plot to infere if it makes sense to calculate the fitted line\n",
    "plt.figure(figsize=(15,5))\n",
    "    \n",
    "sns.scatterplot(data=corr, \n",
    "                x='Number of templates', \n",
    "                y='Search Vol (avge)',\n",
    "                hue='Sub-Category');"
   ]
  },
  {
   "cell_type": "code",
   "execution_count": null,
   "metadata": {},
   "outputs": [],
   "source": [
    "# See if there is a correlation between the two variables\n",
    "corr = sm.add_constant(corr)\n",
    "corr.head()\n",
    "\n",
    "# Run OLS\n",
    "lin_reg = sm.OLS(corr[\"Search Vol (avge)\"],\n",
    "                 corr[[\"const\", \"Number of templates\"]])\n",
    "\n",
    "result = lin_reg.fit()\n",
    "\n",
    "result.summary()"
   ]
  },
  {
   "cell_type": "code",
   "execution_count": null,
   "metadata": {},
   "outputs": [],
   "source": [
    "corr = corr.assign(y_hat=result.predict(corr[[\"const\", \"Number of templates\"]]))"
   ]
  },
  {
   "cell_type": "code",
   "execution_count": null,
   "metadata": {},
   "outputs": [],
   "source": [
    "plt.figure(figsize=(15,5))\n",
    "    \n",
    "sns.scatterplot(data=corr, \n",
    "                x='Number of templates', \n",
    "                y='Search Vol (avge)',\n",
    "                hue='Sub-Category');\n",
    "\n",
    "sns.lineplot(data=corr,\n",
    "             x='Number of templates',\n",
    "             y=\"y_hat\",\n",
    "             color=\"g\");"
   ]
  }
 ],
 "metadata": {
  "kernelspec": {
   "display_name": "Python 3",
   "language": "python",
   "name": "python3"
  },
  "language_info": {
   "codemirror_mode": {
    "name": "ipython",
    "version": 3
   },
   "file_extension": ".py",
   "mimetype": "text/x-python",
   "name": "python",
   "nbconvert_exporter": "python",
   "pygments_lexer": "ipython3",
   "version": "3.8.3"
  }
 },
 "nbformat": 4,
 "nbformat_minor": 4
}
