{
 "cells": [
  {
   "cell_type": "markdown",
   "metadata": {},
   "source": [
    "# Data gathering\n",
    "\n",
    "The goal of this notebook is to gather, clean and manipulate all the data that we will be using during the project."
   ]
  },
  {
   "cell_type": "code",
   "execution_count": 1,
   "metadata": {},
   "outputs": [],
   "source": [
    "import pandas as pd\n",
    "import numpy as np\n",
    "\n",
    "# Scrapping packages\n",
    "from bs4 import BeautifulSoup as bs\n",
    "\n",
    "# Google Trends API connection\n",
    "# documentation -> https://pypi.org/project/pytrends/#api-methods\n",
    "from pytrends.request import TrendReq\n",
    "pytrends = TrendReq()"
   ]
  },
  {
   "cell_type": "markdown",
   "metadata": {},
   "source": [
    "# 1. Data from canva.com"
   ]
  },
  {
   "cell_type": "code",
   "execution_count": 2,
   "metadata": {},
   "outputs": [],
   "source": [
    "# Read text file with Canva's HTML \"https://www.canva.com/create-a-design\"\n",
    "f = open('../project-4/canva.txt', 'r')\n",
    "content = f.read()\n",
    "\n",
    "soup = bs(content, 'html.parser')"
   ]
  },
  {
   "cell_type": "code",
   "execution_count": 3,
   "metadata": {},
   "outputs": [],
   "source": [
    "# List with different categories\n",
    "cats_id = {'Video': 'genre-video',\n",
    "           'Social Media': 'genre-social-media',\n",
    "           'Documents': 'genre-documents', \n",
    "           'Personal': 'genre-personal',\n",
    "           'Education': 'genre-education',\n",
    "           'Marketing': 'genre-marketing',\n",
    "           'Events': 'genre-events',\n",
    "           'Ads': 'genre-ads'}\n",
    "\n",
    "# Scrape from canva.com the subcategories\n",
    "for key in cats_id:\n",
    "    cats_id[key] = soup.find('div', {'id':f'{cats_id[key]}'}).find_all('div', {'class':'t24rzA'})\n",
    "    cats_id[key] = [subcategory.text for subcategory in cats_id[key]]\n",
    "    \n",
    "# Create the DataFrame where we will have Category + Sub-category\n",
    "cats = pd.DataFrame(columns=['Category'])\n",
    "\n",
    "# Populate the DataFrame\n",
    "for key in cats_id:\n",
    "    cats_temp = pd.DataFrame(cats_id[key], columns=['Sub-category'])\n",
    "    cats_temp['Category'] = key\n",
    "    cats = pd.concat([cats, cats_temp])"
   ]
  },
  {
   "cell_type": "code",
   "execution_count": 4,
   "metadata": {},
   "outputs": [
    {
     "data": {
      "text/html": [
       "<div>\n",
       "<style scoped>\n",
       "    .dataframe tbody tr th:only-of-type {\n",
       "        vertical-align: middle;\n",
       "    }\n",
       "\n",
       "    .dataframe tbody tr th {\n",
       "        vertical-align: top;\n",
       "    }\n",
       "\n",
       "    .dataframe thead th {\n",
       "        text-align: right;\n",
       "    }\n",
       "</style>\n",
       "<table border=\"1\" class=\"dataframe\">\n",
       "  <thead>\n",
       "    <tr style=\"text-align: right;\">\n",
       "      <th></th>\n",
       "      <th>Category</th>\n",
       "      <th>Sub-category</th>\n",
       "    </tr>\n",
       "  </thead>\n",
       "  <tbody>\n",
       "    <tr>\n",
       "      <th>0</th>\n",
       "      <td>Video</td>\n",
       "      <td>Facebook Video</td>\n",
       "    </tr>\n",
       "    <tr>\n",
       "      <th>1</th>\n",
       "      <td>Video</td>\n",
       "      <td>Social Feed Video Ad</td>\n",
       "    </tr>\n",
       "    <tr>\n",
       "      <th>2</th>\n",
       "      <td>Video</td>\n",
       "      <td>Pinterest Video Pin</td>\n",
       "    </tr>\n",
       "    <tr>\n",
       "      <th>3</th>\n",
       "      <td>Video</td>\n",
       "      <td>In-Stream Video Ad</td>\n",
       "    </tr>\n",
       "    <tr>\n",
       "      <th>4</th>\n",
       "      <td>Video</td>\n",
       "      <td>Youtube Intro</td>\n",
       "    </tr>\n",
       "    <tr>\n",
       "      <th>...</th>\n",
       "      <td>...</td>\n",
       "      <td>...</td>\n",
       "    </tr>\n",
       "    <tr>\n",
       "      <th>1</th>\n",
       "      <td>Ads</td>\n",
       "      <td>Instagram Ad</td>\n",
       "    </tr>\n",
       "    <tr>\n",
       "      <th>2</th>\n",
       "      <td>Ads</td>\n",
       "      <td>Large Rectangle Ad</td>\n",
       "    </tr>\n",
       "    <tr>\n",
       "      <th>3</th>\n",
       "      <td>Ads</td>\n",
       "      <td>Leaderboard Ad</td>\n",
       "    </tr>\n",
       "    <tr>\n",
       "      <th>4</th>\n",
       "      <td>Ads</td>\n",
       "      <td>Wide Skyscraper Ad</td>\n",
       "    </tr>\n",
       "    <tr>\n",
       "      <th>5</th>\n",
       "      <td>Ads</td>\n",
       "      <td>Medium Rectangle Ad</td>\n",
       "    </tr>\n",
       "  </tbody>\n",
       "</table>\n",
       "<p>72 rows × 2 columns</p>\n",
       "</div>"
      ],
      "text/plain": [
       "   Category          Sub-category\n",
       "0     Video        Facebook Video\n",
       "1     Video  Social Feed Video Ad\n",
       "2     Video   Pinterest Video Pin\n",
       "3     Video    In-Stream Video Ad\n",
       "4     Video         Youtube Intro\n",
       "..      ...                   ...\n",
       "1       Ads          Instagram Ad\n",
       "2       Ads    Large Rectangle Ad\n",
       "3       Ads        Leaderboard Ad\n",
       "4       Ads    Wide Skyscraper Ad\n",
       "5       Ads   Medium Rectangle Ad\n",
       "\n",
       "[72 rows x 2 columns]"
      ]
     },
     "execution_count": 4,
     "metadata": {},
     "output_type": "execute_result"
    }
   ],
   "source": [
    "# Explore the results\n",
    "cats"
   ]
  },
  {
   "cell_type": "markdown",
   "metadata": {},
   "source": [
    "There are 8 different categories that contain a total of 72 sub-categories "
   ]
  },
  {
   "cell_type": "markdown",
   "metadata": {},
   "source": [
    "# 2. Google trends"
   ]
  },
  {
   "cell_type": "code",
   "execution_count": 5,
   "metadata": {},
   "outputs": [],
   "source": [
    "# API call to Google Trends\n",
    "def get_trend(keyword:str):\n",
    "    \n",
    "        # Build the payload\n",
    "        kw_list = [keyword]\n",
    "        pytrends.build_payload(kw_list, cat=0, timeframe=f'today 5-y', geo='', gprop='') # 5 years | globally\n",
    "        df = pytrends.interest_over_time().reset_index()\n",
    "        df = df.rename(columns={'date': 'Date', keyword: 'Trend'})\n",
    "        return df\n",
    "    \n",
    "# .drop('isPartial', axis=1, inplace=True)"
   ]
  },
  {
   "cell_type": "code",
   "execution_count": 6,
   "metadata": {},
   "outputs": [],
   "source": [
    "# Dictionary with keyword that is being evaluated per each subcategory 'sub'\n",
    "sub_dic = {}\n",
    "\n",
    "for sub in cats['Sub-category']:\n",
    "    sub_dic.update({sub: {'Keyword': sub + \" template\"}})\n",
    "\n",
    "# Create a list with the keys\n",
    "clean_list = sub_dic.keys()\n",
    "\n",
    "for category in sub_dic:\n",
    "    sub_dic[category].update({category: get_trend(sub_dic[category]['Keyword'])})\n",
    "#   sub_dic[category] = get_trend(sub_dic[category])"
   ]
  },
  {
   "cell_type": "code",
   "execution_count": 7,
   "metadata": {},
   "outputs": [
    {
     "name": "stdout",
     "output_type": "stream",
     "text": [
      "dict_keys(['Facebook Video', 'Social Feed Video Ad', 'Pinterest Video Pin', 'In-Stream Video Ad', 'Youtube Intro', 'Video Collage', 'Slideshow Video', 'Animated Social Media', 'Instagram Post', 'Instagram Story', 'Facebook Post', 'Facebook Story', 'Facebook Cover', 'Facebook App Ad', 'Social Media', 'Your Story', 'Whatsapp Story', 'Presentation', 'A4 Document', 'Letter', 'Letterhead', 'Resume', 'Presentation (4:3)', 'Report', 'Daily Report', 'Memo', 'Invoice', 'Card', 'Birthday Card', 'Photo Collage', 'Photo Book', 'Calendar', 'Planner', 'Storyboard', 'Graphic Organiser', 'Scrapbook', 'Desktop Wallpaper', 'Postcard', 'Yearbook', 'Class Schedule', 'Worksheet', 'Lesson Plan', 'Report Card', 'Bookmark', 'Seating Chart', 'Table of Contents', 'Mind Map', 'Logo', 'Poster', 'Flyer', 'Business Card', 'Infographic', 'Brochure', 'Product Label', 'Gift Certificate', 'Gift Tag', 'Ticket', 'Newsletter', 'Invitation', 'Birthday Invitation', 'Wedding Invitation (Portrait)', 'Announcement', 'Programme', 'Event Programme', 'Facebook Event Cover', 'Facebook Ad', 'Instagram Ad', 'Large Rectangle Ad', 'Leaderboard Ad', 'Wide Skyscraper Ad', 'Medium Rectangle Ad'])\n"
     ]
    }
   ],
   "source": [
    "# We will need to use those keys\n",
    "print(clean_list)"
   ]
  },
  {
   "cell_type": "code",
   "execution_count": 8,
   "metadata": {},
   "outputs": [
    {
     "data": {
      "text/html": [
       "<div>\n",
       "<style scoped>\n",
       "    .dataframe tbody tr th:only-of-type {\n",
       "        vertical-align: middle;\n",
       "    }\n",
       "\n",
       "    .dataframe tbody tr th {\n",
       "        vertical-align: top;\n",
       "    }\n",
       "\n",
       "    .dataframe thead th {\n",
       "        text-align: right;\n",
       "    }\n",
       "</style>\n",
       "<table border=\"1\" class=\"dataframe\">\n",
       "  <thead>\n",
       "    <tr style=\"text-align: right;\">\n",
       "      <th></th>\n",
       "      <th>Date</th>\n",
       "      <th>Trend</th>\n",
       "      <th>isPartial</th>\n",
       "    </tr>\n",
       "  </thead>\n",
       "  <tbody>\n",
       "    <tr>\n",
       "      <th>0</th>\n",
       "      <td>2015-07-12</td>\n",
       "      <td>43</td>\n",
       "      <td>False</td>\n",
       "    </tr>\n",
       "    <tr>\n",
       "      <th>1</th>\n",
       "      <td>2015-07-19</td>\n",
       "      <td>0</td>\n",
       "      <td>False</td>\n",
       "    </tr>\n",
       "    <tr>\n",
       "      <th>2</th>\n",
       "      <td>2015-07-26</td>\n",
       "      <td>21</td>\n",
       "      <td>False</td>\n",
       "    </tr>\n",
       "    <tr>\n",
       "      <th>3</th>\n",
       "      <td>2015-08-02</td>\n",
       "      <td>21</td>\n",
       "      <td>False</td>\n",
       "    </tr>\n",
       "    <tr>\n",
       "      <th>4</th>\n",
       "      <td>2015-08-09</td>\n",
       "      <td>42</td>\n",
       "      <td>False</td>\n",
       "    </tr>\n",
       "  </tbody>\n",
       "</table>\n",
       "</div>"
      ],
      "text/plain": [
       "        Date  Trend isPartial\n",
       "0 2015-07-12     43     False\n",
       "1 2015-07-19      0     False\n",
       "2 2015-07-26     21     False\n",
       "3 2015-08-02     21     False\n",
       "4 2015-08-09     42     False"
      ]
     },
     "execution_count": 8,
     "metadata": {},
     "output_type": "execute_result"
    }
   ],
   "source": [
    "# Check the output\n",
    "sub_dic['Facebook Video']['Facebook Video'].head()"
   ]
  },
  {
   "cell_type": "markdown",
   "metadata": {},
   "source": [
    "# 3. Key word planner (Search Vol.) + Canva.com (Number of templates)"
   ]
  },
  {
   "cell_type": "markdown",
   "metadata": {},
   "source": [
    "Importing the weekly search range"
   ]
  },
  {
   "cell_type": "code",
   "execution_count": 9,
   "metadata": {},
   "outputs": [],
   "source": [
    "# Prepare DataFrame for search vol addition\n",
    "cats_clean = pd.DataFrame(columns=['Category', 'Sub-category', 'Keyword'])\n",
    "\n",
    "for sub in clean_list:\n",
    "    cats_temp = cats[cats[\"Sub-category\"] == sub].assign(Keyword=sub_dic[sub][\"Keyword\"])\n",
    "    cats_clean = pd.concat([cats_clean, cats_temp])\n",
    "    \n",
    "cats_clean = cats_clean.reset_index(drop=True)"
   ]
  },
  {
   "cell_type": "code",
   "execution_count": 10,
   "metadata": {},
   "outputs": [
    {
     "data": {
      "text/html": [
       "<div>\n",
       "<style scoped>\n",
       "    .dataframe tbody tr th:only-of-type {\n",
       "        vertical-align: middle;\n",
       "    }\n",
       "\n",
       "    .dataframe tbody tr th {\n",
       "        vertical-align: top;\n",
       "    }\n",
       "\n",
       "    .dataframe thead th {\n",
       "        text-align: right;\n",
       "    }\n",
       "</style>\n",
       "<table border=\"1\" class=\"dataframe\">\n",
       "  <thead>\n",
       "    <tr style=\"text-align: right;\">\n",
       "      <th></th>\n",
       "      <th>Category</th>\n",
       "      <th>Sub-category</th>\n",
       "      <th>Keyword</th>\n",
       "    </tr>\n",
       "  </thead>\n",
       "  <tbody>\n",
       "    <tr>\n",
       "      <th>0</th>\n",
       "      <td>Video</td>\n",
       "      <td>Facebook Video</td>\n",
       "      <td>Facebook Video template</td>\n",
       "    </tr>\n",
       "    <tr>\n",
       "      <th>1</th>\n",
       "      <td>Social Media</td>\n",
       "      <td>Facebook Video</td>\n",
       "      <td>Facebook Video template</td>\n",
       "    </tr>\n",
       "    <tr>\n",
       "      <th>2</th>\n",
       "      <td>Video</td>\n",
       "      <td>Social Feed Video Ad</td>\n",
       "      <td>Social Feed Video Ad template</td>\n",
       "    </tr>\n",
       "    <tr>\n",
       "      <th>3</th>\n",
       "      <td>Video</td>\n",
       "      <td>Pinterest Video Pin</td>\n",
       "      <td>Pinterest Video Pin template</td>\n",
       "    </tr>\n",
       "    <tr>\n",
       "      <th>4</th>\n",
       "      <td>Video</td>\n",
       "      <td>In-Stream Video Ad</td>\n",
       "      <td>In-Stream Video Ad template</td>\n",
       "    </tr>\n",
       "    <tr>\n",
       "      <th>...</th>\n",
       "      <td>...</td>\n",
       "      <td>...</td>\n",
       "      <td>...</td>\n",
       "    </tr>\n",
       "    <tr>\n",
       "      <th>67</th>\n",
       "      <td>Ads</td>\n",
       "      <td>Instagram Ad</td>\n",
       "      <td>Instagram Ad template</td>\n",
       "    </tr>\n",
       "    <tr>\n",
       "      <th>68</th>\n",
       "      <td>Ads</td>\n",
       "      <td>Large Rectangle Ad</td>\n",
       "      <td>Large Rectangle Ad template</td>\n",
       "    </tr>\n",
       "    <tr>\n",
       "      <th>69</th>\n",
       "      <td>Ads</td>\n",
       "      <td>Leaderboard Ad</td>\n",
       "      <td>Leaderboard Ad template</td>\n",
       "    </tr>\n",
       "    <tr>\n",
       "      <th>70</th>\n",
       "      <td>Ads</td>\n",
       "      <td>Wide Skyscraper Ad</td>\n",
       "      <td>Wide Skyscraper Ad template</td>\n",
       "    </tr>\n",
       "    <tr>\n",
       "      <th>71</th>\n",
       "      <td>Ads</td>\n",
       "      <td>Medium Rectangle Ad</td>\n",
       "      <td>Medium Rectangle Ad template</td>\n",
       "    </tr>\n",
       "  </tbody>\n",
       "</table>\n",
       "<p>72 rows × 3 columns</p>\n",
       "</div>"
      ],
      "text/plain": [
       "        Category          Sub-category                        Keyword\n",
       "0          Video        Facebook Video        Facebook Video template\n",
       "1   Social Media        Facebook Video        Facebook Video template\n",
       "2          Video  Social Feed Video Ad  Social Feed Video Ad template\n",
       "3          Video   Pinterest Video Pin   Pinterest Video Pin template\n",
       "4          Video    In-Stream Video Ad    In-Stream Video Ad template\n",
       "..           ...                   ...                            ...\n",
       "67           Ads          Instagram Ad          Instagram Ad template\n",
       "68           Ads    Large Rectangle Ad    Large Rectangle Ad template\n",
       "69           Ads        Leaderboard Ad        Leaderboard Ad template\n",
       "70           Ads    Wide Skyscraper Ad    Wide Skyscraper Ad template\n",
       "71           Ads   Medium Rectangle Ad   Medium Rectangle Ad template\n",
       "\n",
       "[72 rows x 3 columns]"
      ]
     },
     "execution_count": 10,
     "metadata": {},
     "output_type": "execute_result"
    }
   ],
   "source": [
    "cats_clean"
   ]
  },
  {
   "cell_type": "code",
   "execution_count": 11,
   "metadata": {},
   "outputs": [],
   "source": [
    "# Export to csv to add Search Vol\n",
    "cats_clean.to_csv('../project-4/data/temp-data/categories-pre.csv')"
   ]
  },
  {
   "cell_type": "markdown",
   "metadata": {},
   "source": [
    "Added ['Search Vol (min)', 'Search Vol (max)', 'Number of templates'] in excel due to the short timeframe for this project\n",
    "\n",
    "**['Search Vol']** source: average monthly search volume from 'https://ads.google.com/aw/keywordplanner/ideas/new?ocid=288160316&euid=220210981&__u=7630327869&uscid=288160316&__c=9136488284&authuser=0&__e=2685651001&sf=barebones&subid=de-de-et-g-aw-a-tools-kwp_bb-awhp_xin1%21o2'\n",
    "\n",
    "**['Number of templates']** source: canva.com"
   ]
  },
  {
   "cell_type": "code",
   "execution_count": 12,
   "metadata": {},
   "outputs": [
    {
     "data": {
      "text/html": [
       "<div>\n",
       "<style scoped>\n",
       "    .dataframe tbody tr th:only-of-type {\n",
       "        vertical-align: middle;\n",
       "    }\n",
       "\n",
       "    .dataframe tbody tr th {\n",
       "        vertical-align: top;\n",
       "    }\n",
       "\n",
       "    .dataframe thead th {\n",
       "        text-align: right;\n",
       "    }\n",
       "</style>\n",
       "<table border=\"1\" class=\"dataframe\">\n",
       "  <thead>\n",
       "    <tr style=\"text-align: right;\">\n",
       "      <th></th>\n",
       "      <th>Category</th>\n",
       "      <th>Sub-category</th>\n",
       "      <th>Keyword</th>\n",
       "      <th>Search Vol (min)</th>\n",
       "      <th>Search Vol (max)</th>\n",
       "      <th>Number of templates</th>\n",
       "    </tr>\n",
       "  </thead>\n",
       "  <tbody>\n",
       "    <tr>\n",
       "      <th>0</th>\n",
       "      <td>Video</td>\n",
       "      <td>Facebook Video</td>\n",
       "      <td>Facebook Video template</td>\n",
       "      <td>100</td>\n",
       "      <td>1000</td>\n",
       "      <td>145</td>\n",
       "    </tr>\n",
       "    <tr>\n",
       "      <th>1</th>\n",
       "      <td>Social Media</td>\n",
       "      <td>Facebook Video</td>\n",
       "      <td>Facebook Video template</td>\n",
       "      <td>10</td>\n",
       "      <td>100</td>\n",
       "      <td>145</td>\n",
       "    </tr>\n",
       "    <tr>\n",
       "      <th>2</th>\n",
       "      <td>Video</td>\n",
       "      <td>Social Feed Video Ad</td>\n",
       "      <td>Social Feed Video Ad template</td>\n",
       "      <td>10</td>\n",
       "      <td>100</td>\n",
       "      <td>159</td>\n",
       "    </tr>\n",
       "    <tr>\n",
       "      <th>3</th>\n",
       "      <td>Video</td>\n",
       "      <td>Pinterest Video Pin</td>\n",
       "      <td>Pinterest Video Pin template</td>\n",
       "      <td>10</td>\n",
       "      <td>100</td>\n",
       "      <td>21</td>\n",
       "    </tr>\n",
       "    <tr>\n",
       "      <th>4</th>\n",
       "      <td>Video</td>\n",
       "      <td>In-Stream Video Ad</td>\n",
       "      <td>In-Stream Video Ad template</td>\n",
       "      <td>10</td>\n",
       "      <td>100</td>\n",
       "      <td>149</td>\n",
       "    </tr>\n",
       "  </tbody>\n",
       "</table>\n",
       "</div>"
      ],
      "text/plain": [
       "       Category          Sub-category                        Keyword  \\\n",
       "0         Video        Facebook Video        Facebook Video template   \n",
       "1  Social Media        Facebook Video        Facebook Video template   \n",
       "2         Video  Social Feed Video Ad  Social Feed Video Ad template   \n",
       "3         Video   Pinterest Video Pin   Pinterest Video Pin template   \n",
       "4         Video    In-Stream Video Ad    In-Stream Video Ad template   \n",
       "\n",
       "   Search Vol (min)  Search Vol (max)  Number of templates  \n",
       "0               100              1000                  145  \n",
       "1                10               100                  145  \n",
       "2                10               100                  159  \n",
       "3                10               100                   21  \n",
       "4                10               100                  149  "
      ]
     },
     "execution_count": 12,
     "metadata": {},
     "output_type": "execute_result"
    }
   ],
   "source": [
    "# Open excel file\n",
    "categories = pd.read_excel('../project-4/data/clean-data/categories-post.xlsx')\n",
    "categories.drop('Unnamed: 0', axis=1, inplace=True)\n",
    "\n",
    "# Explore data\n",
    "categories.head()"
   ]
  },
  {
   "cell_type": "markdown",
   "metadata": {},
   "source": [
    "## 4. Check Data types\n",
    "\n",
    "Our output is composed of: \n",
    "\n",
    "    (i) 'categories' containing information of each sub-category\n",
    "    (ii) 'sub-dic' containing as many dataframes as sub-categories with search trend grouped by week"
   ]
  },
  {
   "cell_type": "code",
   "execution_count": 13,
   "metadata": {},
   "outputs": [
    {
     "data": {
      "text/plain": [
       "Category               object\n",
       "Sub-category           object\n",
       "Keyword                object\n",
       "Search Vol (min)        int64\n",
       "Search Vol (max)        int64\n",
       "Number of templates     int64\n",
       "dtype: object"
      ]
     },
     "execution_count": 13,
     "metadata": {},
     "output_type": "execute_result"
    }
   ],
   "source": [
    "categories.dtypes"
   ]
  },
  {
   "cell_type": "code",
   "execution_count": 14,
   "metadata": {},
   "outputs": [
    {
     "data": {
      "text/html": [
       "<div>\n",
       "<style scoped>\n",
       "    .dataframe tbody tr th:only-of-type {\n",
       "        vertical-align: middle;\n",
       "    }\n",
       "\n",
       "    .dataframe tbody tr th {\n",
       "        vertical-align: top;\n",
       "    }\n",
       "\n",
       "    .dataframe thead th {\n",
       "        text-align: right;\n",
       "    }\n",
       "</style>\n",
       "<table border=\"1\" class=\"dataframe\">\n",
       "  <thead>\n",
       "    <tr style=\"text-align: right;\">\n",
       "      <th></th>\n",
       "      <th>Date</th>\n",
       "      <th>Trend</th>\n",
       "      <th>isPartial</th>\n",
       "    </tr>\n",
       "  </thead>\n",
       "  <tbody>\n",
       "    <tr>\n",
       "      <th>0</th>\n",
       "      <td>2015-07-12</td>\n",
       "      <td>43</td>\n",
       "      <td>False</td>\n",
       "    </tr>\n",
       "    <tr>\n",
       "      <th>1</th>\n",
       "      <td>2015-07-19</td>\n",
       "      <td>0</td>\n",
       "      <td>False</td>\n",
       "    </tr>\n",
       "    <tr>\n",
       "      <th>2</th>\n",
       "      <td>2015-07-26</td>\n",
       "      <td>21</td>\n",
       "      <td>False</td>\n",
       "    </tr>\n",
       "    <tr>\n",
       "      <th>3</th>\n",
       "      <td>2015-08-02</td>\n",
       "      <td>21</td>\n",
       "      <td>False</td>\n",
       "    </tr>\n",
       "    <tr>\n",
       "      <th>4</th>\n",
       "      <td>2015-08-09</td>\n",
       "      <td>42</td>\n",
       "      <td>False</td>\n",
       "    </tr>\n",
       "  </tbody>\n",
       "</table>\n",
       "</div>"
      ],
      "text/plain": [
       "        Date  Trend isPartial\n",
       "0 2015-07-12     43     False\n",
       "1 2015-07-19      0     False\n",
       "2 2015-07-26     21     False\n",
       "3 2015-08-02     21     False\n",
       "4 2015-08-09     42     False"
      ]
     },
     "execution_count": 14,
     "metadata": {},
     "output_type": "execute_result"
    }
   ],
   "source": [
    "sub_dic['Facebook Video']['Facebook Video'].head()"
   ]
  },
  {
   "cell_type": "markdown",
   "metadata": {},
   "source": [
    "## Export clean data as .csv"
   ]
  },
  {
   "cell_type": "code",
   "execution_count": 15,
   "metadata": {},
   "outputs": [],
   "source": [
    "# Export as .csv\n",
    "categories.to_csv('../project-4/data/clean-data/categories-post.csv')"
   ]
  },
  {
   "cell_type": "code",
   "execution_count": 16,
   "metadata": {},
   "outputs": [],
   "source": [
    "# Export files with trend info as .csv\n",
    "csv_names = []\n",
    "\n",
    "# Replace ' ' for '-'\n",
    "for sub in clean_list:\n",
    "    csv_names.append(sub.replace(' ', '-').lower())\n",
    "\n",
    "# Export as .csv\n",
    "for sub, name in zip(sub_dic, csv_names):\n",
    "    sub_dic[sub][sub].to_csv(f'../project-4/data/clean-data/{name}.csv')"
   ]
  },
  {
   "cell_type": "markdown",
   "metadata": {},
   "source": [
    "## [BONUS] Calculate min, avg etx"
   ]
  },
  {
   "cell_type": "code",
   "execution_count": 17,
   "metadata": {},
   "outputs": [
    {
     "ename": "AttributeError",
     "evalue": "'dict' object has no attribute 'assign'",
     "output_type": "error",
     "traceback": [
      "\u001b[0;31m---------------------------------------------------------------------------\u001b[0m",
      "\u001b[0;31mAttributeError\u001b[0m                            Traceback (most recent call last)",
      "\u001b[0;32m<ipython-input-17-9b3d8e1d7041>\u001b[0m in \u001b[0;36m<module>\u001b[0;34m\u001b[0m\n\u001b[1;32m      3\u001b[0m \u001b[0;34m\u001b[0m\u001b[0m\n\u001b[1;32m      4\u001b[0m     \u001b[0;31m# Create new columns\u001b[0m\u001b[0;34m\u001b[0m\u001b[0;34m\u001b[0m\u001b[0;34m\u001b[0m\u001b[0m\n\u001b[0;32m----> 5\u001b[0;31m     sub_dic[sub] = (sub_dic[sub]\n\u001b[0m\u001b[1;32m      6\u001b[0m            \u001b[0;34m.\u001b[0m\u001b[0massign\u001b[0m\u001b[0;34m(\u001b[0m\u001b[0mMin\u001b[0m\u001b[0;34m=\u001b[0m\u001b[0mround\u001b[0m\u001b[0;34m(\u001b[0m\u001b[0;34m(\u001b[0m\u001b[0msearch_vol\u001b[0m\u001b[0;34m[\u001b[0m\u001b[0msub\u001b[0m\u001b[0;34m]\u001b[0m\u001b[0;34m[\u001b[0m\u001b[0;34m'min'\u001b[0m\u001b[0;34m]\u001b[0m\u001b[0;34m*\u001b[0m\u001b[0;36m12\u001b[0m\u001b[0;34m)\u001b[0m \u001b[0;34m/\u001b[0m \u001b[0;36m52\u001b[0m\u001b[0;34m)\u001b[0m\u001b[0;34m)\u001b[0m\u001b[0;34m\u001b[0m\u001b[0;34m\u001b[0m\u001b[0m\n\u001b[1;32m      7\u001b[0m            \u001b[0;34m.\u001b[0m\u001b[0massign\u001b[0m\u001b[0;34m(\u001b[0m\u001b[0mMax\u001b[0m\u001b[0;34m=\u001b[0m\u001b[0mround\u001b[0m\u001b[0;34m(\u001b[0m\u001b[0;34m(\u001b[0m\u001b[0msearch_vol\u001b[0m\u001b[0;34m[\u001b[0m\u001b[0msub\u001b[0m\u001b[0;34m]\u001b[0m\u001b[0;34m[\u001b[0m\u001b[0;34m'max'\u001b[0m\u001b[0;34m]\u001b[0m\u001b[0;34m*\u001b[0m\u001b[0;36m12\u001b[0m\u001b[0;34m)\u001b[0m \u001b[0;34m/\u001b[0m \u001b[0;36m52\u001b[0m\u001b[0;34m)\u001b[0m\u001b[0;34m)\u001b[0m\u001b[0;34m\u001b[0m\u001b[0;34m\u001b[0m\u001b[0m\n",
      "\u001b[0;31mAttributeError\u001b[0m: 'dict' object has no attribute 'assign'"
     ]
    }
   ],
   "source": [
    "# Populate the DataFrames with seach volumes\n",
    "for sub in sub_dic:\n",
    "    \n",
    "    # Create new columns\n",
    "    sub_dic[sub] = (sub_dic[sub]\n",
    "           .assign(Min=round((search_vol[sub]['min']*12) / 52))\n",
    "           .assign(Max=round((search_vol[sub]['max']*12) / 52))\n",
    "           .assign(Average=round((((search_vol[sub]['min'] * 12) / 52) + ((search_vol[sub]['max']*12)/52)) / 2))\n",
    "               )\n",
    "    \n",
    "    # Generate new column with random per week\n",
    "    sub_dic[sub]['Random'] = [np.random.randint(sub_dic[sub]['Min'].min(), sub_dic[sub]['Max'].max()) for row in range(len(sub_dic[sub]))]\n",
    "    \n",
    "    # Create a colum trend * mean\n",
    "    sub_dic[sub]['Search Vol'] = round((sub_dic[sub]['Trend'] / 100) * sub_dic[sub]['Average'], 0)"
   ]
  },
  {
   "cell_type": "code",
   "execution_count": null,
   "metadata": {},
   "outputs": [],
   "source": [
    "# Check the output\n",
    "sub_dic['a_4'].head()"
   ]
  }
 ],
 "metadata": {
  "kernelspec": {
   "display_name": "Python 3",
   "language": "python",
   "name": "python3"
  },
  "language_info": {
   "codemirror_mode": {
    "name": "ipython",
    "version": 3
   },
   "file_extension": ".py",
   "mimetype": "text/x-python",
   "name": "python",
   "nbconvert_exporter": "python",
   "pygments_lexer": "ipython3",
   "version": "3.8.3"
  }
 },
 "nbformat": 4,
 "nbformat_minor": 4
}
