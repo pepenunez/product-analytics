{
 "cells": [
  {
   "cell_type": "code",
   "execution_count": 1,
   "metadata": {},
   "outputs": [],
   "source": [
    "import pandas as pd\n",
    "import requests as req\n",
    "from bs4 import BeautifulSoup as bs\n",
    "import numpy as np\n",
    "\n",
    "# documentation -> https://pypi.org/project/pytrends/#api-methods\n",
    "from pytrends.request import TrendReq\n",
    "pytrends = TrendReq()"
   ]
  },
  {
   "cell_type": "code",
   "execution_count": 2,
   "metadata": {},
   "outputs": [],
   "source": [
    "f = open('project-4/canva.txt', 'r')\n",
    "content = f.read()"
   ]
  },
  {
   "cell_type": "code",
   "execution_count": 3,
   "metadata": {},
   "outputs": [],
   "source": [
    "#page = req.get(\"https://www.canva.com/create-a-design\", headers=headers)\n",
    "soup = bs(content, 'html.parser')"
   ]
  },
  {
   "cell_type": "code",
   "execution_count": 4,
   "metadata": {},
   "outputs": [],
   "source": [
    "# Create a list to store subcategories scrapped from 'https://www.canva.com/create-a-design'\n",
    "cat = []\n",
    "sub_cat = []"
   ]
  },
  {
   "cell_type": "code",
   "execution_count": 5,
   "metadata": {},
   "outputs": [],
   "source": [
    "# Iterate and append to cat:\n",
    "cat_list = soup.find_all('span', {'class':'s-xOCQ'})\n",
    "for c in cat_list:\n",
    "    cat.append(c.text)"
   ]
  },
  {
   "cell_type": "code",
   "execution_count": 6,
   "metadata": {},
   "outputs": [
    {
     "data": {
      "text/plain": [
       "['Video',\n",
       " 'Social Media',\n",
       " 'Documents',\n",
       " 'Personal',\n",
       " 'Education',\n",
       " 'Marketing',\n",
       " 'Events',\n",
       " 'Ads']"
      ]
     },
     "execution_count": 6,
     "metadata": {},
     "output_type": "execute_result"
    }
   ],
   "source": [
    "cat"
   ]
  },
  {
   "cell_type": "code",
   "execution_count": 63,
   "metadata": {},
   "outputs": [],
   "source": [
    "# Iterate and append to sub_cat:\n",
    "subCat_list = soup.find_all('p', {'class':'MpjE4w bSncsg n9zSJA ZTpOuQ u9XXAg HnhAQA l1bE7Q mNfh2Q'})\n",
    "for cat in subCat_list:\n",
    "    sub_cat.append(cat.text)"
   ]
  },
  {
   "cell_type": "code",
   "execution_count": 64,
   "metadata": {},
   "outputs": [
    {
     "data": {
      "text/html": [
       "<div>\n",
       "<style scoped>\n",
       "    .dataframe tbody tr th:only-of-type {\n",
       "        vertical-align: middle;\n",
       "    }\n",
       "\n",
       "    .dataframe tbody tr th {\n",
       "        vertical-align: top;\n",
       "    }\n",
       "\n",
       "    .dataframe thead th {\n",
       "        text-align: right;\n",
       "    }\n",
       "</style>\n",
       "<table border=\"1\" class=\"dataframe\">\n",
       "  <thead>\n",
       "    <tr style=\"text-align: right;\">\n",
       "      <th></th>\n",
       "      <th>Subcategory</th>\n",
       "      <th>Category</th>\n",
       "    </tr>\n",
       "  </thead>\n",
       "  <tbody>\n",
       "    <tr>\n",
       "      <th>0</th>\n",
       "      <td>Presentation</td>\n",
       "      <td>Documents</td>\n",
       "    </tr>\n",
       "    <tr>\n",
       "      <th>1</th>\n",
       "      <td>A4 Document</td>\n",
       "      <td>Documents</td>\n",
       "    </tr>\n",
       "    <tr>\n",
       "      <th>2</th>\n",
       "      <td>Letter</td>\n",
       "      <td>Documents</td>\n",
       "    </tr>\n",
       "    <tr>\n",
       "      <th>3</th>\n",
       "      <td>Letterhead</td>\n",
       "      <td>Documents</td>\n",
       "    </tr>\n",
       "    <tr>\n",
       "      <th>4</th>\n",
       "      <td>Resume</td>\n",
       "      <td>Documents</td>\n",
       "    </tr>\n",
       "    <tr>\n",
       "      <th>5</th>\n",
       "      <td>Presentation (4:3)</td>\n",
       "      <td>Documents</td>\n",
       "    </tr>\n",
       "    <tr>\n",
       "      <th>6</th>\n",
       "      <td>Report</td>\n",
       "      <td>Documents</td>\n",
       "    </tr>\n",
       "    <tr>\n",
       "      <th>7</th>\n",
       "      <td>Daily Report</td>\n",
       "      <td>Documents</td>\n",
       "    </tr>\n",
       "    <tr>\n",
       "      <th>8</th>\n",
       "      <td>Memo</td>\n",
       "      <td>Documents</td>\n",
       "    </tr>\n",
       "    <tr>\n",
       "      <th>9</th>\n",
       "      <td>Invoice</td>\n",
       "      <td>Documents</td>\n",
       "    </tr>\n",
       "  </tbody>\n",
       "</table>\n",
       "</div>"
      ],
      "text/plain": [
       "          Subcategory   Category\n",
       "0        Presentation  Documents\n",
       "1         A4 Document  Documents\n",
       "2              Letter  Documents\n",
       "3          Letterhead  Documents\n",
       "4              Resume  Documents\n",
       "5  Presentation (4:3)  Documents\n",
       "6              Report  Documents\n",
       "7        Daily Report  Documents\n",
       "8                Memo  Documents\n",
       "9             Invoice  Documents"
      ]
     },
     "execution_count": 64,
     "metadata": {},
     "output_type": "execute_result"
    }
   ],
   "source": [
    "# Create DataFrame where we will combine the subcategory info\n",
    "tem = pd.DataFrame(columns=['Subcategory', 'Category'])\n",
    "\n",
    "## MVP version\n",
    "categories = {'Documents': ['Presentation', 'A4 Document', 'Letter', 'Letterhead', 'Resume', 'Presentation (4:3)', 'Report', 'Daily Report', 'Memo', 'Invoice']}\n",
    "\n",
    "documents = pd.DataFrame(columns=['Subcategory', 'Category'])\n",
    "documents['Subcategory'] = ['Presentation', 'A4 Document', 'Letter', 'Letterhead', 'Resume', 'Presentation (4:3)', 'Report', 'Daily Report', 'Memo', 'Invoice']\n",
    "documents['Category'] = 'Documents'\n",
    "documents\n",
    "\n",
    "# Create a dictionary with the cat - sub_cat relation\n",
    "### (BONUS) scrape it\n",
    "\n",
    "# Populate Subcategory Series\n",
    "#tem['Subcategory'] = list(set(sub_cat))\n",
    "\n",
    "#tem[tem['Subcategory'] in categories.values()]\n",
    "\n"
   ]
  },
  {
   "cell_type": "markdown",
   "metadata": {},
   "source": [
    "## Google trends"
   ]
  },
  {
   "cell_type": "code",
   "execution_count": 81,
   "metadata": {},
   "outputs": [],
   "source": [
    "# API call to Google Trends\n",
    "def get_trend(keyword:str):\n",
    "    \n",
    "        # Build the payload\n",
    "        kw_list = [keyword]\n",
    "        pytrends.build_payload(kw_list, cat=0, timeframe=f'today 5-y', geo='', gprop='') # 5 years | globally\n",
    "        df = pytrends.interest_over_time().reset_index()\n",
    "        df = df.rename(columns={'date': 'Date', keyword: 'Trend'})\n",
    "        return df\n",
    "    \n",
    "# .drop('isPartial', axis=1, inplace=True)"
   ]
  },
  {
   "cell_type": "code",
   "execution_count": 82,
   "metadata": {},
   "outputs": [],
   "source": [
    "# Dictionary with keyword that is being evaluated per each subcategory 'sub'\n",
    "sub_dic = {'presentation': 'presentation template',\n",
    "           'a_4': 'A4 template',\n",
    "           'letter': 'letter template' ,\n",
    "           'letterhead': 'letterhead template',\n",
    "           'resume': 'resume template',\n",
    "           'presentation_4_3': '4:3 template',\n",
    "           'report': 'report template',\n",
    "           'daily_report': 'daily report template',\n",
    "           'memo': 'memo template',\n",
    "           'invoice': 'invoice template'}\n",
    "\n",
    "# Create a list with the keys\n",
    "clean_list = sub_dic.keys()\n",
    "\n",
    "for category in sub_dic:\n",
    "    sub_dic[category] = get_trend(sub_dic[category])"
   ]
  },
  {
   "cell_type": "code",
   "execution_count": 90,
   "metadata": {},
   "outputs": [
    {
     "data": {
      "text/html": [
       "<div>\n",
       "<style scoped>\n",
       "    .dataframe tbody tr th:only-of-type {\n",
       "        vertical-align: middle;\n",
       "    }\n",
       "\n",
       "    .dataframe tbody tr th {\n",
       "        vertical-align: top;\n",
       "    }\n",
       "\n",
       "    .dataframe thead th {\n",
       "        text-align: right;\n",
       "    }\n",
       "</style>\n",
       "<table border=\"1\" class=\"dataframe\">\n",
       "  <thead>\n",
       "    <tr style=\"text-align: right;\">\n",
       "      <th></th>\n",
       "      <th>Date</th>\n",
       "      <th>Trend</th>\n",
       "      <th>isPartial</th>\n",
       "      <th>Min</th>\n",
       "      <th>Max</th>\n",
       "      <th>Average</th>\n",
       "      <th>Random</th>\n",
       "      <th>Searchs</th>\n",
       "      <th>Number of templates</th>\n",
       "    </tr>\n",
       "  </thead>\n",
       "  <tbody>\n",
       "    <tr>\n",
       "      <th>0</th>\n",
       "      <td>2015-07-12</td>\n",
       "      <td>60</td>\n",
       "      <td>False</td>\n",
       "      <td>2</td>\n",
       "      <td>23</td>\n",
       "      <td>13</td>\n",
       "      <td>2</td>\n",
       "      <td>8.0</td>\n",
       "      <td>3500</td>\n",
       "    </tr>\n",
       "    <tr>\n",
       "      <th>1</th>\n",
       "      <td>2015-07-19</td>\n",
       "      <td>69</td>\n",
       "      <td>False</td>\n",
       "      <td>2</td>\n",
       "      <td>23</td>\n",
       "      <td>13</td>\n",
       "      <td>11</td>\n",
       "      <td>9.0</td>\n",
       "      <td>3500</td>\n",
       "    </tr>\n",
       "    <tr>\n",
       "      <th>2</th>\n",
       "      <td>2015-07-26</td>\n",
       "      <td>56</td>\n",
       "      <td>False</td>\n",
       "      <td>2</td>\n",
       "      <td>23</td>\n",
       "      <td>13</td>\n",
       "      <td>16</td>\n",
       "      <td>7.0</td>\n",
       "      <td>3500</td>\n",
       "    </tr>\n",
       "    <tr>\n",
       "      <th>3</th>\n",
       "      <td>2015-08-02</td>\n",
       "      <td>57</td>\n",
       "      <td>False</td>\n",
       "      <td>2</td>\n",
       "      <td>23</td>\n",
       "      <td>13</td>\n",
       "      <td>7</td>\n",
       "      <td>7.0</td>\n",
       "      <td>3500</td>\n",
       "    </tr>\n",
       "    <tr>\n",
       "      <th>4</th>\n",
       "      <td>2015-08-09</td>\n",
       "      <td>64</td>\n",
       "      <td>False</td>\n",
       "      <td>2</td>\n",
       "      <td>23</td>\n",
       "      <td>13</td>\n",
       "      <td>2</td>\n",
       "      <td>8.0</td>\n",
       "      <td>3500</td>\n",
       "    </tr>\n",
       "  </tbody>\n",
       "</table>\n",
       "</div>"
      ],
      "text/plain": [
       "        Date  Trend  isPartial  Min  Max  Average  Random  Searchs  \\\n",
       "0 2015-07-12     60      False    2   23       13       2      8.0   \n",
       "1 2015-07-19     69      False    2   23       13      11      9.0   \n",
       "2 2015-07-26     56      False    2   23       13      16      7.0   \n",
       "3 2015-08-02     57      False    2   23       13       7      7.0   \n",
       "4 2015-08-09     64      False    2   23       13       2      8.0   \n",
       "\n",
       "   Number of templates  \n",
       "0                 3500  \n",
       "1                 3500  \n",
       "2                 3500  \n",
       "3                 3500  \n",
       "4                 3500  "
      ]
     },
     "execution_count": 90,
     "metadata": {},
     "output_type": "execute_result"
    }
   ],
   "source": [
    "# Check the output\n",
    "sub_dic['a_4'].head()"
   ]
  },
  {
   "cell_type": "code",
   "execution_count": 84,
   "metadata": {},
   "outputs": [],
   "source": [
    "# LEGACY CODE\n",
    "#presentation = get_trend(clean_dic['presentation'])\n",
    "#a4 = get_trend(clean_dic['a4'])\n",
    "#letter = get_trend(clean_dic['letter'])\n",
    "#letterhead = get_trend(clean_dic['letterhead'])\n",
    "#resume = get_trend(clean_dic['resume'])\n",
    "#presentation_4_3 = get_trend(clean_dic['presentation_4_3'])\n",
    "#report = get_trend(clean_dic['report'])\n",
    "#daily_report = get_trend(clean_dic['daily_report'])\n",
    "#memo = get_trend(clean_dic['memo'])\n",
    "#invoice = get_trend(clean_dic['invoice'])"
   ]
  },
  {
   "cell_type": "markdown",
   "metadata": {},
   "source": [
    "## Key word planner"
   ]
  },
  {
   "cell_type": "markdown",
   "metadata": {},
   "source": [
    "Importing the weekly search range"
   ]
  },
  {
   "cell_type": "code",
   "execution_count": 87,
   "metadata": {},
   "outputs": [],
   "source": [
    "# Average monthly search volume from 'https://ads.google.com/aw/keywordplanner/ideas/new?ocid=288160316&euid=220210981&__u=7630327869&uscid=288160316&__c=9136488284&authuser=0&__e=2685651001&sf=barebones&subid=de-de-et-g-aw-a-tools-kwp_bb-awhp_xin1%21o2'\n",
    "search_vol = {'presentation':{'min': 10000, 'max': 100000}, \n",
    "              'a_4': {'min': 10, 'max': 100}, \n",
    "              'letter': {'min': 10000, 'max': 100000}, \n",
    "              'letterhead': {'min': 10000, 'max': 100000},\n",
    "              'resume': {'min': 100000, 'max': 1000000},\n",
    "              'presentation_4_3': {'min': 10, 'max': 100},\n",
    "              'report': {'min': 10000, 'max': 100000},\n",
    "              'daily_report': {'min': 1000, 'max': 100000},\n",
    "              'memo': {'min': 10000, 'max': 100000},\n",
    "              'invoice': {'min': 100000, 'max': 1000000}}\n",
    "                \n",
    "# Populate the DataFrames with seach volumes\n",
    "for sub in sub_dic:\n",
    "    \n",
    "    # Create new columns\n",
    "    sub_dic[sub] = (sub_dic[sub]\n",
    "           .assign(Min=round((search_vol[sub]['min']*12) / 52))\n",
    "           .assign(Max=round((search_vol[sub]['max']*12) / 52))\n",
    "           .assign(Average=round((((search_vol[sub]['min'] * 12) / 52) + ((search_vol[sub]['max']*12)/52)) / 2))\n",
    "               )\n",
    "    \n",
    "    # Generate new column with random per week\n",
    "    sub_dic[sub]['Random'] = [np.random.randint(sub_dic[sub]['Min'].min(), sub_dic[sub]['Max'].max()) for row in range(len(sub_dic[sub]))]\n",
    "    \n",
    "    # Create a colum trend * mean\n",
    "    sub_dic[sub]['Searchs'] = round((sub_dic[sub]['Trend'] / 100) * sub_dic[sub]['Average'], 0)"
   ]
  },
  {
   "cell_type": "code",
   "execution_count": 88,
   "metadata": {},
   "outputs": [
    {
     "data": {
      "text/html": [
       "<div>\n",
       "<style scoped>\n",
       "    .dataframe tbody tr th:only-of-type {\n",
       "        vertical-align: middle;\n",
       "    }\n",
       "\n",
       "    .dataframe tbody tr th {\n",
       "        vertical-align: top;\n",
       "    }\n",
       "\n",
       "    .dataframe thead th {\n",
       "        text-align: right;\n",
       "    }\n",
       "</style>\n",
       "<table border=\"1\" class=\"dataframe\">\n",
       "  <thead>\n",
       "    <tr style=\"text-align: right;\">\n",
       "      <th></th>\n",
       "      <th>Date</th>\n",
       "      <th>Trend</th>\n",
       "      <th>isPartial</th>\n",
       "      <th>Min</th>\n",
       "      <th>Max</th>\n",
       "      <th>Average</th>\n",
       "      <th>Random</th>\n",
       "      <th>Searchs</th>\n",
       "    </tr>\n",
       "  </thead>\n",
       "  <tbody>\n",
       "    <tr>\n",
       "      <th>0</th>\n",
       "      <td>2015-07-12</td>\n",
       "      <td>60</td>\n",
       "      <td>False</td>\n",
       "      <td>2</td>\n",
       "      <td>23</td>\n",
       "      <td>13</td>\n",
       "      <td>2</td>\n",
       "      <td>8.0</td>\n",
       "    </tr>\n",
       "    <tr>\n",
       "      <th>1</th>\n",
       "      <td>2015-07-19</td>\n",
       "      <td>69</td>\n",
       "      <td>False</td>\n",
       "      <td>2</td>\n",
       "      <td>23</td>\n",
       "      <td>13</td>\n",
       "      <td>11</td>\n",
       "      <td>9.0</td>\n",
       "    </tr>\n",
       "    <tr>\n",
       "      <th>2</th>\n",
       "      <td>2015-07-26</td>\n",
       "      <td>56</td>\n",
       "      <td>False</td>\n",
       "      <td>2</td>\n",
       "      <td>23</td>\n",
       "      <td>13</td>\n",
       "      <td>16</td>\n",
       "      <td>7.0</td>\n",
       "    </tr>\n",
       "    <tr>\n",
       "      <th>3</th>\n",
       "      <td>2015-08-02</td>\n",
       "      <td>57</td>\n",
       "      <td>False</td>\n",
       "      <td>2</td>\n",
       "      <td>23</td>\n",
       "      <td>13</td>\n",
       "      <td>7</td>\n",
       "      <td>7.0</td>\n",
       "    </tr>\n",
       "    <tr>\n",
       "      <th>4</th>\n",
       "      <td>2015-08-09</td>\n",
       "      <td>64</td>\n",
       "      <td>False</td>\n",
       "      <td>2</td>\n",
       "      <td>23</td>\n",
       "      <td>13</td>\n",
       "      <td>2</td>\n",
       "      <td>8.0</td>\n",
       "    </tr>\n",
       "  </tbody>\n",
       "</table>\n",
       "</div>"
      ],
      "text/plain": [
       "        Date  Trend  isPartial  Min  Max  Average  Random  Searchs\n",
       "0 2015-07-12     60      False    2   23       13       2      8.0\n",
       "1 2015-07-19     69      False    2   23       13      11      9.0\n",
       "2 2015-07-26     56      False    2   23       13      16      7.0\n",
       "3 2015-08-02     57      False    2   23       13       7      7.0\n",
       "4 2015-08-09     64      False    2   23       13       2      8.0"
      ]
     },
     "execution_count": 88,
     "metadata": {},
     "output_type": "execute_result"
    }
   ],
   "source": [
    "# Check the output\n",
    "sub_dic['a_4'].head()"
   ]
  },
  {
   "cell_type": "code",
   "execution_count": null,
   "metadata": {},
   "outputs": [],
   "source": [
    "## BONUS - Integrate with the API"
   ]
  },
  {
   "cell_type": "markdown",
   "metadata": {},
   "source": [
    "## Templates that Canva is offering"
   ]
  },
  {
   "cell_type": "markdown",
   "metadata": {},
   "source": [
    "Count the # of templates that Canva is offering in its website"
   ]
  },
  {
   "cell_type": "code",
   "execution_count": 91,
   "metadata": {},
   "outputs": [],
   "source": [
    "templates_vol = {'presentation': 1000, \n",
    "                 'a_4': 3500, \n",
    "                 'letter': 886, \n",
    "                 'letterhead': 886,\n",
    "                 'resume': 1483,\n",
    "                 'presentation_4_3': 1146,\n",
    "                 'report': 1273,\n",
    "                 'daily_report': 98,\n",
    "                 'memo': 426,\n",
    "                 'invoice': 167}\n",
    "\n",
    "for sub in sub_dic:\n",
    "\n",
    "    # Assign to DataFrames\n",
    "    sub_dic[sub]['Number of templates'] = templates_vol[sub]"
   ]
  },
  {
   "cell_type": "code",
   "execution_count": 92,
   "metadata": {},
   "outputs": [
    {
     "data": {
      "text/html": [
       "<div>\n",
       "<style scoped>\n",
       "    .dataframe tbody tr th:only-of-type {\n",
       "        vertical-align: middle;\n",
       "    }\n",
       "\n",
       "    .dataframe tbody tr th {\n",
       "        vertical-align: top;\n",
       "    }\n",
       "\n",
       "    .dataframe thead th {\n",
       "        text-align: right;\n",
       "    }\n",
       "</style>\n",
       "<table border=\"1\" class=\"dataframe\">\n",
       "  <thead>\n",
       "    <tr style=\"text-align: right;\">\n",
       "      <th></th>\n",
       "      <th>Date</th>\n",
       "      <th>Trend</th>\n",
       "      <th>isPartial</th>\n",
       "      <th>Min</th>\n",
       "      <th>Max</th>\n",
       "      <th>Average</th>\n",
       "      <th>Random</th>\n",
       "      <th>Searchs</th>\n",
       "      <th>Number of templates</th>\n",
       "    </tr>\n",
       "  </thead>\n",
       "  <tbody>\n",
       "    <tr>\n",
       "      <th>0</th>\n",
       "      <td>2015-07-12</td>\n",
       "      <td>60</td>\n",
       "      <td>False</td>\n",
       "      <td>2</td>\n",
       "      <td>23</td>\n",
       "      <td>13</td>\n",
       "      <td>2</td>\n",
       "      <td>8.0</td>\n",
       "      <td>3500</td>\n",
       "    </tr>\n",
       "    <tr>\n",
       "      <th>1</th>\n",
       "      <td>2015-07-19</td>\n",
       "      <td>69</td>\n",
       "      <td>False</td>\n",
       "      <td>2</td>\n",
       "      <td>23</td>\n",
       "      <td>13</td>\n",
       "      <td>11</td>\n",
       "      <td>9.0</td>\n",
       "      <td>3500</td>\n",
       "    </tr>\n",
       "    <tr>\n",
       "      <th>2</th>\n",
       "      <td>2015-07-26</td>\n",
       "      <td>56</td>\n",
       "      <td>False</td>\n",
       "      <td>2</td>\n",
       "      <td>23</td>\n",
       "      <td>13</td>\n",
       "      <td>16</td>\n",
       "      <td>7.0</td>\n",
       "      <td>3500</td>\n",
       "    </tr>\n",
       "    <tr>\n",
       "      <th>3</th>\n",
       "      <td>2015-08-02</td>\n",
       "      <td>57</td>\n",
       "      <td>False</td>\n",
       "      <td>2</td>\n",
       "      <td>23</td>\n",
       "      <td>13</td>\n",
       "      <td>7</td>\n",
       "      <td>7.0</td>\n",
       "      <td>3500</td>\n",
       "    </tr>\n",
       "    <tr>\n",
       "      <th>4</th>\n",
       "      <td>2015-08-09</td>\n",
       "      <td>64</td>\n",
       "      <td>False</td>\n",
       "      <td>2</td>\n",
       "      <td>23</td>\n",
       "      <td>13</td>\n",
       "      <td>2</td>\n",
       "      <td>8.0</td>\n",
       "      <td>3500</td>\n",
       "    </tr>\n",
       "  </tbody>\n",
       "</table>\n",
       "</div>"
      ],
      "text/plain": [
       "        Date  Trend  isPartial  Min  Max  Average  Random  Searchs  \\\n",
       "0 2015-07-12     60      False    2   23       13       2      8.0   \n",
       "1 2015-07-19     69      False    2   23       13      11      9.0   \n",
       "2 2015-07-26     56      False    2   23       13      16      7.0   \n",
       "3 2015-08-02     57      False    2   23       13       7      7.0   \n",
       "4 2015-08-09     64      False    2   23       13       2      8.0   \n",
       "\n",
       "   Number of templates  \n",
       "0                 3500  \n",
       "1                 3500  \n",
       "2                 3500  \n",
       "3                 3500  \n",
       "4                 3500  "
      ]
     },
     "execution_count": 92,
     "metadata": {},
     "output_type": "execute_result"
    }
   ],
   "source": [
    "sub_dic['a_4'].head()"
   ]
  },
  {
   "cell_type": "markdown",
   "metadata": {},
   "source": [
    "## Check Data types + final cleaning"
   ]
  },
  {
   "cell_type": "code",
   "execution_count": 93,
   "metadata": {},
   "outputs": [
    {
     "data": {
      "text/plain": [
       "Date                   datetime64[ns]\n",
       "Trend                           int64\n",
       "isPartial                        bool\n",
       "Min                             int64\n",
       "Max                             int64\n",
       "Average                         int64\n",
       "Random                          int64\n",
       "Searchs                       float64\n",
       "Number of templates             int64\n",
       "dtype: object"
      ]
     },
     "execution_count": 93,
     "metadata": {},
     "output_type": "execute_result"
    }
   ],
   "source": [
    "sub_dic['a_4'].dtypes"
   ]
  },
  {
   "cell_type": "markdown",
   "metadata": {},
   "source": [
    "# Basic plotting"
   ]
  },
  {
   "cell_type": "code",
   "execution_count": 94,
   "metadata": {},
   "outputs": [],
   "source": [
    "import seaborn as sb"
   ]
  },
  {
   "cell_type": "markdown",
   "metadata": {},
   "source": [
    "## Bonus"
   ]
  },
  {
   "cell_type": "markdown",
   "metadata": {},
   "source": [
    "1. Try to get the data with requests. Now it is hardcoded\n",
    "2. Segment the subcategories by categories\n"
   ]
  },
  {
   "cell_type": "code",
   "execution_count": null,
   "metadata": {},
   "outputs": [],
   "source": [
    "pd.DataFrame(columns=[\"Subcategory\", \"Categoty\"])"
   ]
  },
  {
   "cell_type": "code",
   "execution_count": null,
   "metadata": {},
   "outputs": [],
   "source": [
    "headers = {'authority': 'www.canva.com',\n",
    "'method': 'GET',\n",
    "'path': '/create-a-design',\n",
    "'scheme': 'https',\n",
    "'accept': 'text/html,application/xhtml+xml,application/xml;q=0.9,image/webp,image/apng,*/*;q=0.8,application/signed-exchange;v=b3;q=0.9',\n",
    "'accept-encoding': 'gzip, deflate, br',\n",
    "'accept-language': 'en-US,en;q=0.9',\n",
    "'cache-control': 'max-age=0',\n",
    "'cookie': '__cfduid=dac51796841329b70661ebd07a4b3a8901591811643; CDI=888a9880-c327-4479-8e8b-9ba1da774a1a; CL=es-ES; ajs_group_id=null; ajs_anonymous_id=%22c1a4a653-107a-4341-b28e-dcdaf8b30169%22; _gcl_au=1.1.1259495208.1591811645; _ga=GA1.2.1022411617.1591811645; ab.storage.deviceId.320f7332-8571-45d7-b342-c54192dae547=%7B%22g%22%3A%223abc1a29-8121-d7ca-340a-f31fe27706a3%22%2C%22c%22%3A1591811645287%2C%22l%22%3A1591811645287%7D; _fbp=fb.1.1591811645414.41094145; CB=BADs5VlD2Bg; CS=1; ajs_user_id=%22UADs5dLCEjE%22; ab.storage.userId.320f7332-8571-45d7-b342-c54192dae547=%7B%22g%22%3A%22UADs5dLCEjE%22%2C%22c%22%3A1591811662791%2C%22l%22%3A1591811662791%7D; __stripe_mid=c81db500-bdf2-487a-a5ad-75ae9d22e99b; campaignTracker=CareersPage; _gid=GA1.2.1025166503.1593962736; CAZ=boxflnJsf51aH3f71XiopuK3CrO8cuyuw5GrquQTD0tB_GJG-s5RmTzX-G-dXfiWHRCZV2y7VciCP03NELbLJ5tNINCVqYopTdPp0n1kjTsxTykxlMMcONC6yL8Y-FDGr_yr6PwliRtGM8McXtxwoy1TY6qBhoKyCphBLIBg2ZpjJl5yTfHNdwnStMjDlJ3luXbDPF02J0GO2pQyiKvgMEIGohhRP54XtaKNrSHHpJtTRM9sTt1hjHgd-IUrOPEYDT0pS96LxcX1wRC_LrECNorvyQy6aQsWTstopMKSvJ6ZnbLh5Yu_5gWDcAUa2n1TkZI1zqHu_F_hQhTmOAH-60UskCnfkFHNa2UPQTkgbET9KsrE2cYhKWV3xrlh11zJSXjSK5KeRyurWLo6gkgcbxyOJhSs-eep2K7J4WC1MXUqUW2czm-NS4PZ8FTK-iEpBPpLp9vyMuSIFBR1q2pNKXYwZZRLhsmXAqYCvBsxUq-YdsJnftP06QLiyTJv_myWKX4n35ye1qsiuvQ9slYH6CrBfptmNSUFjK3ShZzrjCRiM2D4S9IfuEHizzp-C5cw8peDgnmIozjPZ4iaY-Nj0hDqvm1NNjb7KXarqVcH3B0xWoVKTP8ViM5hHDzvkHYx32EEr6vzsNQCowgbU09xZRHBkexnW-TRF2yvzAGrok4_SIrDZNXJgpFmC1kIj4bpzjtWgP12DVlh5Ozg-tXEtgTloa2SL0mSHchEG3N0FKcrc-3w; CID=_FTzF4vDbEzgzTdotlrRYpAVj_CG6qR2E5VkUbDA7N18UAf-k8DFGqh9ph_dViSM4aeyHv7RoKZ_MV12GlLN6znSv0OJoIst4JvST3qqAnKSVf72; CUI=RAVzK9FjV4qqVyq91U-AAcoMQOJY2LUfEowvOApAtSrMP9gIZpgZhHuTSb6HcZB_5HKR3w; _uetsid=76b9bd64-a296-63f2-c087-1570adb8bf21; _uetvid=233327d4-113a-e5a7-fd6f-b7cabb771c47; ab.storage.sessionId.320f7332-8571-45d7-b342-c54192dae547=%7B%22g%22%3A%22939a268b-0650-81f9-ceb0-7ab6c1e10c12%22%2C%22e%22%3A1594023258512%2C%22c%22%3A1594020164402%2C%22l%22%3A1594021458512%7D',\n",
    "'sec-fetch-dest': 'document',\n",
    "'sec-fetch-mode': 'navigate',\n",
    "'sec-fetch-site': 'none',\n",
    "'sec-fetch-user': '?1',\n",
    "'upgrade-insecure-requests': '1',\n",
    "'user-agent': 'Mozilla/5.0 (Macintosh; Intel Mac OS X 10_13_6) AppleWebKit/537.36 (KHTML, like Gecko) Chrome/83.0.4103.116 Safari/537.36',\n",
    "'token': '...'}\n"
   ]
  },
  {
   "cell_type": "code",
   "execution_count": null,
   "metadata": {},
   "outputs": [],
   "source": [
    "soup.select('div', {'id':'genre-video'})\n",
    "\n",
    "# soup2 = bs(subset, 'html.parser')\n",
    "\n",
    "# soup2.find_all('p', {'class':'MpjE4w bSncsg n9zSJA ZTpOuQ u9XXAg HnhAQA l1bE7Q mNfh2Q'})\n",
    "\n",
    "#for cat in subCat_list:\n",
    "#    sub_cat.append(cat.text)\n",
    "\n",
    "#        for card in soup.select(\"div.result-card__contents\"):\n",
    " #           title = card.findChild(\"h3\", recursive=False)\n",
    "  #          company = card.findChild(\"h4\", recursive=False)\n",
    "   #         location = card.findChild(\"span\", attrs={\"class\": \"job-result-card__location\"}, recursive=True)\n",
    "    #        titles.append(title.string)\n",
    "     #       companies.append(company.string)\n",
    "      #      locations.append(location.string)\n"
   ]
  },
  {
   "cell_type": "code",
   "execution_count": null,
   "metadata": {},
   "outputs": [],
   "source": [
    "#video = soup.find_all('div', {'class': 'K1bdNw ElK36A eGNjaw RTlscw'})\n",
    "\n",
    "#[category.find('p', {'class': 'MpjE4w bSncsg n9zSJA ZTpOuQ u9XXAg HnhAQA l1bE7Q mNfh2Q'}).text for category in video]\n",
    "    \n",
    "#video_list = []\n",
    "#for vid_cat in video:\n",
    "#    video_list.append(vid_cat.text)\n",
    "    \n",
    "#video_list "
   ]
  }
 ],
 "metadata": {
  "kernelspec": {
   "display_name": "Python 3",
   "language": "python",
   "name": "python3"
  },
  "language_info": {
   "codemirror_mode": {
    "name": "ipython",
    "version": 3
   },
   "file_extension": ".py",
   "mimetype": "text/x-python",
   "name": "python",
   "nbconvert_exporter": "python",
   "pygments_lexer": "ipython3",
   "version": "3.8.3"
  }
 },
 "nbformat": 4,
 "nbformat_minor": 4
}
