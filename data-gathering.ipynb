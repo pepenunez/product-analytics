{
 "cells": [
  {
   "cell_type": "code",
   "execution_count": 1,
   "metadata": {},
   "outputs": [],
   "source": [
    "import pandas as pd\n",
    "import requests as req\n",
    "import numpy as np\n",
    "\n",
    "# Scrapping packages\n",
    "from bs4 import BeautifulSoup as bs\n",
    "\n",
    "# Google Trends API connection\n",
    "# documentation -> https://pypi.org/project/pytrends/#api-methods\n",
    "from pytrends.request import TrendReq\n",
    "pytrends = TrendReq()\n",
    "\n",
    "# Statistics + plotting\n",
    "import matplotlib\n",
    "import matplotlib.pyplot as plt\n",
    "from sklearn.linear_model import LinearRegression\n",
    "import statsmodels.api as sm"
   ]
  },
  {
   "cell_type": "code",
   "execution_count": 2,
   "metadata": {},
   "outputs": [],
   "source": [
    "# Read text file with Canva's HTML \"https://www.canva.com/create-a-design\"\n",
    "f = open('../project-4/canva.txt', 'r')\n",
    "content = f.read()\n",
    "\n",
    "## [BONUS] page = req.get(\"https://www.canva.com/create-a-design\", headers=headers)\n",
    "soup = bs(content, 'html.parser')"
   ]
  },
  {
   "cell_type": "code",
   "execution_count": 3,
   "metadata": {},
   "outputs": [],
   "source": [
    "# Create a list to store subcategories scrapped from 'https://www.canva.com/create-a-design'\n",
    "cat = []\n",
    "sub_cat = []\n",
    "\n",
    "# Iterate and append to cat:\n",
    "cat_list = soup.find_all('span', {'class':'s-xOCQ'})\n",
    "for c in cat_list:\n",
    "    cat.append(c.text)\n",
    "    \n",
    "# Iterate and append to sub_cat:\n",
    "subCat_list = soup.find_all('p', {'class':'MpjE4w bSncsg n9zSJA ZTpOuQ u9XXAg HnhAQA l1bE7Q mNfh2Q'})\n",
    "for cat in subCat_list:\n",
    "    sub_cat.append(cat.text)"
   ]
  },
  {
   "cell_type": "code",
   "execution_count": 4,
   "metadata": {},
   "outputs": [
    {
     "name": "stdout",
     "output_type": "stream",
     "text": [
      "<p class=\"MpjE4w bSncsg n9zSJA ZTpOuQ u9XXAg HnhAQA l1bE7Q mNfh2Q\" style=\"-webkit-line-clamp: 2; max-height: calc(3.2em);\">Medium Rectangle Ad</p>\n",
      "['Animated Social Media', 'Video', 'Facebook Video', 'Social Feed Video Ad', 'Pinterest Video Pin', 'In-Stream Video Ad', 'Animated Social Media', 'Facebook Video', 'Instagram Post', 'Instagram Story', 'Facebook Post', 'Facebook Story', 'Presentation', 'A4 Document', 'Letter', 'Letterhead', 'Resume', 'Presentation (4:3)', 'Card', 'Birthday Card', 'Photo Collage', 'Photo Book', 'Calendar', 'Planner', 'Yearbook', 'Class Schedule', 'Worksheet', 'Lesson Plan', 'Report Card', 'Bookmark', 'Logo', 'Poster', 'Flyer', 'Business Card', 'Infographic', 'Brochure', 'Invitation', 'Birthday Invitation', 'Wedding Invitation (Portrait)', 'Announcement', 'Programme', 'Event Programme', 'Facebook Ad', 'Instagram Ad', 'Large Rectangle Ad', 'Leaderboard Ad', 'Wide Skyscraper Ad', 'Medium Rectangle Ad']\n"
     ]
    }
   ],
   "source": [
    "# Explore results\n",
    "print(cat)\n",
    "print(sub_cat)"
   ]
  },
  {
   "cell_type": "code",
   "execution_count": 5,
   "metadata": {},
   "outputs": [
    {
     "data": {
      "text/html": [
       "<div>\n",
       "<style scoped>\n",
       "    .dataframe tbody tr th:only-of-type {\n",
       "        vertical-align: middle;\n",
       "    }\n",
       "\n",
       "    .dataframe tbody tr th {\n",
       "        vertical-align: top;\n",
       "    }\n",
       "\n",
       "    .dataframe thead th {\n",
       "        text-align: right;\n",
       "    }\n",
       "</style>\n",
       "<table border=\"1\" class=\"dataframe\">\n",
       "  <thead>\n",
       "    <tr style=\"text-align: right;\">\n",
       "      <th></th>\n",
       "      <th>Subcategory</th>\n",
       "      <th>Category</th>\n",
       "    </tr>\n",
       "  </thead>\n",
       "  <tbody>\n",
       "    <tr>\n",
       "      <th>0</th>\n",
       "      <td>Presentation</td>\n",
       "      <td>Documents</td>\n",
       "    </tr>\n",
       "    <tr>\n",
       "      <th>1</th>\n",
       "      <td>A4 Document</td>\n",
       "      <td>Documents</td>\n",
       "    </tr>\n",
       "    <tr>\n",
       "      <th>2</th>\n",
       "      <td>Letter</td>\n",
       "      <td>Documents</td>\n",
       "    </tr>\n",
       "    <tr>\n",
       "      <th>3</th>\n",
       "      <td>Letterhead</td>\n",
       "      <td>Documents</td>\n",
       "    </tr>\n",
       "    <tr>\n",
       "      <th>4</th>\n",
       "      <td>Resume</td>\n",
       "      <td>Documents</td>\n",
       "    </tr>\n",
       "    <tr>\n",
       "      <th>5</th>\n",
       "      <td>Presentation (4:3)</td>\n",
       "      <td>Documents</td>\n",
       "    </tr>\n",
       "    <tr>\n",
       "      <th>6</th>\n",
       "      <td>Report</td>\n",
       "      <td>Documents</td>\n",
       "    </tr>\n",
       "    <tr>\n",
       "      <th>7</th>\n",
       "      <td>Daily Report</td>\n",
       "      <td>Documents</td>\n",
       "    </tr>\n",
       "    <tr>\n",
       "      <th>8</th>\n",
       "      <td>Memo</td>\n",
       "      <td>Documents</td>\n",
       "    </tr>\n",
       "    <tr>\n",
       "      <th>9</th>\n",
       "      <td>Invoice</td>\n",
       "      <td>Documents</td>\n",
       "    </tr>\n",
       "  </tbody>\n",
       "</table>\n",
       "</div>"
      ],
      "text/plain": [
       "          Subcategory   Category\n",
       "0        Presentation  Documents\n",
       "1         A4 Document  Documents\n",
       "2              Letter  Documents\n",
       "3          Letterhead  Documents\n",
       "4              Resume  Documents\n",
       "5  Presentation (4:3)  Documents\n",
       "6              Report  Documents\n",
       "7        Daily Report  Documents\n",
       "8                Memo  Documents\n",
       "9             Invoice  Documents"
      ]
     },
     "execution_count": 5,
     "metadata": {},
     "output_type": "execute_result"
    }
   ],
   "source": [
    "# Create DataFrame where we will combine the subcategory info\n",
    "tem = pd.DataFrame(columns=['Subcategory', 'Category'])\n",
    "\n",
    "## MVP version\n",
    "categories = {'Documents': ['Presentation', 'A4 Document', 'Letter', 'Letterhead', 'Resume', 'Presentation (4:3)', 'Report', 'Daily Report', 'Memo', 'Invoice']}\n",
    "\n",
    "documents = pd.DataFrame(columns=['Subcategory', 'Category'])\n",
    "documents['Subcategory'] = ['Presentation', 'A4 Document', 'Letter', 'Letterhead', 'Resume', 'Presentation (4:3)', 'Report', 'Daily Report', 'Memo', 'Invoice']\n",
    "documents['Category'] = 'Documents'\n",
    "documents\n",
    "\n",
    "# Create a dictionary with the cat - sub_cat relation\n",
    "### (BONUS) scrape it\n",
    "\n",
    "# Populate Subcategory Series\n",
    "#tem['Subcategory'] = list(set(sub_cat))\n",
    "\n",
    "#tem[tem['Subcategory'] in categories.values()]"
   ]
  },
  {
   "cell_type": "markdown",
   "metadata": {},
   "source": [
    "## Google trends"
   ]
  },
  {
   "cell_type": "code",
   "execution_count": 6,
   "metadata": {},
   "outputs": [],
   "source": [
    "# API call to Google Trends\n",
    "def get_trend(keyword:str):\n",
    "    \n",
    "        # Build the payload\n",
    "        kw_list = [keyword]\n",
    "        pytrends.build_payload(kw_list, cat=0, timeframe=f'today 5-y', geo='', gprop='') # 5 years | globally\n",
    "        df = pytrends.interest_over_time().reset_index()\n",
    "        df = df.rename(columns={'date': 'Date', keyword: 'Trend'})\n",
    "        return df\n",
    "    \n",
    "# .drop('isPartial', axis=1, inplace=True)"
   ]
  },
  {
   "cell_type": "code",
   "execution_count": 7,
   "metadata": {},
   "outputs": [],
   "source": [
    "# Dictionary with keyword that is being evaluated per each subcategory 'sub'\n",
    "sub_dic = {'presentation': 'presentation template',\n",
    "           'a_4': 'A4 template',\n",
    "           'letter': 'letter template' ,\n",
    "           'letterhead': 'letterhead template',\n",
    "           'resume': 'resume template',\n",
    "           'presentation_4_3': '4:3 template',\n",
    "           'report': 'report template',\n",
    "           'daily_report': 'daily report template',\n",
    "           'memo': 'memo template',\n",
    "           'invoice': 'invoice template'}\n",
    "\n",
    "# Create a list with the keys\n",
    "clean_list = sub_dic.keys()\n",
    "\n",
    "for category in sub_dic:\n",
    "    sub_dic[category] = get_trend(sub_dic[category])"
   ]
  },
  {
   "cell_type": "code",
   "execution_count": 8,
   "metadata": {},
   "outputs": [
    {
     "data": {
      "text/html": [
       "<div>\n",
       "<style scoped>\n",
       "    .dataframe tbody tr th:only-of-type {\n",
       "        vertical-align: middle;\n",
       "    }\n",
       "\n",
       "    .dataframe tbody tr th {\n",
       "        vertical-align: top;\n",
       "    }\n",
       "\n",
       "    .dataframe thead th {\n",
       "        text-align: right;\n",
       "    }\n",
       "</style>\n",
       "<table border=\"1\" class=\"dataframe\">\n",
       "  <thead>\n",
       "    <tr style=\"text-align: right;\">\n",
       "      <th></th>\n",
       "      <th>Date</th>\n",
       "      <th>Trend</th>\n",
       "      <th>isPartial</th>\n",
       "    </tr>\n",
       "  </thead>\n",
       "  <tbody>\n",
       "    <tr>\n",
       "      <th>0</th>\n",
       "      <td>2015-07-12</td>\n",
       "      <td>76</td>\n",
       "      <td>False</td>\n",
       "    </tr>\n",
       "    <tr>\n",
       "      <th>1</th>\n",
       "      <td>2015-07-19</td>\n",
       "      <td>66</td>\n",
       "      <td>False</td>\n",
       "    </tr>\n",
       "    <tr>\n",
       "      <th>2</th>\n",
       "      <td>2015-07-26</td>\n",
       "      <td>46</td>\n",
       "      <td>False</td>\n",
       "    </tr>\n",
       "    <tr>\n",
       "      <th>3</th>\n",
       "      <td>2015-08-02</td>\n",
       "      <td>58</td>\n",
       "      <td>False</td>\n",
       "    </tr>\n",
       "    <tr>\n",
       "      <th>4</th>\n",
       "      <td>2015-08-09</td>\n",
       "      <td>54</td>\n",
       "      <td>False</td>\n",
       "    </tr>\n",
       "  </tbody>\n",
       "</table>\n",
       "</div>"
      ],
      "text/plain": [
       "        Date  Trend  isPartial\n",
       "0 2015-07-12     76      False\n",
       "1 2015-07-19     66      False\n",
       "2 2015-07-26     46      False\n",
       "3 2015-08-02     58      False\n",
       "4 2015-08-09     54      False"
      ]
     },
     "execution_count": 8,
     "metadata": {},
     "output_type": "execute_result"
    }
   ],
   "source": [
    "# Check the output\n",
    "sub_dic['a_4'].head()"
   ]
  },
  {
   "cell_type": "code",
   "execution_count": 9,
   "metadata": {},
   "outputs": [],
   "source": [
    "# LEGACY CODE\n",
    "#presentation = get_trend(clean_dic['presentation'])\n",
    "#a4 = get_trend(clean_dic['a4'])\n",
    "#letter = get_trend(clean_dic['letter'])\n",
    "#letterhead = get_trend(clean_dic['letterhead'])\n",
    "#resume = get_trend(clean_dic['resume'])\n",
    "#presentation_4_3 = get_trend(clean_dic['presentation_4_3'])\n",
    "#report = get_trend(clean_dic['report'])\n",
    "#daily_report = get_trend(clean_dic['daily_report'])\n",
    "#memo = get_trend(clean_dic['memo'])\n",
    "#invoice = get_trend(clean_dic['invoice'])"
   ]
  },
  {
   "cell_type": "markdown",
   "metadata": {},
   "source": [
    "## Key word planner"
   ]
  },
  {
   "cell_type": "markdown",
   "metadata": {},
   "source": [
    "Importing the weekly search range"
   ]
  },
  {
   "cell_type": "code",
   "execution_count": 10,
   "metadata": {},
   "outputs": [],
   "source": [
    "# Average monthly search volume from 'https://ads.google.com/aw/keywordplanner/ideas/new?ocid=288160316&euid=220210981&__u=7630327869&uscid=288160316&__c=9136488284&authuser=0&__e=2685651001&sf=barebones&subid=de-de-et-g-aw-a-tools-kwp_bb-awhp_xin1%21o2'\n",
    "search_vol = {'presentation':{'min': 10000, 'max': 100000}, \n",
    "              'a_4': {'min': 10, 'max': 100}, \n",
    "              'letter': {'min': 10000, 'max': 100000}, \n",
    "              'letterhead': {'min': 10000, 'max': 100000},\n",
    "              'resume': {'min': 100000, 'max': 1000000},\n",
    "              'presentation_4_3': {'min': 10, 'max': 100},\n",
    "              'report': {'min': 10000, 'max': 100000},\n",
    "              'daily_report': {'min': 1000, 'max': 100000},\n",
    "              'memo': {'min': 10000, 'max': 100000},\n",
    "              'invoice': {'min': 100000, 'max': 1000000}}\n",
    "                \n",
    "# Populate the DataFrames with seach volumes\n",
    "for sub in sub_dic:\n",
    "    \n",
    "    # Create new columns\n",
    "    sub_dic[sub] = (sub_dic[sub]\n",
    "           .assign(Min=round((search_vol[sub]['min']*12) / 52))\n",
    "           .assign(Max=round((search_vol[sub]['max']*12) / 52))\n",
    "           .assign(Average=round((((search_vol[sub]['min'] * 12) / 52) + ((search_vol[sub]['max']*12)/52)) / 2))\n",
    "               )\n",
    "    \n",
    "    # Generate new column with random per week\n",
    "    sub_dic[sub]['Random'] = [np.random.randint(sub_dic[sub]['Min'].min(), sub_dic[sub]['Max'].max()) for row in range(len(sub_dic[sub]))]\n",
    "    \n",
    "    # Create a colum trend * mean\n",
    "    sub_dic[sub]['Search Vol'] = round((sub_dic[sub]['Trend'] / 100) * sub_dic[sub]['Average'], 0)"
   ]
  },
  {
   "cell_type": "code",
   "execution_count": 11,
   "metadata": {},
   "outputs": [
    {
     "data": {
      "text/html": [
       "<div>\n",
       "<style scoped>\n",
       "    .dataframe tbody tr th:only-of-type {\n",
       "        vertical-align: middle;\n",
       "    }\n",
       "\n",
       "    .dataframe tbody tr th {\n",
       "        vertical-align: top;\n",
       "    }\n",
       "\n",
       "    .dataframe thead th {\n",
       "        text-align: right;\n",
       "    }\n",
       "</style>\n",
       "<table border=\"1\" class=\"dataframe\">\n",
       "  <thead>\n",
       "    <tr style=\"text-align: right;\">\n",
       "      <th></th>\n",
       "      <th>Date</th>\n",
       "      <th>Trend</th>\n",
       "      <th>isPartial</th>\n",
       "      <th>Min</th>\n",
       "      <th>Max</th>\n",
       "      <th>Average</th>\n",
       "      <th>Random</th>\n",
       "      <th>Search Vol</th>\n",
       "    </tr>\n",
       "  </thead>\n",
       "  <tbody>\n",
       "    <tr>\n",
       "      <th>0</th>\n",
       "      <td>2015-07-12</td>\n",
       "      <td>76</td>\n",
       "      <td>False</td>\n",
       "      <td>2</td>\n",
       "      <td>23</td>\n",
       "      <td>13</td>\n",
       "      <td>12</td>\n",
       "      <td>10.0</td>\n",
       "    </tr>\n",
       "    <tr>\n",
       "      <th>1</th>\n",
       "      <td>2015-07-19</td>\n",
       "      <td>66</td>\n",
       "      <td>False</td>\n",
       "      <td>2</td>\n",
       "      <td>23</td>\n",
       "      <td>13</td>\n",
       "      <td>19</td>\n",
       "      <td>9.0</td>\n",
       "    </tr>\n",
       "    <tr>\n",
       "      <th>2</th>\n",
       "      <td>2015-07-26</td>\n",
       "      <td>46</td>\n",
       "      <td>False</td>\n",
       "      <td>2</td>\n",
       "      <td>23</td>\n",
       "      <td>13</td>\n",
       "      <td>14</td>\n",
       "      <td>6.0</td>\n",
       "    </tr>\n",
       "    <tr>\n",
       "      <th>3</th>\n",
       "      <td>2015-08-02</td>\n",
       "      <td>58</td>\n",
       "      <td>False</td>\n",
       "      <td>2</td>\n",
       "      <td>23</td>\n",
       "      <td>13</td>\n",
       "      <td>19</td>\n",
       "      <td>8.0</td>\n",
       "    </tr>\n",
       "    <tr>\n",
       "      <th>4</th>\n",
       "      <td>2015-08-09</td>\n",
       "      <td>54</td>\n",
       "      <td>False</td>\n",
       "      <td>2</td>\n",
       "      <td>23</td>\n",
       "      <td>13</td>\n",
       "      <td>11</td>\n",
       "      <td>7.0</td>\n",
       "    </tr>\n",
       "  </tbody>\n",
       "</table>\n",
       "</div>"
      ],
      "text/plain": [
       "        Date  Trend  isPartial  Min  Max  Average  Random  Search Vol\n",
       "0 2015-07-12     76      False    2   23       13      12        10.0\n",
       "1 2015-07-19     66      False    2   23       13      19         9.0\n",
       "2 2015-07-26     46      False    2   23       13      14         6.0\n",
       "3 2015-08-02     58      False    2   23       13      19         8.0\n",
       "4 2015-08-09     54      False    2   23       13      11         7.0"
      ]
     },
     "execution_count": 11,
     "metadata": {},
     "output_type": "execute_result"
    }
   ],
   "source": [
    "# Check the output\n",
    "sub_dic['a_4'].head()"
   ]
  },
  {
   "cell_type": "code",
   "execution_count": 12,
   "metadata": {},
   "outputs": [],
   "source": [
    "## BONUS - Integrate with the API"
   ]
  },
  {
   "cell_type": "markdown",
   "metadata": {},
   "source": [
    "## Templates that Canva is offering"
   ]
  },
  {
   "cell_type": "markdown",
   "metadata": {},
   "source": [
    "Count the # of templates that Canva is offering in its website"
   ]
  },
  {
   "cell_type": "code",
   "execution_count": 13,
   "metadata": {},
   "outputs": [],
   "source": [
    "templates_vol = {'presentation': 1000, \n",
    "                 'a_4': 3500, \n",
    "                 'letter': 886, \n",
    "                 'letterhead': 886,\n",
    "                 'resume': 1483,\n",
    "                 'presentation_4_3': 1146,\n",
    "                 'report': 1273,\n",
    "                 'daily_report': 98,\n",
    "                 'memo': 426,\n",
    "                 'invoice': 167}\n",
    "\n",
    "for sub in sub_dic:\n",
    "\n",
    "    # Assign to DataFrames\n",
    "    sub_dic[sub]['Number of templates'] = templates_vol[sub]"
   ]
  },
  {
   "cell_type": "code",
   "execution_count": 14,
   "metadata": {},
   "outputs": [
    {
     "data": {
      "text/html": [
       "<div>\n",
       "<style scoped>\n",
       "    .dataframe tbody tr th:only-of-type {\n",
       "        vertical-align: middle;\n",
       "    }\n",
       "\n",
       "    .dataframe tbody tr th {\n",
       "        vertical-align: top;\n",
       "    }\n",
       "\n",
       "    .dataframe thead th {\n",
       "        text-align: right;\n",
       "    }\n",
       "</style>\n",
       "<table border=\"1\" class=\"dataframe\">\n",
       "  <thead>\n",
       "    <tr style=\"text-align: right;\">\n",
       "      <th></th>\n",
       "      <th>Date</th>\n",
       "      <th>Trend</th>\n",
       "      <th>isPartial</th>\n",
       "      <th>Min</th>\n",
       "      <th>Max</th>\n",
       "      <th>Average</th>\n",
       "      <th>Random</th>\n",
       "      <th>Search Vol</th>\n",
       "      <th>Number of templates</th>\n",
       "    </tr>\n",
       "  </thead>\n",
       "  <tbody>\n",
       "    <tr>\n",
       "      <th>0</th>\n",
       "      <td>2015-07-12</td>\n",
       "      <td>76</td>\n",
       "      <td>False</td>\n",
       "      <td>2</td>\n",
       "      <td>23</td>\n",
       "      <td>13</td>\n",
       "      <td>12</td>\n",
       "      <td>10.0</td>\n",
       "      <td>3500</td>\n",
       "    </tr>\n",
       "    <tr>\n",
       "      <th>1</th>\n",
       "      <td>2015-07-19</td>\n",
       "      <td>66</td>\n",
       "      <td>False</td>\n",
       "      <td>2</td>\n",
       "      <td>23</td>\n",
       "      <td>13</td>\n",
       "      <td>19</td>\n",
       "      <td>9.0</td>\n",
       "      <td>3500</td>\n",
       "    </tr>\n",
       "    <tr>\n",
       "      <th>2</th>\n",
       "      <td>2015-07-26</td>\n",
       "      <td>46</td>\n",
       "      <td>False</td>\n",
       "      <td>2</td>\n",
       "      <td>23</td>\n",
       "      <td>13</td>\n",
       "      <td>14</td>\n",
       "      <td>6.0</td>\n",
       "      <td>3500</td>\n",
       "    </tr>\n",
       "    <tr>\n",
       "      <th>3</th>\n",
       "      <td>2015-08-02</td>\n",
       "      <td>58</td>\n",
       "      <td>False</td>\n",
       "      <td>2</td>\n",
       "      <td>23</td>\n",
       "      <td>13</td>\n",
       "      <td>19</td>\n",
       "      <td>8.0</td>\n",
       "      <td>3500</td>\n",
       "    </tr>\n",
       "    <tr>\n",
       "      <th>4</th>\n",
       "      <td>2015-08-09</td>\n",
       "      <td>54</td>\n",
       "      <td>False</td>\n",
       "      <td>2</td>\n",
       "      <td>23</td>\n",
       "      <td>13</td>\n",
       "      <td>11</td>\n",
       "      <td>7.0</td>\n",
       "      <td>3500</td>\n",
       "    </tr>\n",
       "  </tbody>\n",
       "</table>\n",
       "</div>"
      ],
      "text/plain": [
       "        Date  Trend  isPartial  Min  Max  Average  Random  Search Vol  \\\n",
       "0 2015-07-12     76      False    2   23       13      12        10.0   \n",
       "1 2015-07-19     66      False    2   23       13      19         9.0   \n",
       "2 2015-07-26     46      False    2   23       13      14         6.0   \n",
       "3 2015-08-02     58      False    2   23       13      19         8.0   \n",
       "4 2015-08-09     54      False    2   23       13      11         7.0   \n",
       "\n",
       "   Number of templates  \n",
       "0                 3500  \n",
       "1                 3500  \n",
       "2                 3500  \n",
       "3                 3500  \n",
       "4                 3500  "
      ]
     },
     "execution_count": 14,
     "metadata": {},
     "output_type": "execute_result"
    }
   ],
   "source": [
    "sub_dic['a_4'].head()"
   ]
  },
  {
   "cell_type": "markdown",
   "metadata": {},
   "source": [
    "## Check Data types + final cleaning"
   ]
  },
  {
   "cell_type": "code",
   "execution_count": 15,
   "metadata": {},
   "outputs": [
    {
     "data": {
      "text/plain": [
       "Date                   datetime64[ns]\n",
       "Trend                           int64\n",
       "isPartial                        bool\n",
       "Min                             int64\n",
       "Max                             int64\n",
       "Average                         int64\n",
       "Random                          int64\n",
       "Search Vol                    float64\n",
       "Number of templates             int64\n",
       "dtype: object"
      ]
     },
     "execution_count": 15,
     "metadata": {},
     "output_type": "execute_result"
    }
   ],
   "source": [
    "sub_dic['a_4'].dtypes"
   ]
  },
  {
   "cell_type": "markdown",
   "metadata": {},
   "source": [
    "# Basic plotting"
   ]
  },
  {
   "cell_type": "code",
   "execution_count": 16,
   "metadata": {},
   "outputs": [],
   "source": [
    "import seaborn as sns\n",
    "import matplotlib.pyplot as plt"
   ]
  },
  {
   "cell_type": "code",
   "execution_count": 17,
   "metadata": {},
   "outputs": [
    {
     "data": {
      "image/png": "[encoded data removed]",
      "text/plain": [
       "<Figure size 1080x360 with 1 Axes>"
      ]
     },
     "metadata": {
      "needs_background": "light"
     },
     "output_type": "display_data"
    }
   ],
   "source": [
    "# Volume of searchs\n",
    "sub_colors = {'presentation': 'red', \n",
    "              'a_4': 'orange', \n",
    "              'letter': 'blue', \n",
    "              'letterhead': 'grey',\n",
    "              'resume': 'black',\n",
    "              'presentation_4_3': 'yellow',\n",
    "              'report': 'purple',\n",
    "              'daily_report': 'brown',\n",
    "              'memo': 'green',\n",
    "              'invoice': 'magenta'}\n",
    "\n",
    "plt.figure(figsize=(15,5))\n",
    "\n",
    "for sub, colr in zip(sub_dic, sub_colors.values()):\n",
    "    \n",
    "    # Create a graph with the volume of searches\n",
    "    ax = sns.lineplot(data=sub_dic[sub], \n",
    "                  x='Date', \n",
    "                  y='Search Vol',\n",
    "                  color=colr)\n",
    "    \n",
    "# [Bonus] --> Adding legen with sub category name"
   ]
  },
  {
   "cell_type": "markdown",
   "metadata": {},
   "source": [
    "Resume and Invoice sub-categories have much more search vol than the rest. For the sake of the analysis, could be interesting to add those sub-categories with less than 10.000 monthly visits."
   ]
  },
  {
   "cell_type": "code",
   "execution_count": 18,
   "metadata": {},
   "outputs": [],
   "source": [
    "# Same plot with subcategories with less than 10.000 monthly searches on average\n",
    "sub_dic_gp = {'Under 10k': pd.DataFrame(columns=['Date', 'Search Vol']),\n",
    "              'Under 100k': pd.DataFrame(columns=['Date', 'Search Vol'])}\n",
    "\n",
    "# Aggregate DataFrames by groups depending on Search Vol.\n",
    "for sub, colr in zip(sub_dic, sub_colors.values()):\n",
    "    \n",
    "    # Subcategories with an avge of less than 10k monthly seaches\n",
    "    if (sub_dic[sub]['Search Vol'].mean() * 52) / 12 < 10000:\n",
    "        sub_dic_gp['Under 10k'] = pd.concat([sub_dic_gp['Under 10k'], sub_dic[sub]])\n",
    "    \n",
    "    # Subcategories with an avge of less than 10k monthly seaches\n",
    "    elif ((sub_dic[sub]['Search Vol'].mean() * 52) / 12 < 100000) & ((sub_dic[sub]['Search Vol'].mean() * 52) / 12 > 10000):\n",
    "        sub_dic_gp['Under 100k'] = pd.concat([sub_dic_gp['Under 100k'], sub_dic[sub]])\n",
    "    \n",
    "    # The rest will be analysed individually\n",
    "    else:\n",
    "        sub_dic_gp[sub] = sub_dic[sub]\n",
    "\n",
    "# Grouping by day and summing 'Seatch Vol.'\n",
    "sub_dic_gp['Under 10k'] = sub_dic_gp['Under 10k'].groupby('Date', as_index=False).agg('sum')\n",
    "sub_dic_gp['Under 100k'] = sub_dic_gp['Under 100k'].groupby('Date', as_index=False).agg('sum')"
   ]
  },
  {
   "cell_type": "code",
   "execution_count": 19,
   "metadata": {},
   "outputs": [
    {
     "data": {
      "text/html": [
       "<div>\n",
       "<style scoped>\n",
       "    .dataframe tbody tr th:only-of-type {\n",
       "        vertical-align: middle;\n",
       "    }\n",
       "\n",
       "    .dataframe tbody tr th {\n",
       "        vertical-align: top;\n",
       "    }\n",
       "\n",
       "    .dataframe thead th {\n",
       "        text-align: right;\n",
       "    }\n",
       "</style>\n",
       "<table border=\"1\" class=\"dataframe\">\n",
       "  <thead>\n",
       "    <tr style=\"text-align: right;\">\n",
       "      <th></th>\n",
       "      <th>Date</th>\n",
       "      <th>Search Vol</th>\n",
       "      <th>Trend</th>\n",
       "      <th>Min</th>\n",
       "      <th>Max</th>\n",
       "      <th>Average</th>\n",
       "      <th>Random</th>\n",
       "      <th>Number of templates</th>\n",
       "    </tr>\n",
       "  </thead>\n",
       "  <tbody>\n",
       "    <tr>\n",
       "      <th>0</th>\n",
       "      <td>2015-07-12</td>\n",
       "      <td>50198.0</td>\n",
       "      <td>400.0</td>\n",
       "      <td>11771.0</td>\n",
       "      <td>138462.0</td>\n",
       "      <td>75114.0</td>\n",
       "      <td>74710.0</td>\n",
       "      <td>4569.0</td>\n",
       "    </tr>\n",
       "    <tr>\n",
       "      <th>1</th>\n",
       "      <td>2015-07-19</td>\n",
       "      <td>49835.0</td>\n",
       "      <td>396.0</td>\n",
       "      <td>11771.0</td>\n",
       "      <td>138462.0</td>\n",
       "      <td>75114.0</td>\n",
       "      <td>66897.0</td>\n",
       "      <td>4569.0</td>\n",
       "    </tr>\n",
       "    <tr>\n",
       "      <th>2</th>\n",
       "      <td>2015-07-26</td>\n",
       "      <td>54422.0</td>\n",
       "      <td>435.0</td>\n",
       "      <td>11771.0</td>\n",
       "      <td>138462.0</td>\n",
       "      <td>75114.0</td>\n",
       "      <td>80773.0</td>\n",
       "      <td>4569.0</td>\n",
       "    </tr>\n",
       "    <tr>\n",
       "      <th>3</th>\n",
       "      <td>2015-08-02</td>\n",
       "      <td>51010.0</td>\n",
       "      <td>406.0</td>\n",
       "      <td>11771.0</td>\n",
       "      <td>138462.0</td>\n",
       "      <td>75114.0</td>\n",
       "      <td>77443.0</td>\n",
       "      <td>4569.0</td>\n",
       "    </tr>\n",
       "    <tr>\n",
       "      <th>4</th>\n",
       "      <td>2015-08-09</td>\n",
       "      <td>48228.0</td>\n",
       "      <td>384.0</td>\n",
       "      <td>11771.0</td>\n",
       "      <td>138462.0</td>\n",
       "      <td>75114.0</td>\n",
       "      <td>62373.0</td>\n",
       "      <td>4569.0</td>\n",
       "    </tr>\n",
       "  </tbody>\n",
       "</table>\n",
       "</div>"
      ],
      "text/plain": [
       "        Date  Search Vol  Trend      Min       Max  Average   Random  \\\n",
       "0 2015-07-12     50198.0  400.0  11771.0  138462.0  75114.0  74710.0   \n",
       "1 2015-07-19     49835.0  396.0  11771.0  138462.0  75114.0  66897.0   \n",
       "2 2015-07-26     54422.0  435.0  11771.0  138462.0  75114.0  80773.0   \n",
       "3 2015-08-02     51010.0  406.0  11771.0  138462.0  75114.0  77443.0   \n",
       "4 2015-08-09     48228.0  384.0  11771.0  138462.0  75114.0  62373.0   \n",
       "\n",
       "   Number of templates  \n",
       "0               4569.0  \n",
       "1               4569.0  \n",
       "2               4569.0  \n",
       "3               4569.0  \n",
       "4               4569.0  "
      ]
     },
     "execution_count": 19,
     "metadata": {},
     "output_type": "execute_result"
    }
   ],
   "source": [
    "# Checking the results\n",
    "sub_dic_gp['Under 100k'].head()"
   ]
  },
  {
   "cell_type": "markdown",
   "metadata": {},
   "source": [
    "Now we have a dictionary with a DataFrame that aggregates the subcategories with less that 10k monthly searches as 'Under 10k', a DataFrame that aggregates the subcategories with less that 100k monthly searches as 'Under 100k' and individual DataFrames for those subcategories with more than 100k monthly searches."
   ]
  },
  {
   "cell_type": "code",
   "execution_count": 20,
   "metadata": {},
   "outputs": [
    {
     "data": {
      "image/png": "[encoded data removed]",
      "text/plain": [
       "<Figure size 1080x360 with 1 Axes>"
      ]
     },
     "metadata": {
      "needs_background": "light"
     },
     "output_type": "display_data"
    }
   ],
   "source": [
    "# Plot \n",
    "plt.figure(figsize=(15,5))\n",
    "\n",
    "for sub, colr in zip(sub_dic_gp, sub_colors.values()):\n",
    "    \n",
    "    # Create a graph with the volume of searches\n",
    "    ax = sns.lineplot(data=sub_dic_gp[sub], \n",
    "                  x='Date', \n",
    "                  y='Search Vol',\n",
    "                  color=colr)\n",
    "    \n",
    "## [BONUS] - Add legends"
   ]
  },
  {
   "cell_type": "markdown",
   "metadata": {},
   "source": [
    "It would be useful to list the subcategories in each category."
   ]
  },
  {
   "cell_type": "code",
   "execution_count": 21,
   "metadata": {},
   "outputs": [],
   "source": [
    "# [BONUS] - List a summary with the categories in each bin. [Under 10k] | [Under 100k] | [Over 100k]"
   ]
  },
  {
   "cell_type": "markdown",
   "metadata": {},
   "source": [
    "### Find 'Search Vol' trend"
   ]
  },
  {
   "cell_type": "code",
   "execution_count": 22,
   "metadata": {},
   "outputs": [],
   "source": [
    "# Combine all searches and find the trend. \n",
    "# We will be able to compare each sub_category with the overall trend\n",
    "# Statistical analysis"
   ]
  },
  {
   "cell_type": "code",
   "execution_count": 23,
   "metadata": {},
   "outputs": [],
   "source": [
    "sub_dic_gp['Total'] = pd.DataFrame(columns=['Date', 'Search Vol'])\n",
    "\n",
    "# Concat all DataFrames into one\n",
    "for sub in sub_dic:\n",
    "    sub_dic_gp['Total'] = pd.concat([sub_dic_gp['Total'], sub_dic[sub]])\n",
    "\n",
    "sub_dic_gp['Total'] = sub_dic_gp['Total'].groupby('Date', as_index=False).agg('sum')"
   ]
  },
  {
   "cell_type": "markdown",
   "metadata": {},
   "source": [
    "#### Calculate the fitted line"
   ]
  },
  {
   "cell_type": "code",
   "execution_count": null,
   "metadata": {},
   "outputs": [],
   "source": [
    "# Create a constant\n",
    "sub_dic_gp['Total']['const'] = 1.0\n",
    "sub_dic_gp['Total'].head()"
   ]
  },
  {
   "cell_type": "code",
   "execution_count": null,
   "metadata": {},
   "outputs": [],
   "source": [
    "sm.add_constant(sub_dic_gp['Total'])"
   ]
  },
  {
   "cell_type": "code",
   "execution_count": null,
   "metadata": {},
   "outputs": [],
   "source": [
    "# Run OLS\n",
    "lin_reg = sm.OLS(sub_dic_gp['Total'][\"Date\"],\n",
    "                 sub_dic_gp['Total'][['const', 'Search Vol']])\n",
    "\n",
    "result = lin_reg.fit()\n",
    "\n",
    "# result.summary()"
   ]
  },
  {
   "cell_type": "code",
   "execution_count": null,
   "metadata": {},
   "outputs": [],
   "source": [
    "plt.figure(figsize=(15,5))\n",
    "    \n",
    "    # Create a graph with the total volume of searches\n",
    "ax = sns.lineplot(data=sub_dic_gp['Total'], \n",
    "                  x='Date', \n",
    "                  y='Search Vol',)\n",
    "\n",
    "ax = sns.regplot(data=sub_dic_gp['Total'], \n",
    "                  x='Date', \n",
    "                  y='Search Vol',)"
   ]
  },
  {
   "cell_type": "code",
   "execution_count": null,
   "metadata": {},
   "outputs": [],
   "source": [
    "# Find if there is a correlation between 'Templates' that Canva is offering and 'Search Vol' \n",
    "# We will be able to do a linear regression\n",
    "# Statistical analysis"
   ]
  },
  {
   "cell_type": "markdown",
   "metadata": {},
   "source": [
    "### 'Search Vol' vs. # 'Template '\n",
    "\n",
    "Is there a correlation between the Search Vol for the Keywords assigned to the category and the number of templates that Canva is offering? Is it statistically significant?"
   ]
  },
  {
   "cell_type": "code",
   "execution_count": 42,
   "metadata": {},
   "outputs": [
    {
     "data": {
      "text/html": [
       "<div>\n",
       "<style scoped>\n",
       "    .dataframe tbody tr th:only-of-type {\n",
       "        vertical-align: middle;\n",
       "    }\n",
       "\n",
       "    .dataframe tbody tr th {\n",
       "        vertical-align: top;\n",
       "    }\n",
       "\n",
       "    .dataframe thead th {\n",
       "        text-align: right;\n",
       "    }\n",
       "</style>\n",
       "<table border=\"1\" class=\"dataframe\">\n",
       "  <thead>\n",
       "    <tr style=\"text-align: right;\">\n",
       "      <th></th>\n",
       "      <th>Sub-Category</th>\n",
       "      <th>Search Vol (avge)</th>\n",
       "      <th>Number of templates</th>\n",
       "    </tr>\n",
       "  </thead>\n",
       "  <tbody>\n",
       "    <tr>\n",
       "      <th>0</th>\n",
       "      <td>presentation</td>\n",
       "      <td>8815</td>\n",
       "      <td>1000</td>\n",
       "    </tr>\n",
       "    <tr>\n",
       "      <th>1</th>\n",
       "      <td>a_4</td>\n",
       "      <td>7</td>\n",
       "      <td>3500</td>\n",
       "    </tr>\n",
       "    <tr>\n",
       "      <th>2</th>\n",
       "      <td>letter</td>\n",
       "      <td>8227</td>\n",
       "      <td>886</td>\n",
       "    </tr>\n",
       "    <tr>\n",
       "      <th>3</th>\n",
       "      <td>letterhead</td>\n",
       "      <td>6545</td>\n",
       "      <td>886</td>\n",
       "    </tr>\n",
       "    <tr>\n",
       "      <th>4</th>\n",
       "      <td>resume</td>\n",
       "      <td>84741</td>\n",
       "      <td>1483</td>\n",
       "    </tr>\n",
       "    <tr>\n",
       "      <th>5</th>\n",
       "      <td>presentation_4_3</td>\n",
       "      <td>5</td>\n",
       "      <td>1146</td>\n",
       "    </tr>\n",
       "    <tr>\n",
       "      <th>6</th>\n",
       "      <td>report</td>\n",
       "      <td>9888</td>\n",
       "      <td>1273</td>\n",
       "    </tr>\n",
       "    <tr>\n",
       "      <th>7</th>\n",
       "      <td>daily_report</td>\n",
       "      <td>5986</td>\n",
       "      <td>98</td>\n",
       "    </tr>\n",
       "    <tr>\n",
       "      <th>8</th>\n",
       "      <td>memo</td>\n",
       "      <td>6461</td>\n",
       "      <td>426</td>\n",
       "    </tr>\n",
       "    <tr>\n",
       "      <th>9</th>\n",
       "      <td>invoice</td>\n",
       "      <td>87708</td>\n",
       "      <td>167</td>\n",
       "    </tr>\n",
       "  </tbody>\n",
       "</table>\n",
       "</div>"
      ],
      "text/plain": [
       "       Sub-Category  Search Vol (avge)  Number of templates\n",
       "0      presentation               8815                 1000\n",
       "1               a_4                  7                 3500\n",
       "2            letter               8227                  886\n",
       "3        letterhead               6545                  886\n",
       "4            resume              84741                 1483\n",
       "5  presentation_4_3                  5                 1146\n",
       "6            report               9888                 1273\n",
       "7      daily_report               5986                   98\n",
       "8              memo               6461                  426\n",
       "9           invoice              87708                  167"
      ]
     },
     "execution_count": 42,
     "metadata": {},
     "output_type": "execute_result"
    }
   ],
   "source": [
    "corr = pd.DataFrame(columns=['Sub-Category', 'Search Vol (avge)', 'Number of templates'])\n",
    "\n",
    "corr['Sub-Category'] = sub_dic.keys()\n",
    "corr['Search Vol (avge)'] = [int(sub_dic[sub]['Search Vol'].mean()) for sub in sub_dic]\n",
    "corr['Number of templates'] = [int(sub_dic[sub]['Number of templates'].mean()) for sub in sub_dic]\n",
    "\n",
    "corr"
   ]
  },
  {
   "cell_type": "code",
   "execution_count": 54,
   "metadata": {},
   "outputs": [
    {
     "data": {
      "image/png": "[encoded data removed]",
      "text/plain": [
       "<Figure size 1080x360 with 1 Axes>"
      ]
     },
     "metadata": {
      "needs_background": "light"
     },
     "output_type": "display_data"
    }
   ],
   "source": [
    "# Scatter plot to infere if it makes sense to calculate the fitted line\n",
    "plt.figure(figsize=(15,5))\n",
    "    \n",
    "sns.scatterplot(data=corr, \n",
    "                x='Number of templates', \n",
    "                y='Search Vol (avge)',\n",
    "                hue='Sub-Category');"
   ]
  },
  {
   "cell_type": "code",
   "execution_count": 60,
   "metadata": {},
   "outputs": [
    {
     "name": "stderr",
     "output_type": "stream",
     "text": [
      "/opt/miniconda3/envs/boogie_woogie/lib/python3.8/site-packages/scipy/stats/stats.py:1534: UserWarning: kurtosistest only valid for n>=20 ... continuing anyway, n=10\n",
      "  warnings.warn(\"kurtosistest only valid for n>=20 ... continuing \"\n"
     ]
    },
    {
     "data": {
      "text/html": [
       "<table class=\"simpletable\">\n",
       "<caption>OLS Regression Results</caption>\n",
       "<tr>\n",
       "  <th>Dep. Variable:</th>    <td>Search Vol (avge)</td> <th>  R-squared:         </th> <td>   0.040</td>\n",
       "</tr>\n",
       "<tr>\n",
       "  <th>Model:</th>                   <td>OLS</td>        <th>  Adj. R-squared:    </th> <td>  -0.080</td>\n",
       "</tr>\n",
       "<tr>\n",
       "  <th>Method:</th>             <td>Least Squares</td>   <th>  F-statistic:       </th> <td>  0.3322</td>\n",
       "</tr>\n",
       "<tr>\n",
       "  <th>Date:</th>             <td>Tue, 07 Jul 2020</td>  <th>  Prob (F-statistic):</th>  <td> 0.580</td> \n",
       "</tr>\n",
       "<tr>\n",
       "  <th>Time:</th>                 <td>15:53:53</td>      <th>  Log-Likelihood:    </th> <td> -117.83</td>\n",
       "</tr>\n",
       "<tr>\n",
       "  <th>No. Observations:</th>      <td>    10</td>       <th>  AIC:               </th> <td>   239.7</td>\n",
       "</tr>\n",
       "<tr>\n",
       "  <th>Df Residuals:</th>          <td>     8</td>       <th>  BIC:               </th> <td>   240.3</td>\n",
       "</tr>\n",
       "<tr>\n",
       "  <th>Df Model:</th>              <td>     1</td>       <th>                     </th>     <td> </td>   \n",
       "</tr>\n",
       "<tr>\n",
       "  <th>Covariance Type:</th>      <td>nonrobust</td>     <th>                     </th>     <td> </td>   \n",
       "</tr>\n",
       "</table>\n",
       "<table class=\"simpletable\">\n",
       "<tr>\n",
       "           <td></td>              <th>coef</th>     <th>std err</th>      <th>t</th>      <th>P>|t|</th>  <th>[0.025</th>    <th>0.975]</th>  \n",
       "</tr>\n",
       "<tr>\n",
       "  <th>const</th>               <td> 2.951e+04</td> <td> 1.74e+04</td> <td>    1.696</td> <td> 0.128</td> <td>-1.06e+04</td> <td> 6.96e+04</td>\n",
       "</tr>\n",
       "<tr>\n",
       "  <th>Number of templates</th> <td>   -7.0627</td> <td>   12.254</td> <td>   -0.576</td> <td> 0.580</td> <td>  -35.320</td> <td>   21.194</td>\n",
       "</tr>\n",
       "</table>\n",
       "<table class=\"simpletable\">\n",
       "<tr>\n",
       "  <th>Omnibus:</th>       <td> 6.690</td> <th>  Durbin-Watson:     </th> <td>   2.104</td>\n",
       "</tr>\n",
       "<tr>\n",
       "  <th>Prob(Omnibus):</th> <td> 0.035</td> <th>  Jarque-Bera (JB):  </th> <td>   3.353</td>\n",
       "</tr>\n",
       "<tr>\n",
       "  <th>Skew:</th>          <td> 1.416</td> <th>  Prob(JB):          </th> <td>   0.187</td>\n",
       "</tr>\n",
       "<tr>\n",
       "  <th>Kurtosis:</th>      <td> 3.156</td> <th>  Cond. No.          </th> <td>2.21e+03</td>\n",
       "</tr>\n",
       "</table><br/><br/>Warnings:<br/>[1] Standard Errors assume that the covariance matrix of the errors is correctly specified.<br/>[2] The condition number is large, 2.21e+03. This might indicate that there are<br/>strong multicollinearity or other numerical problems."
      ],
      "text/plain": [
       "<class 'statsmodels.iolib.summary.Summary'>\n",
       "\"\"\"\n",
       "                            OLS Regression Results                            \n",
       "==============================================================================\n",
       "Dep. Variable:      Search Vol (avge)   R-squared:                       0.040\n",
       "Model:                            OLS   Adj. R-squared:                 -0.080\n",
       "Method:                 Least Squares   F-statistic:                    0.3322\n",
       "Date:                Tue, 07 Jul 2020   Prob (F-statistic):              0.580\n",
       "Time:                        15:53:53   Log-Likelihood:                -117.83\n",
       "No. Observations:                  10   AIC:                             239.7\n",
       "Df Residuals:                       8   BIC:                             240.3\n",
       "Df Model:                           1                                         \n",
       "Covariance Type:            nonrobust                                         \n",
       "=======================================================================================\n",
       "                          coef    std err          t      P>|t|      [0.025      0.975]\n",
       "---------------------------------------------------------------------------------------\n",
       "const                2.951e+04   1.74e+04      1.696      0.128   -1.06e+04    6.96e+04\n",
       "Number of templates    -7.0627     12.254     -0.576      0.580     -35.320      21.194\n",
       "==============================================================================\n",
       "Omnibus:                        6.690   Durbin-Watson:                   2.104\n",
       "Prob(Omnibus):                  0.035   Jarque-Bera (JB):                3.353\n",
       "Skew:                           1.416   Prob(JB):                        0.187\n",
       "Kurtosis:                       3.156   Cond. No.                     2.21e+03\n",
       "==============================================================================\n",
       "\n",
       "Warnings:\n",
       "[1] Standard Errors assume that the covariance matrix of the errors is correctly specified.\n",
       "[2] The condition number is large, 2.21e+03. This might indicate that there are\n",
       "strong multicollinearity or other numerical problems.\n",
       "\"\"\""
      ]
     },
     "execution_count": 60,
     "metadata": {},
     "output_type": "execute_result"
    }
   ],
   "source": [
    "# See if there is a correlation between the two variables\n",
    "corr = sm.add_constant(corr)\n",
    "corr.head()\n",
    "\n",
    "# Run OLS\n",
    "lin_reg = sm.OLS(corr[\"Search Vol (avge)\"],\n",
    "                 corr[[\"const\", \"Number of templates\"]])\n",
    "\n",
    "result = lin_reg.fit()\n",
    "\n",
    "result.summary()"
   ]
  },
  {
   "cell_type": "code",
   "execution_count": 62,
   "metadata": {},
   "outputs": [],
   "source": [
    "corr = corr.assign(y_hat=result.predict(corr[[\"const\", \"Number of templates\"]]))"
   ]
  },
  {
   "cell_type": "code",
   "execution_count": 66,
   "metadata": {},
   "outputs": [
    {
     "data": {
      "image/png": "[encoded data removed]",
      "text/plain": [
       "<Figure size 1080x360 with 1 Axes>"
      ]
     },
     "metadata": {
      "needs_background": "light"
     },
     "output_type": "display_data"
    }
   ],
   "source": [
    "plt.figure(figsize=(15,5))\n",
    "    \n",
    "sns.scatterplot(data=corr, \n",
    "                x='Number of templates', \n",
    "                y='Search Vol (avge)',\n",
    "                hue='Sub-Category');\n",
    "\n",
    "sns.lineplot(data=corr,\n",
    "             x='Number of templates',\n",
    "             y=\"y_hat\",\n",
    "             color=\"g\");"
   ]
  },
  {
   "cell_type": "markdown",
   "metadata": {},
   "source": [
    "---------------------------------------------------"
   ]
  },
  {
   "cell_type": "markdown",
   "metadata": {},
   "source": [
    "## Bonus"
   ]
  },
  {
   "cell_type": "markdown",
   "metadata": {},
   "source": [
    "1. Try to get the data with requests. Now it is hardcoded\n",
    "2. Segment the subcategories by categories\n"
   ]
  },
  {
   "cell_type": "code",
   "execution_count": null,
   "metadata": {},
   "outputs": [],
   "source": [
    "pd.DataFrame(columns=[\"Subcategory\", \"Categoty\"])"
   ]
  },
  {
   "cell_type": "code",
   "execution_count": null,
   "metadata": {},
   "outputs": [],
   "source": [
    "headers = {'authority': 'www.canva.com',\n",
    "'method': 'GET',\n",
    "'path': '/create-a-design',\n",
    "'scheme': 'https',\n",
    "'accept': 'text/html,application/xhtml+xml,application/xml;q=0.9,image/webp,image/apng,*/*;q=0.8,application/signed-exchange;v=b3;q=0.9',\n",
    "'accept-encoding': 'gzip, deflate, br',\n",
    "'accept-language': 'en-US,en;q=0.9',\n",
    "'cache-control': 'max-age=0',\n",
    "'cookie': '__cfduid=dac51796841329b70661ebd07a4b3a8901591811643; CDI=888a9880-c327-4479-8e8b-9ba1da774a1a; CL=es-ES; ajs_group_id=null; ajs_anonymous_id=%22c1a4a653-107a-4341-b28e-dcdaf8b30169%22; _gcl_au=1.1.1259495208.1591811645; _ga=GA1.2.1022411617.1591811645; ab.storage.deviceId.320f7332-8571-45d7-b342-c54192dae547=%7B%22g%22%3A%223abc1a29-8121-d7ca-340a-f31fe27706a3%22%2C%22c%22%3A1591811645287%2C%22l%22%3A1591811645287%7D; _fbp=fb.1.1591811645414.41094145; CB=BADs5VlD2Bg; CS=1; ajs_user_id=%22UADs5dLCEjE%22; ab.storage.userId.320f7332-8571-45d7-b342-c54192dae547=%7B%22g%22%3A%22UADs5dLCEjE%22%2C%22c%22%3A1591811662791%2C%22l%22%3A1591811662791%7D; __stripe_mid=c81db500-bdf2-487a-a5ad-75ae9d22e99b; campaignTracker=CareersPage; _gid=GA1.2.1025166503.1593962736; CAZ=boxflnJsf51aH3f71XiopuK3CrO8cuyuw5GrquQTD0tB_GJG-s5RmTzX-G-dXfiWHRCZV2y7VciCP03NELbLJ5tNINCVqYopTdPp0n1kjTsxTykxlMMcONC6yL8Y-FDGr_yr6PwliRtGM8McXtxwoy1TY6qBhoKyCphBLIBg2ZpjJl5yTfHNdwnStMjDlJ3luXbDPF02J0GO2pQyiKvgMEIGohhRP54XtaKNrSHHpJtTRM9sTt1hjHgd-IUrOPEYDT0pS96LxcX1wRC_LrECNorvyQy6aQsWTstopMKSvJ6ZnbLh5Yu_5gWDcAUa2n1TkZI1zqHu_F_hQhTmOAH-60UskCnfkFHNa2UPQTkgbET9KsrE2cYhKWV3xrlh11zJSXjSK5KeRyurWLo6gkgcbxyOJhSs-eep2K7J4WC1MXUqUW2czm-NS4PZ8FTK-iEpBPpLp9vyMuSIFBR1q2pNKXYwZZRLhsmXAqYCvBsxUq-YdsJnftP06QLiyTJv_myWKX4n35ye1qsiuvQ9slYH6CrBfptmNSUFjK3ShZzrjCRiM2D4S9IfuEHizzp-C5cw8peDgnmIozjPZ4iaY-Nj0hDqvm1NNjb7KXarqVcH3B0xWoVKTP8ViM5hHDzvkHYx32EEr6vzsNQCowgbU09xZRHBkexnW-TRF2yvzAGrok4_SIrDZNXJgpFmC1kIj4bpzjtWgP12DVlh5Ozg-tXEtgTloa2SL0mSHchEG3N0FKcrc-3w; CID=_FTzF4vDbEzgzTdotlrRYpAVj_CG6qR2E5VkUbDA7N18UAf-k8DFGqh9ph_dViSM4aeyHv7RoKZ_MV12GlLN6znSv0OJoIst4JvST3qqAnKSVf72; CUI=RAVzK9FjV4qqVyq91U-AAcoMQOJY2LUfEowvOApAtSrMP9gIZpgZhHuTSb6HcZB_5HKR3w; _uetsid=76b9bd64-a296-63f2-c087-1570adb8bf21; _uetvid=233327d4-113a-e5a7-fd6f-b7cabb771c47; ab.storage.sessionId.320f7332-8571-45d7-b342-c54192dae547=%7B%22g%22%3A%22939a268b-0650-81f9-ceb0-7ab6c1e10c12%22%2C%22e%22%3A1594023258512%2C%22c%22%3A1594020164402%2C%22l%22%3A1594021458512%7D',\n",
    "'sec-fetch-dest': 'document',\n",
    "'sec-fetch-mode': 'navigate',\n",
    "'sec-fetch-site': 'none',\n",
    "'sec-fetch-user': '?1',\n",
    "'upgrade-insecure-requests': '1',\n",
    "'user-agent': 'Mozilla/5.0 (Macintosh; Intel Mac OS X 10_13_6) AppleWebKit/537.36 (KHTML, like Gecko) Chrome/83.0.4103.116 Safari/537.36',\n",
    "'token': '...'}\n"
   ]
  },
  {
   "cell_type": "code",
   "execution_count": null,
   "metadata": {},
   "outputs": [],
   "source": [
    "soup.select('div', {'id':'genre-video'})\n",
    "\n",
    "# soup2 = bs(subset, 'html.parser')\n",
    "\n",
    "# soup2.find_all('p', {'class':'MpjE4w bSncsg n9zSJA ZTpOuQ u9XXAg HnhAQA l1bE7Q mNfh2Q'})\n",
    "\n",
    "#for cat in subCat_list:\n",
    "#    sub_cat.append(cat.text)\n",
    "\n",
    "#        for card in soup.select(\"div.result-card__contents\"):\n",
    " #           title = card.findChild(\"h3\", recursive=False)\n",
    "  #          company = card.findChild(\"h4\", recursive=False)\n",
    "   #         location = card.findChild(\"span\", attrs={\"class\": \"job-result-card__location\"}, recursive=True)\n",
    "    #        titles.append(title.string)\n",
    "     #       companies.append(company.string)\n",
    "      #      locations.append(location.string)"
   ]
  },
  {
   "cell_type": "code",
   "execution_count": null,
   "metadata": {},
   "outputs": [],
   "source": [
    "#video = soup.find_all('div', {'class': 'K1bdNw ElK36A eGNjaw RTlscw'})\n",
    "\n",
    "#[category.find('p', {'class': 'MpjE4w bSncsg n9zSJA ZTpOuQ u9XXAg HnhAQA l1bE7Q mNfh2Q'}).text for category in video]\n",
    "    \n",
    "#video_list = []\n",
    "#for vid_cat in video:\n",
    "#    video_list.append(vid_cat.text)\n",
    "    \n",
    "#video_list "
   ]
  }
 ],
 "metadata": {
  "kernelspec": {
   "display_name": "Python 3",
   "language": "python",
   "name": "python3"
  },
  "language_info": {
   "codemirror_mode": {
    "name": "ipython",
    "version": 3
   },
   "file_extension": ".py",
   "mimetype": "text/x-python",
   "name": "python",
   "nbconvert_exporter": "python",
   "pygments_lexer": "ipython3",
   "version": "3.8.3"
  }
 },
 "nbformat": 4,
 "nbformat_minor": 4
}
