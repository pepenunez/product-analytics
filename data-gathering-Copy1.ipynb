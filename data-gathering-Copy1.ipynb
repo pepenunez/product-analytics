{
 "cells": [
  {
   "cell_type": "code",
   "execution_count": null,
   "metadata": {},
   "outputs": [],
   "source": [
    "import pandas as pd\n",
    "import requests as req\n",
    "import numpy as np\n",
    "\n",
    "# Scrapping packages\n",
    "from bs4 import BeautifulSoup as bs\n",
    "\n",
    "# Google Trends API connection\n",
    "# documentation -> https://pypi.org/project/pytrends/#api-methods\n",
    "from pytrends.request import TrendReq\n",
    "pytrends = TrendReq()\n",
    "\n",
    "# Statistics + plotting\n",
    "import matplotlib\n",
    "import matplotlib.pyplot as plt\n",
    "from sklearn.linear_model import LinearRegression\n",
    "import statsmodels.api as sm\n",
    "\n",
    "\n",
    "##### CLEAN IT"
   ]
  },
  {
   "cell_type": "markdown",
   "metadata": {},
   "source": [
    "# 1. Data from canva.com"
   ]
  },
  {
   "cell_type": "code",
   "execution_count": null,
   "metadata": {},
   "outputs": [],
   "source": [
    "# Read text file with Canva's HTML \"https://www.canva.com/create-a-design\"\n",
    "f = open('../project-4/canva.txt', 'r')\n",
    "content = f.read()\n",
    "\n",
    "soup = bs(content, 'html.parser')"
   ]
  },
  {
   "cell_type": "code",
   "execution_count": 3,
   "metadata": {},
   "outputs": [],
   "source": [
    "# List with different categories\n",
    "cats_id = {'Video': 'genre-video',\n",
    "           'Social Media': 'genre-social-media',\n",
    "           'Documents': 'genre-documents', \n",
    "           'Personal': 'genre-personal',\n",
    "           'Education': 'genre-education',\n",
    "           'Marketing': 'genre-marketing',\n",
    "           'Events': 'genre-events',\n",
    "           'Ads': 'genre-ads'}\n",
    "\n",
    "# Scrape from canva.com the subcategories\n",
    "for key in cats_id:\n",
    "    cats_id[key] = soup.find('div', {'id':f'{cats_id[key]}'}).find_all('div', {'class':'t24rzA'})\n",
    "    cats_id[key] = [subcategory.text for subcategory in cats_id[key]]\n",
    "    \n",
    "# Create the DataFrame where we will have Category + Sub-category\n",
    "cats = pd.DataFrame(columns=['Category'])\n",
    "\n",
    "# Populate the DataFrame\n",
    "for key in cats_id:\n",
    "    cats_temp = pd.DataFrame(cats_id[key], columns=['Sub-category'])\n",
    "    cats_temp['Category'] = key\n",
    "    cats = pd.concat([cats, cats_temp])"
   ]
  },
  {
   "cell_type": "code",
   "execution_count": 4,
   "metadata": {},
   "outputs": [
    {
     "data": {
      "text/html": [
       "<div>\n",
       "<style scoped>\n",
       "    .dataframe tbody tr th:only-of-type {\n",
       "        vertical-align: middle;\n",
       "    }\n",
       "\n",
       "    .dataframe tbody tr th {\n",
       "        vertical-align: top;\n",
       "    }\n",
       "\n",
       "    .dataframe thead th {\n",
       "        text-align: right;\n",
       "    }\n",
       "</style>\n",
       "<table border=\"1\" class=\"dataframe\">\n",
       "  <thead>\n",
       "    <tr style=\"text-align: right;\">\n",
       "      <th></th>\n",
       "      <th>Category</th>\n",
       "      <th>Sub-category</th>\n",
       "    </tr>\n",
       "  </thead>\n",
       "  <tbody>\n",
       "    <tr>\n",
       "      <th>0</th>\n",
       "      <td>Video</td>\n",
       "      <td>Facebook Video</td>\n",
       "    </tr>\n",
       "    <tr>\n",
       "      <th>1</th>\n",
       "      <td>Video</td>\n",
       "      <td>Social Feed Video Ad</td>\n",
       "    </tr>\n",
       "    <tr>\n",
       "      <th>2</th>\n",
       "      <td>Video</td>\n",
       "      <td>Pinterest Video Pin</td>\n",
       "    </tr>\n",
       "    <tr>\n",
       "      <th>3</th>\n",
       "      <td>Video</td>\n",
       "      <td>In-Stream Video Ad</td>\n",
       "    </tr>\n",
       "    <tr>\n",
       "      <th>4</th>\n",
       "      <td>Video</td>\n",
       "      <td>Youtube Intro</td>\n",
       "    </tr>\n",
       "    <tr>\n",
       "      <th>...</th>\n",
       "      <td>...</td>\n",
       "      <td>...</td>\n",
       "    </tr>\n",
       "    <tr>\n",
       "      <th>1</th>\n",
       "      <td>Ads</td>\n",
       "      <td>Instagram Ad</td>\n",
       "    </tr>\n",
       "    <tr>\n",
       "      <th>2</th>\n",
       "      <td>Ads</td>\n",
       "      <td>Large Rectangle Ad</td>\n",
       "    </tr>\n",
       "    <tr>\n",
       "      <th>3</th>\n",
       "      <td>Ads</td>\n",
       "      <td>Leaderboard Ad</td>\n",
       "    </tr>\n",
       "    <tr>\n",
       "      <th>4</th>\n",
       "      <td>Ads</td>\n",
       "      <td>Wide Skyscraper Ad</td>\n",
       "    </tr>\n",
       "    <tr>\n",
       "      <th>5</th>\n",
       "      <td>Ads</td>\n",
       "      <td>Medium Rectangle Ad</td>\n",
       "    </tr>\n",
       "  </tbody>\n",
       "</table>\n",
       "<p>72 rows × 2 columns</p>\n",
       "</div>"
      ],
      "text/plain": [
       "   Category          Sub-category\n",
       "0     Video        Facebook Video\n",
       "1     Video  Social Feed Video Ad\n",
       "2     Video   Pinterest Video Pin\n",
       "3     Video    In-Stream Video Ad\n",
       "4     Video         Youtube Intro\n",
       "..      ...                   ...\n",
       "1       Ads          Instagram Ad\n",
       "2       Ads    Large Rectangle Ad\n",
       "3       Ads        Leaderboard Ad\n",
       "4       Ads    Wide Skyscraper Ad\n",
       "5       Ads   Medium Rectangle Ad\n",
       "\n",
       "[72 rows x 2 columns]"
      ]
     },
     "execution_count": 4,
     "metadata": {},
     "output_type": "execute_result"
    }
   ],
   "source": [
    "# Explore the results\n",
    "cats"
   ]
  },
  {
   "cell_type": "markdown",
   "metadata": {},
   "source": [
    "There are 8 different categories that contain a total of 72 sub-categories "
   ]
  },
  {
   "cell_type": "markdown",
   "metadata": {},
   "source": [
    "# 2. Google trends"
   ]
  },
  {
   "cell_type": "code",
   "execution_count": 6,
   "metadata": {},
   "outputs": [],
   "source": [
    "# API call to Google Trends\n",
    "def get_trend(keyword:str):\n",
    "    \n",
    "        # Build the payload\n",
    "        kw_list = [keyword]\n",
    "        pytrends.build_payload(kw_list, cat=0, timeframe=f'today 5-y', geo='', gprop='') # 5 years | globally\n",
    "        df = pytrends.interest_over_time().reset_index()\n",
    "        df = df.rename(columns={'date': 'Date', keyword: 'Trend'})\n",
    "        return df\n",
    "    \n",
    "# .drop('isPartial', axis=1, inplace=True)"
   ]
  },
  {
   "cell_type": "code",
   "execution_count": 7,
   "metadata": {},
   "outputs": [],
   "source": [
    "# Dictionary with keyword that is being evaluated per each subcategory 'sub'\n",
    "sub_dic = {}\n",
    "\n",
    "for sub in cats['Sub-category']:\n",
    "    sub_dic.update({sub: sub + \" template\"})\n",
    "\n",
    "# Create a list with the keys\n",
    "clean_list = sub_dic.keys()\n",
    "\n",
    "for category in sub_dic:\n",
    "    sub_dic[category] = get_trend(sub_dic[category])"
   ]
  },
  {
   "cell_type": "code",
   "execution_count": 10,
   "metadata": {},
   "outputs": [
    {
     "name": "stdout",
     "output_type": "stream",
     "text": [
      "dict_keys(['Facebook Video', 'Social Feed Video Ad', 'Pinterest Video Pin', 'In-Stream Video Ad', 'Youtube Intro', 'Video Collage', 'Slideshow Video', 'Animated Social Media', 'Instagram Post', 'Instagram Story', 'Facebook Post', 'Facebook Story', 'Facebook Cover', 'Facebook App Ad', 'Social Media', 'Your Story', 'Whatsapp Story', 'Presentation', 'A4 Document', 'Letter', 'Letterhead', 'Resume', 'Presentation (4:3)', 'Report', 'Daily Report', 'Memo', 'Invoice', 'Card', 'Birthday Card', 'Photo Collage', 'Photo Book', 'Calendar', 'Planner', 'Storyboard', 'Graphic Organiser', 'Scrapbook', 'Desktop Wallpaper', 'Postcard', 'Yearbook', 'Class Schedule', 'Worksheet', 'Lesson Plan', 'Report Card', 'Bookmark', 'Seating Chart', 'Table of Contents', 'Mind Map', 'Logo', 'Poster', 'Flyer', 'Business Card', 'Infographic', 'Brochure', 'Product Label', 'Gift Certificate', 'Gift Tag', 'Ticket', 'Newsletter', 'Invitation', 'Birthday Invitation', 'Wedding Invitation (Portrait)', 'Announcement', 'Programme', 'Event Programme', 'Facebook Event Cover', 'Facebook Ad', 'Instagram Ad', 'Large Rectangle Ad', 'Leaderboard Ad', 'Wide Skyscraper Ad', 'Medium Rectangle Ad'])\n"
     ]
    }
   ],
   "source": [
    "# We will need to use those keys\n",
    "print(clean_list)"
   ]
  },
  {
   "cell_type": "code",
   "execution_count": 11,
   "metadata": {},
   "outputs": [
    {
     "data": {
      "text/html": [
       "<div>\n",
       "<style scoped>\n",
       "    .dataframe tbody tr th:only-of-type {\n",
       "        vertical-align: middle;\n",
       "    }\n",
       "\n",
       "    .dataframe tbody tr th {\n",
       "        vertical-align: top;\n",
       "    }\n",
       "\n",
       "    .dataframe thead th {\n",
       "        text-align: right;\n",
       "    }\n",
       "</style>\n",
       "<table border=\"1\" class=\"dataframe\">\n",
       "  <thead>\n",
       "    <tr style=\"text-align: right;\">\n",
       "      <th></th>\n",
       "      <th>Date</th>\n",
       "      <th>Trend</th>\n",
       "      <th>isPartial</th>\n",
       "    </tr>\n",
       "  </thead>\n",
       "  <tbody>\n",
       "    <tr>\n",
       "      <th>0</th>\n",
       "      <td>2015-07-12</td>\n",
       "      <td>21</td>\n",
       "      <td>False</td>\n",
       "    </tr>\n",
       "    <tr>\n",
       "      <th>1</th>\n",
       "      <td>2015-07-19</td>\n",
       "      <td>42</td>\n",
       "      <td>False</td>\n",
       "    </tr>\n",
       "    <tr>\n",
       "      <th>2</th>\n",
       "      <td>2015-07-26</td>\n",
       "      <td>21</td>\n",
       "      <td>False</td>\n",
       "    </tr>\n",
       "    <tr>\n",
       "      <th>3</th>\n",
       "      <td>2015-08-02</td>\n",
       "      <td>21</td>\n",
       "      <td>False</td>\n",
       "    </tr>\n",
       "    <tr>\n",
       "      <th>4</th>\n",
       "      <td>2015-08-09</td>\n",
       "      <td>62</td>\n",
       "      <td>False</td>\n",
       "    </tr>\n",
       "  </tbody>\n",
       "</table>\n",
       "</div>"
      ],
      "text/plain": [
       "        Date  Trend isPartial\n",
       "0 2015-07-12     21     False\n",
       "1 2015-07-19     42     False\n",
       "2 2015-07-26     21     False\n",
       "3 2015-08-02     21     False\n",
       "4 2015-08-09     62     False"
      ]
     },
     "execution_count": 11,
     "metadata": {},
     "output_type": "execute_result"
    }
   ],
   "source": [
    "# Check the output\n",
    "sub_dic['Facebook Video'].head()"
   ]
  },
  {
   "cell_type": "markdown",
   "metadata": {},
   "source": [
    "# 3. Key word planner"
   ]
  },
  {
   "cell_type": "markdown",
   "metadata": {},
   "source": [
    "Importing the weekly search range"
   ]
  },
  {
   "cell_type": "code",
   "execution_count": 13,
   "metadata": {},
   "outputs": [],
   "source": [
    "keywords = [\n",
    "    {'text': 'mars cruise', 'matchType': 'BROAD'},\n",
    "    {'text': 'cheap cruise', 'matchType': 'PHRASE'},\n",
    "    {'text': 'cruise', 'matchType': 'EXACT'}\n",
    "]\n",
    "\n",
    "keyword_estimate_requests = []\n",
    "for keyword in keywords:\n",
    "  keyword_estimate_requests.append({\n",
    "      'keyword': {\n",
    "          'xsi_type': 'Keyword',\n",
    "          'matchType': keyword['matchType'],\n",
    "          'text': keyword['text']\n",
    "      }\n",
    "  })\n",
    "\n",
    "\n",
    "# Create ad group estimate requests.\n",
    "adgroup_estimate_requests = [{\n",
    "    'keywordEstimateRequests': keyword_estimate_requests,\n",
    "    'maxCpc': {\n",
    "        'xsi_type': 'Money',\n",
    "        'microAmount': '1000000'\n",
    "    }\n",
    "}]"
   ]
  },
  {
   "cell_type": "code",
   "execution_count": null,
   "metadata": {},
   "outputs": [],
   "source": [
    "# Average monthly search volume from 'https://ads.google.com/aw/keywordplanner/ideas/new?ocid=288160316&euid=220210981&__u=7630327869&uscid=288160316&__c=9136488284&authuser=0&__e=2685651001&sf=barebones&subid=de-de-et-g-aw-a-tools-kwp_bb-awhp_xin1%21o2'\n",
    "search_vol = {'presentation':{'min': 10000, 'max': 100000}, \n",
    "              'a_4': {'min': 10, 'max': 100}, \n",
    "              'letter': {'min': 10000, 'max': 100000}, \n",
    "              'letterhead': {'min': 10000, 'max': 100000},\n",
    "              'resume': {'min': 100000, 'max': 1000000},\n",
    "              'presentation_4_3': {'min': 10, 'max': 100},\n",
    "              'report': {'min': 10000, 'max': 100000},\n",
    "              'daily_report': {'min': 1000, 'max': 100000},\n",
    "              'memo': {'min': 10000, 'max': 100000},\n",
    "              'invoice': {'min': 100000, 'max': 1000000}}\n",
    "                \n",
    "# Populate the DataFrames with seach volumes\n",
    "for sub in sub_dic:\n",
    "    \n",
    "    # Create new columns\n",
    "    sub_dic[sub] = (sub_dic[sub]\n",
    "           .assign(Min=round((search_vol[sub]['min']*12) / 52))\n",
    "           .assign(Max=round((search_vol[sub]['max']*12) / 52))\n",
    "           .assign(Average=round((((search_vol[sub]['min'] * 12) / 52) + ((search_vol[sub]['max']*12)/52)) / 2))\n",
    "               )\n",
    "    \n",
    "    # Generate new column with random per week\n",
    "    sub_dic[sub]['Random'] = [np.random.randint(sub_dic[sub]['Min'].min(), sub_dic[sub]['Max'].max()) for row in range(len(sub_dic[sub]))]\n",
    "    \n",
    "    # Create a colum trend * mean\n",
    "    sub_dic[sub]['Search Vol'] = round((sub_dic[sub]['Trend'] / 100) * sub_dic[sub]['Average'], 0)"
   ]
  },
  {
   "cell_type": "code",
   "execution_count": null,
   "metadata": {},
   "outputs": [],
   "source": [
    "# Check the output\n",
    "sub_dic['a_4'].head()"
   ]
  },
  {
   "cell_type": "code",
   "execution_count": null,
   "metadata": {},
   "outputs": [],
   "source": [
    "## BONUS - Integrate with the API"
   ]
  },
  {
   "cell_type": "markdown",
   "metadata": {},
   "source": [
    "# 4. Templates that Canva is offering"
   ]
  },
  {
   "cell_type": "markdown",
   "metadata": {},
   "source": [
    "Count the # of templates that Canva is offering in its website"
   ]
  },
  {
   "cell_type": "code",
   "execution_count": null,
   "metadata": {},
   "outputs": [],
   "source": [
    "templates_vol = {'presentation': 1000, \n",
    "                 'a_4': 3500, \n",
    "                 'letter': 886, \n",
    "                 'letterhead': 886,\n",
    "                 'resume': 1483,\n",
    "                 'presentation_4_3': 1146,\n",
    "                 'report': 1273,\n",
    "                 'daily_report': 98,\n",
    "                 'memo': 426,\n",
    "                 'invoice': 167}\n",
    "\n",
    "for sub in sub_dic:\n",
    "\n",
    "    # Assign to DataFrames\n",
    "    sub_dic[sub]['Number of templates'] = templates_vol[sub]"
   ]
  },
  {
   "cell_type": "code",
   "execution_count": null,
   "metadata": {},
   "outputs": [],
   "source": [
    "sub_dic['a_4'].head()"
   ]
  },
  {
   "cell_type": "markdown",
   "metadata": {},
   "source": [
    "## Check Data types + final cleaning"
   ]
  },
  {
   "cell_type": "code",
   "execution_count": null,
   "metadata": {},
   "outputs": [],
   "source": [
    "sub_dic['a_4'].dtypes"
   ]
  },
  {
   "cell_type": "markdown",
   "metadata": {},
   "source": [
    "# Basic plotting"
   ]
  },
  {
   "cell_type": "code",
   "execution_count": null,
   "metadata": {},
   "outputs": [],
   "source": [
    "import seaborn as sns\n",
    "import matplotlib.pyplot as plt"
   ]
  },
  {
   "cell_type": "code",
   "execution_count": null,
   "metadata": {},
   "outputs": [],
   "source": [
    "# Volume of searchs\n",
    "sub_colors = {'presentation': 'red', \n",
    "              'a_4': 'orange', \n",
    "              'letter': 'blue', \n",
    "              'letterhead': 'grey',\n",
    "              'resume': 'black',\n",
    "              'presentation_4_3': 'yellow',\n",
    "              'report': 'purple',\n",
    "              'daily_report': 'brown',\n",
    "              'memo': 'green',\n",
    "              'invoice': 'magenta'}\n",
    "\n",
    "plt.figure(figsize=(15,5))\n",
    "\n",
    "for sub, colr in zip(sub_dic, sub_colors.values()):\n",
    "    \n",
    "    # Create a graph with the volume of searches\n",
    "    ax = sns.lineplot(data=sub_dic[sub], \n",
    "                  x='Date', \n",
    "                  y='Search Vol',\n",
    "                  color=colr)\n",
    "    \n",
    "# [Bonus] --> Adding legen with sub category name"
   ]
  },
  {
   "cell_type": "markdown",
   "metadata": {},
   "source": [
    "Resume and Invoice sub-categories have much more search vol than the rest. For the sake of the analysis, could be interesting to add those sub-categories with less than 10.000 monthly visits."
   ]
  },
  {
   "cell_type": "code",
   "execution_count": null,
   "metadata": {},
   "outputs": [],
   "source": [
    "# Same plot with subcategories with less than 10.000 monthly searches on average\n",
    "sub_dic_gp = {'Under 10k': pd.DataFrame(columns=['Date', 'Search Vol']),\n",
    "              'Under 100k': pd.DataFrame(columns=['Date', 'Search Vol'])}\n",
    "\n",
    "# Aggregate DataFrames by groups depending on Search Vol.\n",
    "for sub, colr in zip(sub_dic, sub_colors.values()):\n",
    "    \n",
    "    # Subcategories with an avge of less than 10k monthly seaches\n",
    "    if (sub_dic[sub]['Search Vol'].mean() * 52) / 12 < 10000:\n",
    "        sub_dic_gp['Under 10k'] = pd.concat([sub_dic_gp['Under 10k'], sub_dic[sub]])\n",
    "    \n",
    "    # Subcategories with an avge of less than 10k monthly seaches\n",
    "    elif ((sub_dic[sub]['Search Vol'].mean() * 52) / 12 < 100000) & ((sub_dic[sub]['Search Vol'].mean() * 52) / 12 > 10000):\n",
    "        sub_dic_gp['Under 100k'] = pd.concat([sub_dic_gp['Under 100k'], sub_dic[sub]])\n",
    "    \n",
    "    # The rest will be analysed individually\n",
    "    else:\n",
    "        sub_dic_gp[sub] = sub_dic[sub]\n",
    "\n",
    "# Grouping by day and summing 'Seatch Vol.'\n",
    "sub_dic_gp['Under 10k'] = sub_dic_gp['Under 10k'].groupby('Date', as_index=False).agg('sum')\n",
    "sub_dic_gp['Under 100k'] = sub_dic_gp['Under 100k'].groupby('Date', as_index=False).agg('sum')"
   ]
  },
  {
   "cell_type": "code",
   "execution_count": null,
   "metadata": {},
   "outputs": [],
   "source": [
    "# Checking the results\n",
    "sub_dic_gp['Under 100k'].head()"
   ]
  },
  {
   "cell_type": "markdown",
   "metadata": {},
   "source": [
    "Now we have a dictionary with a DataFrame that aggregates the subcategories with less that 10k monthly searches as 'Under 10k', a DataFrame that aggregates the subcategories with less that 100k monthly searches as 'Under 100k' and individual DataFrames for those subcategories with more than 100k monthly searches."
   ]
  },
  {
   "cell_type": "code",
   "execution_count": null,
   "metadata": {},
   "outputs": [],
   "source": [
    "# Plot \n",
    "plt.figure(figsize=(15,5))\n",
    "\n",
    "for sub, colr in zip(sub_dic_gp, sub_colors.values()):\n",
    "    \n",
    "    # Create a graph with the volume of searches\n",
    "    ax = sns.lineplot(data=sub_dic_gp[sub], \n",
    "                  x='Date', \n",
    "                  y='Search Vol',\n",
    "                  color=colr)\n",
    "    \n",
    "## [BONUS] - Add legends"
   ]
  },
  {
   "cell_type": "markdown",
   "metadata": {},
   "source": [
    "It would be useful to list the subcategories in each category."
   ]
  },
  {
   "cell_type": "code",
   "execution_count": null,
   "metadata": {},
   "outputs": [],
   "source": [
    "# [BONUS] - List a summary with the categories in each bin. [Under 10k] | [Under 100k] | [Over 100k]"
   ]
  },
  {
   "cell_type": "markdown",
   "metadata": {},
   "source": [
    "### Find 'Search Vol' trend"
   ]
  },
  {
   "cell_type": "code",
   "execution_count": null,
   "metadata": {},
   "outputs": [],
   "source": [
    "# Combine all searches and find the trend. \n",
    "# We will be able to compare each sub_category with the overall trend\n",
    "# Statistical analysis"
   ]
  },
  {
   "cell_type": "code",
   "execution_count": null,
   "metadata": {},
   "outputs": [],
   "source": [
    "sub_dic_gp['Total'] = pd.DataFrame(columns=['Date', 'Search Vol'])\n",
    "\n",
    "# Concat all DataFrames into one\n",
    "for sub in sub_dic:\n",
    "    sub_dic_gp['Total'] = pd.concat([sub_dic_gp['Total'], sub_dic[sub]])\n",
    "\n",
    "sub_dic_gp['Total'] = sub_dic_gp['Total'].groupby('Date', as_index=False).agg('sum')"
   ]
  },
  {
   "cell_type": "markdown",
   "metadata": {},
   "source": [
    "#### Calculate the fitted line"
   ]
  },
  {
   "cell_type": "code",
   "execution_count": null,
   "metadata": {},
   "outputs": [],
   "source": [
    "# Create a constant\n",
    "sub_dic_gp['Total'] = sm.add_constant(sub_dic_gp['Total'])\n",
    "sub_dic_gp['Total'] = sub_dic_gp['Total'].assign(t=range(1, len(sub_dic_gp['Total']) + 1))\n",
    "# sub_dic_gp['Total'] = sub_dic_gp['Total'].assign(t2=range(1, (len(sub_dic_gp['Total']) + 1)**2))\n",
    "\n",
    "# Run OLS\n",
    "X = sub_dic_gp['Total'][[\"const\", \"t\"]]\n",
    "y = sub_dic_gp['Total'][\"Search Vol\"]\n",
    "\n",
    "lin_reg = sm.OLS(y, X)\n",
    "results_total = lin_reg.fit()\n",
    "\n",
    "results_total.summary()"
   ]
  },
  {
   "cell_type": "code",
   "execution_count": null,
   "metadata": {},
   "outputs": [],
   "source": [
    "sub_dic_gp['Total'] = sub_dic_gp['Total'].assign(y_hat=results_total.predict(X))\n",
    "\n",
    "plt.figure(figsize=(15,5))\n",
    "    \n",
    "sns.scatterplot(data=sub_dic_gp['Total'], \n",
    "                x='t', \n",
    "                y='Search Vol');\n",
    "\n",
    "sns.lineplot(data=sub_dic_gp['Total'],\n",
    "             x='t',\n",
    "             y=\"y_hat\",\n",
    "             color=\"green\");"
   ]
  },
  {
   "cell_type": "code",
   "execution_count": null,
   "metadata": {},
   "outputs": [],
   "source": [
    "# Run OLS\n",
    "lin_reg = sm.OLS(sub_dic_gp['Total'][\"Date\"],\n",
    "                 sub_dic_gp['Total'][['const', 'Search Vol']])\n",
    "\n",
    "result = lin_reg.fit()\n",
    "\n",
    "corr = sm.add_constant(corr)\n",
    "corr.head()\n",
    "\n",
    "# Run OLS\n",
    "lin_reg = sm.OLS(corr[\"Search Vol (avge)\"],\n",
    "                 corr[[\"const\", \"Number of templates\"]])\n",
    "\n",
    "result = lin_reg.fit()\n",
    "\n",
    "result.summary()\n",
    "# result.summary()"
   ]
  },
  {
   "cell_type": "code",
   "execution_count": null,
   "metadata": {},
   "outputs": [],
   "source": [
    "plt.figure(figsize=(15,5))\n",
    "    \n",
    "    # Create a graph with the total volume of searches\n",
    "ax = sns.lineplot(data=sub_dic_gp['Total'], \n",
    "                  x='Date', \n",
    "                  y='Search Vol',)\n",
    "\n",
    "ax = sns.regplot(data=sub_dic_gp['Total'], \n",
    "                  x='Date', \n",
    "                  y='Search Vol',)"
   ]
  },
  {
   "cell_type": "code",
   "execution_count": null,
   "metadata": {},
   "outputs": [],
   "source": [
    "# Find if there is a correlation between 'Templates' that Canva is offering and 'Search Vol' \n",
    "# We will be able to do a linear regression\n",
    "# Statistical analysis"
   ]
  },
  {
   "cell_type": "markdown",
   "metadata": {},
   "source": [
    "### 'Search Vol' vs. # 'Template '\n",
    "\n",
    "Is there a correlation between the Search Vol for the Keywords assigned to the category and the number of templates that Canva is offering? Is it statistically significant?"
   ]
  },
  {
   "cell_type": "code",
   "execution_count": null,
   "metadata": {},
   "outputs": [],
   "source": [
    "corr = pd.DataFrame(columns=['Sub-Category', 'Search Vol (avge)', 'Number of templates'])\n",
    "\n",
    "corr['Sub-Category'] = sub_dic.keys()\n",
    "corr['Search Vol (avge)'] = [int(sub_dic[sub]['Search Vol'].mean()) for sub in sub_dic]\n",
    "corr['Number of templates'] = [int(sub_dic[sub]['Number of templates'].mean()) for sub in sub_dic]\n",
    "\n",
    "corr"
   ]
  },
  {
   "cell_type": "code",
   "execution_count": null,
   "metadata": {},
   "outputs": [],
   "source": [
    "# Scatter plot to infere if it makes sense to calculate the fitted line\n",
    "plt.figure(figsize=(15,5))\n",
    "    \n",
    "sns.scatterplot(data=corr, \n",
    "                x='Number of templates', \n",
    "                y='Search Vol (avge)',\n",
    "                hue='Sub-Category');"
   ]
  },
  {
   "cell_type": "code",
   "execution_count": null,
   "metadata": {},
   "outputs": [],
   "source": [
    "# See if there is a correlation between the two variables\n",
    "corr = sm.add_constant(corr)\n",
    "corr.head()\n",
    "\n",
    "# Run OLS\n",
    "lin_reg = sm.OLS(corr[\"Search Vol (avge)\"],\n",
    "                 corr[[\"const\", \"Number of templates\"]])\n",
    "\n",
    "result = lin_reg.fit()\n",
    "\n",
    "result.summary()"
   ]
  },
  {
   "cell_type": "code",
   "execution_count": null,
   "metadata": {},
   "outputs": [],
   "source": [
    "corr = corr.assign(y_hat=result.predict(corr[[\"const\", \"Number of templates\"]]))"
   ]
  },
  {
   "cell_type": "code",
   "execution_count": null,
   "metadata": {},
   "outputs": [],
   "source": [
    "plt.figure(figsize=(15,5))\n",
    "    \n",
    "sns.scatterplot(data=corr, \n",
    "                x='Number of templates', \n",
    "                y='Search Vol (avge)',\n",
    "                hue='Sub-Category');\n",
    "\n",
    "sns.lineplot(data=corr,\n",
    "             x='Number of templates',\n",
    "             y=\"y_hat\",\n",
    "             color=\"g\");"
   ]
  },
  {
   "cell_type": "markdown",
   "metadata": {},
   "source": [
    "---------------------------------------------------"
   ]
  },
  {
   "cell_type": "markdown",
   "metadata": {},
   "source": [
    "## Bonus"
   ]
  },
  {
   "cell_type": "markdown",
   "metadata": {},
   "source": [
    "1. Try to get the data with requests. Now it is hardcoded\n",
    "2. Segment the subcategories by categories\n"
   ]
  },
  {
   "cell_type": "code",
   "execution_count": null,
   "metadata": {},
   "outputs": [],
   "source": [
    "pd.DataFrame(columns=[\"Subcategory\", \"Categoty\"])"
   ]
  },
  {
   "cell_type": "code",
   "execution_count": null,
   "metadata": {},
   "outputs": [],
   "source": [
    "headers = {'authority': 'www.canva.com',\n",
    "'method': 'GET',\n",
    "'path': '/create-a-design',\n",
    "'scheme': 'https',\n",
    "'accept': 'text/html,application/xhtml+xml,application/xml;q=0.9,image/webp,image/apng,*/*;q=0.8,application/signed-exchange;v=b3;q=0.9',\n",
    "'accept-encoding': 'gzip, deflate, br',\n",
    "'accept-language': 'en-US,en;q=0.9',\n",
    "'cache-control': 'max-age=0',\n",
    "'cookie': '__cfduid=dac51796841329b70661ebd07a4b3a8901591811643; CDI=888a9880-c327-4479-8e8b-9ba1da774a1a; CL=es-ES; ajs_group_id=null; ajs_anonymous_id=%22c1a4a653-107a-4341-b28e-dcdaf8b30169%22; _gcl_au=1.1.1259495208.1591811645; _ga=GA1.2.1022411617.1591811645; ab.storage.deviceId.320f7332-8571-45d7-b342-c54192dae547=%7B%22g%22%3A%223abc1a29-8121-d7ca-340a-f31fe27706a3%22%2C%22c%22%3A1591811645287%2C%22l%22%3A1591811645287%7D; _fbp=fb.1.1591811645414.41094145; CB=BADs5VlD2Bg; CS=1; ajs_user_id=%22UADs5dLCEjE%22; ab.storage.userId.320f7332-8571-45d7-b342-c54192dae547=%7B%22g%22%3A%22UADs5dLCEjE%22%2C%22c%22%3A1591811662791%2C%22l%22%3A1591811662791%7D; __stripe_mid=c81db500-bdf2-487a-a5ad-75ae9d22e99b; campaignTracker=CareersPage; _gid=GA1.2.1025166503.1593962736; CAZ=boxflnJsf51aH3f71XiopuK3CrO8cuyuw5GrquQTD0tB_GJG-s5RmTzX-G-dXfiWHRCZV2y7VciCP03NELbLJ5tNINCVqYopTdPp0n1kjTsxTykxlMMcONC6yL8Y-FDGr_yr6PwliRtGM8McXtxwoy1TY6qBhoKyCphBLIBg2ZpjJl5yTfHNdwnStMjDlJ3luXbDPF02J0GO2pQyiKvgMEIGohhRP54XtaKNrSHHpJtTRM9sTt1hjHgd-IUrOPEYDT0pS96LxcX1wRC_LrECNorvyQy6aQsWTstopMKSvJ6ZnbLh5Yu_5gWDcAUa2n1TkZI1zqHu_F_hQhTmOAH-60UskCnfkFHNa2UPQTkgbET9KsrE2cYhKWV3xrlh11zJSXjSK5KeRyurWLo6gkgcbxyOJhSs-eep2K7J4WC1MXUqUW2czm-NS4PZ8FTK-iEpBPpLp9vyMuSIFBR1q2pNKXYwZZRLhsmXAqYCvBsxUq-YdsJnftP06QLiyTJv_myWKX4n35ye1qsiuvQ9slYH6CrBfptmNSUFjK3ShZzrjCRiM2D4S9IfuEHizzp-C5cw8peDgnmIozjPZ4iaY-Nj0hDqvm1NNjb7KXarqVcH3B0xWoVKTP8ViM5hHDzvkHYx32EEr6vzsNQCowgbU09xZRHBkexnW-TRF2yvzAGrok4_SIrDZNXJgpFmC1kIj4bpzjtWgP12DVlh5Ozg-tXEtgTloa2SL0mSHchEG3N0FKcrc-3w; CID=_FTzF4vDbEzgzTdotlrRYpAVj_CG6qR2E5VkUbDA7N18UAf-k8DFGqh9ph_dViSM4aeyHv7RoKZ_MV12GlLN6znSv0OJoIst4JvST3qqAnKSVf72; CUI=RAVzK9FjV4qqVyq91U-AAcoMQOJY2LUfEowvOApAtSrMP9gIZpgZhHuTSb6HcZB_5HKR3w; _uetsid=76b9bd64-a296-63f2-c087-1570adb8bf21; _uetvid=233327d4-113a-e5a7-fd6f-b7cabb771c47; ab.storage.sessionId.320f7332-8571-45d7-b342-c54192dae547=%7B%22g%22%3A%22939a268b-0650-81f9-ceb0-7ab6c1e10c12%22%2C%22e%22%3A1594023258512%2C%22c%22%3A1594020164402%2C%22l%22%3A1594021458512%7D',\n",
    "'sec-fetch-dest': 'document',\n",
    "'sec-fetch-mode': 'navigate',\n",
    "'sec-fetch-site': 'none',\n",
    "'sec-fetch-user': '?1',\n",
    "'upgrade-insecure-requests': '1',\n",
    "'user-agent': 'Mozilla/5.0 (Macintosh; Intel Mac OS X 10_13_6) AppleWebKit/537.36 (KHTML, like Gecko) Chrome/83.0.4103.116 Safari/537.36',\n",
    "'token': '...'}\n"
   ]
  },
  {
   "cell_type": "code",
   "execution_count": null,
   "metadata": {},
   "outputs": [],
   "source": [
    "soup.select('div', {'id':'genre-video'})\n",
    "\n",
    "# soup2 = bs(subset, 'html.parser')\n",
    "\n",
    "# soup2.find_all('p', {'class':'MpjE4w bSncsg n9zSJA ZTpOuQ u9XXAg HnhAQA l1bE7Q mNfh2Q'})\n",
    "\n",
    "#for cat in subCat_list:\n",
    "#    sub_cat.append(cat.text)\n",
    "\n",
    "#        for card in soup.select(\"div.result-card__contents\"):\n",
    " #           title = card.findChild(\"h3\", recursive=False)\n",
    "  #          company = card.findChild(\"h4\", recursive=False)\n",
    "   #         location = card.findChild(\"span\", attrs={\"class\": \"job-result-card__location\"}, recursive=True)\n",
    "    #        titles.append(title.string)\n",
    "     #       companies.append(company.string)\n",
    "      #      locations.append(location.string)"
   ]
  },
  {
   "cell_type": "code",
   "execution_count": null,
   "metadata": {},
   "outputs": [],
   "source": [
    "#video = soup.find_all('div', {'class': 'K1bdNw ElK36A eGNjaw RTlscw'})\n",
    "\n",
    "#[category.find('p', {'class': 'MpjE4w bSncsg n9zSJA ZTpOuQ u9XXAg HnhAQA l1bE7Q mNfh2Q'}).text for category in video]\n",
    "    \n",
    "#video_list = []\n",
    "#for vid_cat in video:\n",
    "#    video_list.append(vid_cat.text)\n",
    "    \n",
    "#video_list "
   ]
  },
  {
   "cell_type": "code",
   "execution_count": null,
   "metadata": {},
   "outputs": [],
   "source": [
    "### LEGACY CODE\n",
    "# Create DataFrame where we will combine the subcategory info\n",
    "#tem = pd.DataFrame(columns=['Subcategory', 'Category'])\n",
    "\n",
    "## MVP version\n",
    "#categories = {'Documents': ['Presentation', 'A4 Document', 'Letter', 'Letterhead', 'Resume', 'Presentation (4:3)', 'Report', 'Daily Report', 'Memo', 'Invoice']}\n",
    "\n",
    "#documents = pd.DataFrame(columns=['Subcategory', 'Category'])\n",
    "#documents['Subcategory'] = ['Presentation', 'A4 Document', 'Letter', 'Letterhead', 'Resume', 'Presentation (4:3)', 'Report', 'Daily Report', 'Memo', 'Invoice']\n",
    "#documents['Category'] = 'Documents'\n",
    "#documents\n",
    "\n",
    "# Create a dictionary with the cat - sub_cat relation\n",
    "### (BONUS) scrape it\n",
    "\n",
    "# Populate Subcategory Series\n",
    "#tem['Subcategory'] = list(set(sub_cat))\n",
    "\n",
    "#tem[tem['Subcategory'] in categories.values()]\n",
    "\n",
    "### LEGACY CODE\n",
    "# Dictionary with keyword that is being evaluated per each subcategory 'sub'\n",
    "sub_dic = {'presentation': 'presentation template',\n",
    "           'a_4': 'A4 template',\n",
    "           'letter': 'letter template' ,\n",
    "           'letterhead': 'letterhead template',\n",
    "           'resume': 'resume template',\n",
    "           'presentation_4_3': '4:3 template',\n",
    "           'report': 'report template',\n",
    "           'daily_report': 'daily report template',\n",
    "           'memo': 'memo template',\n",
    "           'invoice': 'invoice template'}\n",
    "\n",
    "for sub in cats['Sub-category']:\n",
    "    sub_dic.update({sub: sub + \" template\"})\n",
    "\n",
    "# Create a list with the keys\n",
    "clean_list = sub_dic.keys()\n",
    "\n",
    "for category in sub_dic:\n",
    "    sub_dic[category] = get_trend(sub_dic[category])\n",
    "    \n",
    "# LEGACY CODE\n",
    "#presentation = get_trend(clean_dic['presentation'])\n",
    "#a4 = get_trend(clean_dic['a4'])\n",
    "#letter = get_trend(clean_dic['letter'])\n",
    "#letterhead = get_trend(clean_dic['letterhead'])\n",
    "#resume = get_trend(clean_dic['resume'])\n",
    "#presentation_4_3 = get_trend(clean_dic['presentation_4_3'])\n",
    "#report = get_trend(clean_dic['report'])\n",
    "#daily_report = get_trend(clean_dic['daily_report'])\n",
    "#memo = get_trend(clean_dic['memo'])\n",
    "#invoice = get_trend(clean_dic['invoice'])"
   ]
  }
 ],
 "metadata": {
  "kernelspec": {
   "display_name": "Python 3",
   "language": "python",
   "name": "python3"
  },
  "language_info": {
   "codemirror_mode": {
    "name": "ipython",
    "version": 3
   },
   "file_extension": ".py",
   "mimetype": "text/x-python",
   "name": "python",
   "nbconvert_exporter": "python",
   "pygments_lexer": "ipython3",
   "version": "3.8.3"
  }
 },
 "nbformat": 4,
 "nbformat_minor": 4
}
